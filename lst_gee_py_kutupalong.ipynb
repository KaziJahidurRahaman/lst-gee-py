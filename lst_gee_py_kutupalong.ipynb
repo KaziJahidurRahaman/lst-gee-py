{
  "nbformat": 4,
  "nbformat_minor": 0,
  "metadata": {
    "colab": {
      "provenance": [],
      "include_colab_link": true
    },
    "kernelspec": {
      "name": "python3",
      "display_name": "Python 3"
    },
    "language_info": {
      "name": "python"
    },
    "widgets": {
      "application/vnd.jupyter.widget-state+json": {
        "9656a1d6b08140b8b9865633651c8825": {
          "model_module": "jupyter-leaflet",
          "model_name": "LeafletMapModel",
          "model_module_version": "^0.17",
          "state": {
            "_dom_classes": [],
            "_model_module": "jupyter-leaflet",
            "_model_module_version": "^0.17",
            "_model_name": "LeafletMapModel",
            "_view_count": null,
            "_view_module": "jupyter-leaflet",
            "_view_module_version": "^0.17",
            "_view_name": "LeafletMapView",
            "bottom": 115571,
            "bounce_at_zoom_limits": true,
            "box_zoom": true,
            "center": [
              21.198233064130157,
              92.15051686742379
            ],
            "close_popup_on_click": true,
            "controls": [
              "IPY_MODEL_6bcf4d2ec97746eb9e6a89727d288ded",
              "IPY_MODEL_f62422f1f3424032ae652b4c38358400",
              "IPY_MODEL_6625e2da9587439fa6faa1a04169679a",
              "IPY_MODEL_d96a8a20940542c89f9278edafbdb2ed",
              "IPY_MODEL_6cdcb45ba1014c6c8794024dcac1fab8",
              "IPY_MODEL_c2ae473cd6b14cca8f160472db384c1c",
              "IPY_MODEL_060f4999db0e447a8c58afd53f5aaee2",
              "IPY_MODEL_46b1a161bdb342ef994311836968b9a8",
              "IPY_MODEL_6649659a7ec44a6ba52ec1dcb7225535"
            ],
            "crs": {
              "name": "EPSG3857",
              "custom": false
            },
            "default_style": "IPY_MODEL_a74793d1119b4d03a5133f30159e008e",
            "double_click_zoom": true,
            "dragging": true,
            "dragging_style": "IPY_MODEL_4d665145d353424c9c12c45a096f193a",
            "east": 93.11874389648438,
            "fullscreen": false,
            "inertia": true,
            "inertia_deceleration": 3000,
            "inertia_max_speed": 1500,
            "interpolation": "bilinear",
            "keyboard": true,
            "keyboard_pan_offset": 80,
            "keyboard_zoom_offset": 1,
            "layers": [
              "IPY_MODEL_15416609f3554ccd948de490068bb887",
              "IPY_MODEL_6c9436fe305341fd9f5ebb9583e85ae6",
              "IPY_MODEL_13f553edd61c435f8290e14a54496f90"
            ],
            "layout": "IPY_MODEL_14733cc5333d4d8186621ee40bd36ebd",
            "left": 197469,
            "max_zoom": 24,
            "min_zoom": null,
            "modisdate": "2022-12-07",
            "north": 21.582104130852045,
            "options": [
              "bounce_at_zoom_limits",
              "box_zoom",
              "center",
              "close_popup_on_click",
              "double_click_zoom",
              "dragging",
              "fullscreen",
              "inertia",
              "inertia_deceleration",
              "inertia_max_speed",
              "interpolation",
              "keyboard",
              "keyboard_pan_offset",
              "keyboard_zoom_offset",
              "max_zoom",
              "min_zoom",
              "prefer_canvas",
              "scroll_wheel_zoom",
              "tap",
              "tap_tolerance",
              "touch_zoom",
              "world_copy_jump",
              "zoom",
              "zoom_animation_threshold",
              "zoom_delta",
              "zoom_snap"
            ],
            "panes": {},
            "prefer_canvas": false,
            "right": 198879,
            "scroll_wheel_zoom": true,
            "south": 20.81389006066187,
            "style": "IPY_MODEL_a74793d1119b4d03a5133f30159e008e",
            "tap": true,
            "tap_tolerance": 15,
            "top": 114971,
            "touch_zoom": true,
            "west": 91.18240356445314,
            "window_url": "https://1zszq4ak1x5-496ff2e9c6d22116-0-colab.googleusercontent.com/outputframe.html?vrz=colab-20221206-060108-RC00_493246498",
            "world_copy_jump": false,
            "zoom": 10,
            "zoom_animation_threshold": 4,
            "zoom_delta": 1,
            "zoom_snap": 1
          }
        },
        "6bcf4d2ec97746eb9e6a89727d288ded": {
          "model_module": "jupyter-leaflet",
          "model_name": "LeafletWidgetControlModel",
          "model_module_version": "^0.17",
          "state": {
            "_model_module": "jupyter-leaflet",
            "_model_module_version": "^0.17",
            "_model_name": "LeafletWidgetControlModel",
            "_view_count": null,
            "_view_module": "jupyter-leaflet",
            "_view_module_version": "^0.17",
            "_view_name": "LeafletWidgetControlView",
            "max_height": null,
            "max_width": null,
            "min_height": null,
            "min_width": null,
            "options": [
              "position",
              "transparent_bg"
            ],
            "position": "topleft",
            "transparent_bg": false,
            "widget": "IPY_MODEL_792a4543c2d14da09643f259cd1b5495"
          }
        },
        "f62422f1f3424032ae652b4c38358400": {
          "model_module": "jupyter-leaflet",
          "model_name": "LeafletZoomControlModel",
          "model_module_version": "^0.17",
          "state": {
            "_model_module": "jupyter-leaflet",
            "_model_module_version": "^0.17",
            "_model_name": "LeafletZoomControlModel",
            "_view_count": null,
            "_view_module": "jupyter-leaflet",
            "_view_module_version": "^0.17",
            "_view_name": "LeafletZoomControlView",
            "options": [
              "position",
              "zoom_in_text",
              "zoom_in_title",
              "zoom_out_text",
              "zoom_out_title"
            ],
            "position": "topleft",
            "zoom_in_text": "+",
            "zoom_in_title": "Zoom in",
            "zoom_out_text": "-",
            "zoom_out_title": "Zoom out"
          }
        },
        "6625e2da9587439fa6faa1a04169679a": {
          "model_module": "jupyter-leaflet",
          "model_name": "LeafletScaleControlModel",
          "model_module_version": "^0.17",
          "state": {
            "_model_module": "jupyter-leaflet",
            "_model_module_version": "^0.17",
            "_model_name": "LeafletScaleControlModel",
            "_view_count": null,
            "_view_module": "jupyter-leaflet",
            "_view_module_version": "^0.17",
            "_view_name": "LeafletScaleControlView",
            "imperial": true,
            "max_width": 100,
            "metric": true,
            "options": [
              "imperial",
              "max_width",
              "metric",
              "position",
              "update_when_idle"
            ],
            "position": "bottomleft",
            "update_when_idle": false
          }
        },
        "d96a8a20940542c89f9278edafbdb2ed": {
          "model_module": "jupyter-leaflet",
          "model_name": "LeafletFullScreenControlModel",
          "model_module_version": "^0.17",
          "state": {
            "_model_module": "jupyter-leaflet",
            "_model_module_version": "^0.17",
            "_model_name": "LeafletFullScreenControlModel",
            "_view_count": null,
            "_view_module": "jupyter-leaflet",
            "_view_module_version": "^0.17",
            "_view_name": "LeafletFullScreenControlView",
            "options": [
              "position"
            ],
            "position": "topleft"
          }
        },
        "6cdcb45ba1014c6c8794024dcac1fab8": {
          "model_module": "jupyter-leaflet",
          "model_name": "LeafletMeasureControlModel",
          "model_module_version": "^0.17",
          "state": {
            "_custom_units": {},
            "_model_module": "jupyter-leaflet",
            "_model_module_version": "^0.17",
            "_model_name": "LeafletMeasureControlModel",
            "_view_count": null,
            "_view_module": "jupyter-leaflet",
            "_view_module_version": "^0.17",
            "_view_name": "LeafletMeasureControlView",
            "active_color": "orange",
            "capture_z_index": 10000,
            "completed_color": "#C8F2BE",
            "options": [
              "active_color",
              "capture_z_index",
              "completed_color",
              "popup_options",
              "position",
              "primary_area_unit",
              "primary_length_unit",
              "secondary_area_unit",
              "secondary_length_unit"
            ],
            "popup_options": {
              "className": "leaflet-measure-resultpopup",
              "autoPanPadding": [
                10,
                10
              ]
            },
            "position": "bottomleft",
            "primary_area_unit": "acres",
            "primary_length_unit": "kilometers",
            "secondary_area_unit": null,
            "secondary_length_unit": null
          }
        },
        "c2ae473cd6b14cca8f160472db384c1c": {
          "model_module": "jupyter-leaflet",
          "model_name": "LeafletAttributionControlModel",
          "model_module_version": "^0.17",
          "state": {
            "_model_module": "jupyter-leaflet",
            "_model_module_version": "^0.17",
            "_model_name": "LeafletAttributionControlModel",
            "_view_count": null,
            "_view_module": "jupyter-leaflet",
            "_view_module_version": "^0.17",
            "_view_name": "LeafletAttributionControlView",
            "options": [
              "position",
              "prefix"
            ],
            "position": "bottomright",
            "prefix": "ipyleaflet"
          }
        },
        "060f4999db0e447a8c58afd53f5aaee2": {
          "model_module": "jupyter-leaflet",
          "model_name": "LeafletDrawControlModel",
          "model_module_version": "^0.17",
          "state": {
            "_model_module": "jupyter-leaflet",
            "_model_module_version": "^0.17",
            "_model_name": "LeafletDrawControlModel",
            "_view_count": null,
            "_view_module": "jupyter-leaflet",
            "_view_module_version": "^0.17",
            "_view_name": "LeafletDrawControlView",
            "circle": {
              "shapeOptions": {
                "color": "#3388ff"
              }
            },
            "circlemarker": {},
            "data": [],
            "edit": true,
            "marker": {
              "shapeOptions": {
                "color": "#3388ff"
              }
            },
            "options": [
              "position"
            ],
            "polygon": {
              "shapeOptions": {}
            },
            "polyline": {
              "shapeOptions": {}
            },
            "position": "topleft",
            "rectangle": {
              "shapeOptions": {
                "color": "#3388ff"
              }
            },
            "remove": true
          }
        },
        "46b1a161bdb342ef994311836968b9a8": {
          "model_module": "jupyter-leaflet",
          "model_name": "LeafletWidgetControlModel",
          "model_module_version": "^0.17",
          "state": {
            "_model_module": "jupyter-leaflet",
            "_model_module_version": "^0.17",
            "_model_name": "LeafletWidgetControlModel",
            "_view_count": null,
            "_view_module": "jupyter-leaflet",
            "_view_module_version": "^0.17",
            "_view_name": "LeafletWidgetControlView",
            "max_height": null,
            "max_width": null,
            "min_height": null,
            "min_width": null,
            "options": [
              "position",
              "transparent_bg"
            ],
            "position": "topright",
            "transparent_bg": false,
            "widget": "IPY_MODEL_551b61c6b1e340aabf07e2b549425ba9"
          }
        },
        "a74793d1119b4d03a5133f30159e008e": {
          "model_module": "jupyter-leaflet",
          "model_name": "LeafletMapStyleModel",
          "model_module_version": "^0.17",
          "state": {
            "_model_module": "jupyter-leaflet",
            "_model_module_version": "^0.17",
            "_model_name": "LeafletMapStyleModel",
            "_view_count": null,
            "_view_module": "@jupyter-widgets/base",
            "_view_module_version": "1.2.0",
            "_view_name": "StyleView",
            "cursor": "grab"
          }
        },
        "4d665145d353424c9c12c45a096f193a": {
          "model_module": "jupyter-leaflet",
          "model_name": "LeafletMapStyleModel",
          "model_module_version": "^0.17",
          "state": {
            "_model_module": "jupyter-leaflet",
            "_model_module_version": "^0.17",
            "_model_name": "LeafletMapStyleModel",
            "_view_count": null,
            "_view_module": "@jupyter-widgets/base",
            "_view_module_version": "1.2.0",
            "_view_name": "StyleView",
            "cursor": "move"
          }
        },
        "ab1b91aaec87451fa135b02d1f73dba7": {
          "model_module": "jupyter-leaflet",
          "model_name": "LeafletTileLayerModel",
          "model_module_version": "^0.17",
          "state": {
            "_model_module": "jupyter-leaflet",
            "_model_module_version": "^0.17",
            "_model_name": "LeafletTileLayerModel",
            "_view_count": null,
            "_view_module": "jupyter-leaflet",
            "_view_module_version": "^0.17",
            "_view_name": "LeafletTileLayerView",
            "attribution": "&copy; <a href=\"https://www.openstreetmap.org/copyright\">OpenStreetMap</a> contributors",
            "base": true,
            "bottom": true,
            "bounds": null,
            "detect_retina": false,
            "loading": false,
            "max_native_zoom": null,
            "max_zoom": 19,
            "min_native_zoom": null,
            "min_zoom": 1,
            "name": "OpenStreetMap.Mapnik",
            "no_wrap": false,
            "opacity": 1,
            "options": [
              "attribution",
              "bounds",
              "detect_retina",
              "max_native_zoom",
              "max_zoom",
              "min_native_zoom",
              "min_zoom",
              "no_wrap",
              "tile_size",
              "tms",
              "zoom_offset"
            ],
            "pane": "",
            "popup": null,
            "popup_max_height": null,
            "popup_max_width": 300,
            "popup_min_width": 50,
            "show_loading": false,
            "subitems": [],
            "tile_size": 256,
            "tms": false,
            "url": "https://tile.openstreetmap.org/{z}/{x}/{y}.png",
            "visible": true,
            "zoom_offset": 0
          }
        },
        "471411192549469a80831d4b280b3d68": {
          "model_module": "jupyter-leaflet",
          "model_name": "LeafletTileLayerModel",
          "model_module_version": "^0.17",
          "state": {
            "_model_module": "jupyter-leaflet",
            "_model_module_version": "^0.17",
            "_model_name": "LeafletTileLayerModel",
            "_view_count": null,
            "_view_module": "jupyter-leaflet",
            "_view_module_version": "^0.17",
            "_view_name": "LeafletTileLayerView",
            "attribution": "Google",
            "base": false,
            "bottom": true,
            "bounds": null,
            "detect_retina": false,
            "loading": false,
            "max_native_zoom": null,
            "max_zoom": 22,
            "min_native_zoom": null,
            "min_zoom": 0,
            "name": "Google Maps",
            "no_wrap": false,
            "opacity": 1,
            "options": [
              "attribution",
              "bounds",
              "detect_retina",
              "max_native_zoom",
              "max_zoom",
              "min_native_zoom",
              "min_zoom",
              "no_wrap",
              "tile_size",
              "tms",
              "zoom_offset"
            ],
            "pane": "",
            "popup": null,
            "popup_max_height": null,
            "popup_max_width": 300,
            "popup_min_width": 50,
            "show_loading": false,
            "subitems": [],
            "tile_size": 256,
            "tms": false,
            "url": "https://mt1.google.com/vt/lyrs=m&x={x}&y={y}&z={z}",
            "visible": true,
            "zoom_offset": 0
          }
        },
        "bd928a1038204bcba79fdcbdfc1d6d15": {
          "model_module": "jupyter-leaflet",
          "model_name": "LeafletTileLayerModel",
          "model_module_version": "^0.17",
          "state": {
            "_model_module": "jupyter-leaflet",
            "_model_module_version": "^0.17",
            "_model_name": "LeafletTileLayerModel",
            "_view_count": null,
            "_view_module": "jupyter-leaflet",
            "_view_module_version": "^0.17",
            "_view_name": "LeafletTileLayerView",
            "attribution": "Google Earth Engine",
            "base": false,
            "bottom": true,
            "bounds": null,
            "detect_retina": false,
            "loading": false,
            "max_native_zoom": null,
            "max_zoom": 24,
            "min_native_zoom": null,
            "min_zoom": 0,
            "name": "AOI",
            "no_wrap": false,
            "opacity": 1,
            "options": [
              "attribution",
              "bounds",
              "detect_retina",
              "max_native_zoom",
              "max_zoom",
              "min_native_zoom",
              "min_zoom",
              "no_wrap",
              "tile_size",
              "tms",
              "zoom_offset"
            ],
            "pane": "",
            "popup": null,
            "popup_max_height": null,
            "popup_max_width": 300,
            "popup_min_width": 50,
            "show_loading": false,
            "subitems": [],
            "tile_size": 256,
            "tms": false,
            "url": "https://earthengine.googleapis.com/v1alpha/projects/earthengine-legacy/maps/c2ebf77169234681a2903a84462283a0-232335e4ab68762ef24d7393e26ba3aa/tiles/{z}/{x}/{y}",
            "visible": true,
            "zoom_offset": 0
          }
        },
        "14733cc5333d4d8186621ee40bd36ebd": {
          "model_module": "@jupyter-widgets/base",
          "model_name": "LayoutModel",
          "model_module_version": "1.2.0",
          "state": {
            "_model_module": "@jupyter-widgets/base",
            "_model_module_version": "1.2.0",
            "_model_name": "LayoutModel",
            "_view_count": null,
            "_view_module": "@jupyter-widgets/base",
            "_view_module_version": "1.2.0",
            "_view_name": "LayoutView",
            "align_content": null,
            "align_items": null,
            "align_self": null,
            "border": null,
            "bottom": null,
            "display": null,
            "flex": null,
            "flex_flow": null,
            "grid_area": null,
            "grid_auto_columns": null,
            "grid_auto_flow": null,
            "grid_auto_rows": null,
            "grid_column": null,
            "grid_gap": null,
            "grid_row": null,
            "grid_template_areas": null,
            "grid_template_columns": null,
            "grid_template_rows": null,
            "height": "600px",
            "justify_content": null,
            "justify_items": null,
            "left": null,
            "margin": null,
            "max_height": null,
            "max_width": null,
            "min_height": null,
            "min_width": null,
            "object_fit": null,
            "object_position": null,
            "order": null,
            "overflow": null,
            "overflow_x": null,
            "overflow_y": null,
            "padding": null,
            "right": null,
            "top": null,
            "visibility": null,
            "width": null
          }
        },
        "718f8fa82c224457aaffa73a29814297": {
          "model_module": "jupyter-leaflet",
          "model_name": "LeafletMapStyleModel",
          "model_module_version": "^0.17",
          "state": {
            "_model_module": "jupyter-leaflet",
            "_model_module_version": "^0.17",
            "_model_name": "LeafletMapStyleModel",
            "_view_count": null,
            "_view_module": "@jupyter-widgets/base",
            "_view_module_version": "1.2.0",
            "_view_name": "StyleView",
            "cursor": "grab"
          }
        },
        "792a4543c2d14da09643f259cd1b5495": {
          "model_module": "@jupyter-widgets/controls",
          "model_name": "HBoxModel",
          "model_module_version": "1.5.0",
          "state": {
            "_dom_classes": [],
            "_model_module": "@jupyter-widgets/controls",
            "_model_module_version": "1.5.0",
            "_model_name": "HBoxModel",
            "_view_count": null,
            "_view_module": "@jupyter-widgets/controls",
            "_view_module_version": "1.5.0",
            "_view_name": "HBoxView",
            "box_style": "",
            "children": [
              "IPY_MODEL_158089fa456146598dad6d68d0cee494"
            ],
            "layout": "IPY_MODEL_e424d9c35b7045c2bd11a28ef3a60d5f"
          }
        },
        "551b61c6b1e340aabf07e2b549425ba9": {
          "model_module": "@jupyter-widgets/controls",
          "model_name": "VBoxModel",
          "model_module_version": "1.5.0",
          "state": {
            "_dom_classes": [],
            "_model_module": "@jupyter-widgets/controls",
            "_model_module_version": "1.5.0",
            "_model_name": "VBoxModel",
            "_view_count": null,
            "_view_module": "@jupyter-widgets/controls",
            "_view_module_version": "1.5.0",
            "_view_name": "VBoxView",
            "box_style": "",
            "children": [
              "IPY_MODEL_765b5caf5729427196b03c56ca355205"
            ],
            "layout": "IPY_MODEL_0b5b85a8d4654e559b5014cfdd9a28e7"
          }
        },
        "158089fa456146598dad6d68d0cee494": {
          "model_module": "@jupyter-widgets/controls",
          "model_name": "ToggleButtonModel",
          "model_module_version": "1.5.0",
          "state": {
            "_dom_classes": [],
            "_model_module": "@jupyter-widgets/controls",
            "_model_module_version": "1.5.0",
            "_model_name": "ToggleButtonModel",
            "_view_count": null,
            "_view_module": "@jupyter-widgets/controls",
            "_view_module_version": "1.5.0",
            "_view_name": "ToggleButtonView",
            "button_style": "",
            "description": "",
            "description_tooltip": null,
            "disabled": false,
            "icon": "globe",
            "layout": "IPY_MODEL_2b0c8c7159254877bce3a36b3f41028c",
            "style": "IPY_MODEL_68efe81738ce4b8ebb3721160341cada",
            "tooltip": "Search location/data",
            "value": false
          }
        },
        "e424d9c35b7045c2bd11a28ef3a60d5f": {
          "model_module": "@jupyter-widgets/base",
          "model_name": "LayoutModel",
          "model_module_version": "1.2.0",
          "state": {
            "_model_module": "@jupyter-widgets/base",
            "_model_module_version": "1.2.0",
            "_model_name": "LayoutModel",
            "_view_count": null,
            "_view_module": "@jupyter-widgets/base",
            "_view_module_version": "1.2.0",
            "_view_name": "LayoutView",
            "align_content": null,
            "align_items": null,
            "align_self": null,
            "border": null,
            "bottom": null,
            "display": null,
            "flex": null,
            "flex_flow": null,
            "grid_area": null,
            "grid_auto_columns": null,
            "grid_auto_flow": null,
            "grid_auto_rows": null,
            "grid_column": null,
            "grid_gap": null,
            "grid_row": null,
            "grid_template_areas": null,
            "grid_template_columns": null,
            "grid_template_rows": null,
            "height": null,
            "justify_content": null,
            "justify_items": null,
            "left": null,
            "margin": null,
            "max_height": null,
            "max_width": null,
            "min_height": null,
            "min_width": null,
            "object_fit": null,
            "object_position": null,
            "order": null,
            "overflow": null,
            "overflow_x": null,
            "overflow_y": null,
            "padding": null,
            "right": null,
            "top": null,
            "visibility": null,
            "width": null
          }
        },
        "765b5caf5729427196b03c56ca355205": {
          "model_module": "@jupyter-widgets/controls",
          "model_name": "ToggleButtonModel",
          "model_module_version": "1.5.0",
          "state": {
            "_dom_classes": [],
            "_model_module": "@jupyter-widgets/controls",
            "_model_module_version": "1.5.0",
            "_model_name": "ToggleButtonModel",
            "_view_count": null,
            "_view_module": "@jupyter-widgets/controls",
            "_view_module_version": "1.5.0",
            "_view_name": "ToggleButtonView",
            "button_style": "",
            "description": "",
            "description_tooltip": null,
            "disabled": false,
            "icon": "wrench",
            "layout": "IPY_MODEL_95d7b0e00e8542c4b2fd11699464aebf",
            "style": "IPY_MODEL_43a036d99caa43a39e45217de1fff17e",
            "tooltip": "Toolbar",
            "value": false
          }
        },
        "0b5b85a8d4654e559b5014cfdd9a28e7": {
          "model_module": "@jupyter-widgets/base",
          "model_name": "LayoutModel",
          "model_module_version": "1.2.0",
          "state": {
            "_model_module": "@jupyter-widgets/base",
            "_model_module_version": "1.2.0",
            "_model_name": "LayoutModel",
            "_view_count": null,
            "_view_module": "@jupyter-widgets/base",
            "_view_module_version": "1.2.0",
            "_view_name": "LayoutView",
            "align_content": null,
            "align_items": null,
            "align_self": null,
            "border": null,
            "bottom": null,
            "display": null,
            "flex": null,
            "flex_flow": null,
            "grid_area": null,
            "grid_auto_columns": null,
            "grid_auto_flow": null,
            "grid_auto_rows": null,
            "grid_column": null,
            "grid_gap": null,
            "grid_row": null,
            "grid_template_areas": null,
            "grid_template_columns": null,
            "grid_template_rows": null,
            "height": null,
            "justify_content": null,
            "justify_items": null,
            "left": null,
            "margin": null,
            "max_height": null,
            "max_width": null,
            "min_height": null,
            "min_width": null,
            "object_fit": null,
            "object_position": null,
            "order": null,
            "overflow": null,
            "overflow_x": null,
            "overflow_y": null,
            "padding": null,
            "right": null,
            "top": null,
            "visibility": null,
            "width": null
          }
        },
        "2b0c8c7159254877bce3a36b3f41028c": {
          "model_module": "@jupyter-widgets/base",
          "model_name": "LayoutModel",
          "model_module_version": "1.2.0",
          "state": {
            "_model_module": "@jupyter-widgets/base",
            "_model_module_version": "1.2.0",
            "_model_name": "LayoutModel",
            "_view_count": null,
            "_view_module": "@jupyter-widgets/base",
            "_view_module_version": "1.2.0",
            "_view_name": "LayoutView",
            "align_content": null,
            "align_items": null,
            "align_self": null,
            "border": null,
            "bottom": null,
            "display": null,
            "flex": null,
            "flex_flow": null,
            "grid_area": null,
            "grid_auto_columns": null,
            "grid_auto_flow": null,
            "grid_auto_rows": null,
            "grid_column": null,
            "grid_gap": null,
            "grid_row": null,
            "grid_template_areas": null,
            "grid_template_columns": null,
            "grid_template_rows": null,
            "height": "28px",
            "justify_content": null,
            "justify_items": null,
            "left": null,
            "margin": null,
            "max_height": null,
            "max_width": null,
            "min_height": null,
            "min_width": null,
            "object_fit": null,
            "object_position": null,
            "order": null,
            "overflow": null,
            "overflow_x": null,
            "overflow_y": null,
            "padding": "0px 0px 0px 4px",
            "right": null,
            "top": null,
            "visibility": null,
            "width": "28px"
          }
        },
        "68efe81738ce4b8ebb3721160341cada": {
          "model_module": "@jupyter-widgets/controls",
          "model_name": "DescriptionStyleModel",
          "model_module_version": "1.5.0",
          "state": {
            "_model_module": "@jupyter-widgets/controls",
            "_model_module_version": "1.5.0",
            "_model_name": "DescriptionStyleModel",
            "_view_count": null,
            "_view_module": "@jupyter-widgets/base",
            "_view_module_version": "1.2.0",
            "_view_name": "StyleView",
            "description_width": ""
          }
        },
        "95d7b0e00e8542c4b2fd11699464aebf": {
          "model_module": "@jupyter-widgets/base",
          "model_name": "LayoutModel",
          "model_module_version": "1.2.0",
          "state": {
            "_model_module": "@jupyter-widgets/base",
            "_model_module_version": "1.2.0",
            "_model_name": "LayoutModel",
            "_view_count": null,
            "_view_module": "@jupyter-widgets/base",
            "_view_module_version": "1.2.0",
            "_view_name": "LayoutView",
            "align_content": null,
            "align_items": null,
            "align_self": null,
            "border": null,
            "bottom": null,
            "display": null,
            "flex": null,
            "flex_flow": null,
            "grid_area": null,
            "grid_auto_columns": null,
            "grid_auto_flow": null,
            "grid_auto_rows": null,
            "grid_column": null,
            "grid_gap": null,
            "grid_row": null,
            "grid_template_areas": null,
            "grid_template_columns": null,
            "grid_template_rows": null,
            "height": "28px",
            "justify_content": null,
            "justify_items": null,
            "left": null,
            "margin": null,
            "max_height": null,
            "max_width": null,
            "min_height": null,
            "min_width": null,
            "object_fit": null,
            "object_position": null,
            "order": null,
            "overflow": null,
            "overflow_x": null,
            "overflow_y": null,
            "padding": "0px 0px 0px 4px",
            "right": null,
            "top": null,
            "visibility": null,
            "width": "28px"
          }
        },
        "43a036d99caa43a39e45217de1fff17e": {
          "model_module": "@jupyter-widgets/controls",
          "model_name": "DescriptionStyleModel",
          "model_module_version": "1.5.0",
          "state": {
            "_model_module": "@jupyter-widgets/controls",
            "_model_module_version": "1.5.0",
            "_model_name": "DescriptionStyleModel",
            "_view_count": null,
            "_view_module": "@jupyter-widgets/base",
            "_view_module_version": "1.2.0",
            "_view_name": "StyleView",
            "description_width": ""
          }
        },
        "ed9a4f8d2f5d45f691272ce46fc27a60": {
          "model_module": "jupyter-leaflet",
          "model_name": "LeafletTileLayerModel",
          "model_module_version": "^0.17",
          "state": {
            "_model_module": "jupyter-leaflet",
            "_model_module_version": "^0.17",
            "_model_name": "LeafletTileLayerModel",
            "_view_count": null,
            "_view_module": "jupyter-leaflet",
            "_view_module_version": "^0.17",
            "_view_name": "LeafletTileLayerView",
            "attribution": "Google Earth Engine",
            "base": false,
            "bottom": true,
            "bounds": null,
            "detect_retina": false,
            "loading": false,
            "max_native_zoom": null,
            "max_zoom": 24,
            "min_native_zoom": null,
            "min_zoom": 0,
            "name": "Layer 4",
            "no_wrap": false,
            "opacity": 1,
            "options": [
              "attribution",
              "bounds",
              "detect_retina",
              "max_native_zoom",
              "max_zoom",
              "min_native_zoom",
              "min_zoom",
              "no_wrap",
              "tile_size",
              "tms",
              "zoom_offset"
            ],
            "pane": "",
            "popup": null,
            "popup_max_height": null,
            "popup_max_width": 300,
            "popup_min_width": 50,
            "show_loading": false,
            "subitems": [],
            "tile_size": 256,
            "tms": false,
            "url": "https://earthengine.googleapis.com/v1alpha/projects/earthengine-legacy/maps/87874bad8b97f0b34da4b7af894353ab-39bd7ed08b939e298357c04fee660937/tiles/{z}/{x}/{y}",
            "visible": true,
            "zoom_offset": 0
          }
        },
        "510ee750075f45519ec31057a8aa9d05": {
          "model_module": "jupyter-leaflet",
          "model_name": "LeafletTileLayerModel",
          "model_module_version": "^0.17",
          "state": {
            "_model_module": "jupyter-leaflet",
            "_model_module_version": "^0.17",
            "_model_name": "LeafletTileLayerModel",
            "_view_count": null,
            "_view_module": "jupyter-leaflet",
            "_view_module_version": "^0.17",
            "_view_name": "LeafletTileLayerView",
            "attribution": "Google Earth Engine",
            "base": false,
            "bottom": true,
            "bounds": null,
            "detect_retina": false,
            "loading": false,
            "max_native_zoom": null,
            "max_zoom": 24,
            "min_native_zoom": null,
            "min_zoom": 0,
            "name": "Least Cloudy Image",
            "no_wrap": false,
            "opacity": 1,
            "options": [
              "attribution",
              "bounds",
              "detect_retina",
              "max_native_zoom",
              "max_zoom",
              "min_native_zoom",
              "min_zoom",
              "no_wrap",
              "tile_size",
              "tms",
              "zoom_offset"
            ],
            "pane": "",
            "popup": null,
            "popup_max_height": null,
            "popup_max_width": 300,
            "popup_min_width": 50,
            "show_loading": false,
            "subitems": [],
            "tile_size": 256,
            "tms": false,
            "url": "https://earthengine.googleapis.com/v1alpha/projects/earthengine-legacy/maps/23714b9ab733e4f7fc7b0c8bb434c5cf-f3d753361564e8c308c2ece050a0b09b/tiles/{z}/{x}/{y}",
            "visible": true,
            "zoom_offset": 0
          }
        },
        "ee1f105b619f4918bb2dcba296fb28c1": {
          "model_module": "jupyter-leaflet",
          "model_name": "LeafletTileLayerModel",
          "model_module_version": "^0.17",
          "state": {
            "_model_module": "jupyter-leaflet",
            "_model_module_version": "^0.17",
            "_model_name": "LeafletTileLayerModel",
            "_view_count": null,
            "_view_module": "jupyter-leaflet",
            "_view_module_version": "^0.17",
            "_view_name": "LeafletTileLayerView",
            "attribution": "Google Earth Engine",
            "base": false,
            "bottom": true,
            "bounds": null,
            "detect_retina": false,
            "loading": false,
            "max_native_zoom": null,
            "max_zoom": 24,
            "min_native_zoom": null,
            "min_zoom": 0,
            "name": "clipped_NIR",
            "no_wrap": false,
            "opacity": 1,
            "options": [
              "attribution",
              "bounds",
              "detect_retina",
              "max_native_zoom",
              "max_zoom",
              "min_native_zoom",
              "min_zoom",
              "no_wrap",
              "tile_size",
              "tms",
              "zoom_offset"
            ],
            "pane": "",
            "popup": null,
            "popup_max_height": null,
            "popup_max_width": 300,
            "popup_min_width": 50,
            "show_loading": false,
            "subitems": [],
            "tile_size": 256,
            "tms": false,
            "url": "https://earthengine.googleapis.com/v1alpha/projects/earthengine-legacy/maps/70d3f304a789debdfb26cd50c1633323-7a786088fd1cae8e3ea1577d181ededc/tiles/{z}/{x}/{y}",
            "visible": true,
            "zoom_offset": 0
          }
        },
        "6649659a7ec44a6ba52ec1dcb7225535": {
          "model_module": "jupyter-leaflet",
          "model_name": "LeafletLayersControlModel",
          "model_module_version": "^0.17",
          "state": {
            "_model_module": "jupyter-leaflet",
            "_model_module_version": "^0.17",
            "_model_name": "LeafletLayersControlModel",
            "_view_count": null,
            "_view_module": "jupyter-leaflet",
            "_view_module_version": "^0.17",
            "_view_name": "LeafletLayersControlView",
            "options": [
              "position"
            ],
            "position": "topright"
          }
        },
        "e2041ac9462849a4b4d8b35157844424": {
          "model_module": "jupyter-leaflet",
          "model_name": "LeafletTileLayerModel",
          "model_module_version": "^0.17",
          "state": {
            "_model_module": "jupyter-leaflet",
            "_model_module_version": "^0.17",
            "_model_name": "LeafletTileLayerModel",
            "_view_count": null,
            "_view_module": "jupyter-leaflet",
            "_view_module_version": "^0.17",
            "_view_name": "LeafletTileLayerView",
            "attribution": "Google Earth Engine",
            "base": false,
            "bottom": true,
            "bounds": null,
            "detect_retina": false,
            "loading": false,
            "max_native_zoom": null,
            "max_zoom": 24,
            "min_native_zoom": null,
            "min_zoom": 0,
            "name": "NDVI of AOI",
            "no_wrap": false,
            "opacity": 1,
            "options": [
              "attribution",
              "bounds",
              "detect_retina",
              "max_native_zoom",
              "max_zoom",
              "min_native_zoom",
              "min_zoom",
              "no_wrap",
              "tile_size",
              "tms",
              "zoom_offset"
            ],
            "pane": "",
            "popup": null,
            "popup_max_height": null,
            "popup_max_width": 300,
            "popup_min_width": 50,
            "show_loading": false,
            "subitems": [],
            "tile_size": 256,
            "tms": false,
            "url": "https://earthengine.googleapis.com/v1alpha/projects/earthengine-legacy/maps/04c4315a4c335f263c96f45bdeb9f836-bbc7ad5d1243fc1cbe2af8c4b8ec1872/tiles/{z}/{x}/{y}",
            "visible": true,
            "zoom_offset": 0
          }
        },
        "5515e3f0fd9c44fdbbfc2abfea1d4e22": {
          "model_module": "jupyter-leaflet",
          "model_name": "LeafletTileLayerModel",
          "model_module_version": "^0.17",
          "state": {
            "_model_module": "jupyter-leaflet",
            "_model_module_version": "^0.17",
            "_model_name": "LeafletTileLayerModel",
            "_view_count": null,
            "_view_module": "jupyter-leaflet",
            "_view_module_version": "^0.17",
            "_view_name": "LeafletTileLayerView",
            "attribution": "Google Earth Engine",
            "base": false,
            "bottom": true,
            "bounds": null,
            "detect_retina": false,
            "loading": true,
            "max_native_zoom": null,
            "max_zoom": 24,
            "min_native_zoom": null,
            "min_zoom": 0,
            "name": "Proportional Vegetation",
            "no_wrap": false,
            "opacity": 1,
            "options": [
              "attribution",
              "bounds",
              "detect_retina",
              "max_native_zoom",
              "max_zoom",
              "min_native_zoom",
              "min_zoom",
              "no_wrap",
              "tile_size",
              "tms",
              "zoom_offset"
            ],
            "pane": "",
            "popup": null,
            "popup_max_height": null,
            "popup_max_width": 300,
            "popup_min_width": 50,
            "show_loading": false,
            "subitems": [],
            "tile_size": 256,
            "tms": false,
            "url": "https://earthengine.googleapis.com/v1alpha/projects/earthengine-legacy/maps/59b7af0d4ef8f7b7eec05e898da5f910-b9b47e1a246df6007ddbcd8c377a4ee9/tiles/{z}/{x}/{y}",
            "visible": true,
            "zoom_offset": 0
          }
        },
        "15416609f3554ccd948de490068bb887": {
          "model_module": "jupyter-leaflet",
          "model_name": "LeafletTileLayerModel",
          "model_module_version": "^0.17",
          "state": {
            "_model_module": "jupyter-leaflet",
            "_model_module_version": "^0.17",
            "_model_name": "LeafletTileLayerModel",
            "_view_count": null,
            "_view_module": "jupyter-leaflet",
            "_view_module_version": "^0.17",
            "_view_name": "LeafletTileLayerView",
            "attribution": "Google",
            "base": false,
            "bottom": true,
            "bounds": null,
            "detect_retina": false,
            "loading": false,
            "max_native_zoom": null,
            "max_zoom": 22,
            "min_native_zoom": null,
            "min_zoom": 0,
            "name": "Google Satellite",
            "no_wrap": false,
            "opacity": 1,
            "options": [
              "attribution",
              "bounds",
              "detect_retina",
              "max_native_zoom",
              "max_zoom",
              "min_native_zoom",
              "min_zoom",
              "no_wrap",
              "tile_size",
              "tms",
              "zoom_offset"
            ],
            "pane": "",
            "popup": null,
            "popup_max_height": null,
            "popup_max_width": 300,
            "popup_min_width": 50,
            "show_loading": false,
            "subitems": [],
            "tile_size": 256,
            "tms": false,
            "url": "https://mt1.google.com/vt/lyrs=y&x={x}&y={y}&z={z}",
            "visible": true,
            "zoom_offset": 0
          }
        },
        "052c324a82f442d0ae6b07f787e425e0": {
          "model_module": "jupyter-leaflet",
          "model_name": "LeafletTileLayerModel",
          "model_module_version": "^0.17",
          "state": {
            "_model_module": "jupyter-leaflet",
            "_model_module_version": "^0.17",
            "_model_name": "LeafletTileLayerModel",
            "_view_count": null,
            "_view_module": "jupyter-leaflet",
            "_view_module_version": "^0.17",
            "_view_name": "LeafletTileLayerView",
            "attribution": "Google Earth Engine",
            "base": false,
            "bottom": true,
            "bounds": null,
            "detect_retina": false,
            "loading": true,
            "max_native_zoom": null,
            "max_zoom": 24,
            "min_native_zoom": null,
            "min_zoom": 0,
            "name": "Layer 2",
            "no_wrap": false,
            "opacity": 1,
            "options": [
              "attribution",
              "bounds",
              "detect_retina",
              "max_native_zoom",
              "max_zoom",
              "min_native_zoom",
              "min_zoom",
              "no_wrap",
              "tile_size",
              "tms",
              "zoom_offset"
            ],
            "pane": "",
            "popup": null,
            "popup_max_height": null,
            "popup_max_width": 300,
            "popup_min_width": 50,
            "show_loading": false,
            "subitems": [],
            "tile_size": 256,
            "tms": false,
            "url": "https://earthengine.googleapis.com/v1alpha/projects/earthengine-legacy/maps/87874bad8b97f0b34da4b7af894353ab-ddb36f3dd4d4e95681481b080ac521c2/tiles/{z}/{x}/{y}",
            "visible": true,
            "zoom_offset": 0
          }
        },
        "7e5a0fda2eac48e5983aa696b02a6153": {
          "model_module": "jupyter-leaflet",
          "model_name": "LeafletTileLayerModel",
          "model_module_version": "^0.17",
          "state": {
            "_model_module": "jupyter-leaflet",
            "_model_module_version": "^0.17",
            "_model_name": "LeafletTileLayerModel",
            "_view_count": null,
            "_view_module": "jupyter-leaflet",
            "_view_module_version": "^0.17",
            "_view_name": "LeafletTileLayerView",
            "attribution": "Google Earth Engine",
            "base": false,
            "bottom": true,
            "bounds": null,
            "detect_retina": false,
            "loading": true,
            "max_native_zoom": null,
            "max_zoom": 24,
            "min_native_zoom": null,
            "min_zoom": 0,
            "name": "Least Cloudy Image",
            "no_wrap": false,
            "opacity": 1,
            "options": [
              "attribution",
              "bounds",
              "detect_retina",
              "max_native_zoom",
              "max_zoom",
              "min_native_zoom",
              "min_zoom",
              "no_wrap",
              "tile_size",
              "tms",
              "zoom_offset"
            ],
            "pane": "",
            "popup": null,
            "popup_max_height": null,
            "popup_max_width": 300,
            "popup_min_width": 50,
            "show_loading": false,
            "subitems": [],
            "tile_size": 256,
            "tms": false,
            "url": "https://earthengine.googleapis.com/v1alpha/projects/earthengine-legacy/maps/23714b9ab733e4f7fc7b0c8bb434c5cf-5c42bab7912f2f0b41094a84853648dc/tiles/{z}/{x}/{y}",
            "visible": true,
            "zoom_offset": 0
          }
        },
        "6e063e590ed14bbca375a210e81541b0": {
          "model_module": "jupyter-leaflet",
          "model_name": "LeafletTileLayerModel",
          "model_module_version": "^0.17",
          "state": {
            "_model_module": "jupyter-leaflet",
            "_model_module_version": "^0.17",
            "_model_name": "LeafletTileLayerModel",
            "_view_count": null,
            "_view_module": "jupyter-leaflet",
            "_view_module_version": "^0.17",
            "_view_name": "LeafletTileLayerView",
            "attribution": "Google Earth Engine",
            "base": false,
            "bottom": true,
            "bounds": null,
            "detect_retina": false,
            "loading": true,
            "max_native_zoom": null,
            "max_zoom": 24,
            "min_native_zoom": null,
            "min_zoom": 0,
            "name": "clipped_NIR",
            "no_wrap": false,
            "opacity": 1,
            "options": [
              "attribution",
              "bounds",
              "detect_retina",
              "max_native_zoom",
              "max_zoom",
              "min_native_zoom",
              "min_zoom",
              "no_wrap",
              "tile_size",
              "tms",
              "zoom_offset"
            ],
            "pane": "",
            "popup": null,
            "popup_max_height": null,
            "popup_max_width": 300,
            "popup_min_width": 50,
            "show_loading": false,
            "subitems": [],
            "tile_size": 256,
            "tms": false,
            "url": "https://earthengine.googleapis.com/v1alpha/projects/earthengine-legacy/maps/70d3f304a789debdfb26cd50c1633323-8a2b31e2f54ac2b9c396753a522641d8/tiles/{z}/{x}/{y}",
            "visible": true,
            "zoom_offset": 0
          }
        },
        "f9ab2f4d08cf44d7a6a965fd828e3888": {
          "model_module": "jupyter-leaflet",
          "model_name": "LeafletTileLayerModel",
          "model_module_version": "^0.17",
          "state": {
            "_model_module": "jupyter-leaflet",
            "_model_module_version": "^0.17",
            "_model_name": "LeafletTileLayerModel",
            "_view_count": null,
            "_view_module": "jupyter-leaflet",
            "_view_module_version": "^0.17",
            "_view_name": "LeafletTileLayerView",
            "attribution": "Google Earth Engine",
            "base": false,
            "bottom": true,
            "bounds": null,
            "detect_retina": false,
            "loading": true,
            "max_native_zoom": null,
            "max_zoom": 24,
            "min_native_zoom": null,
            "min_zoom": 0,
            "name": "NDVI of AOI",
            "no_wrap": false,
            "opacity": 1,
            "options": [
              "attribution",
              "bounds",
              "detect_retina",
              "max_native_zoom",
              "max_zoom",
              "min_native_zoom",
              "min_zoom",
              "no_wrap",
              "tile_size",
              "tms",
              "zoom_offset"
            ],
            "pane": "",
            "popup": null,
            "popup_max_height": null,
            "popup_max_width": 300,
            "popup_min_width": 50,
            "show_loading": false,
            "subitems": [],
            "tile_size": 256,
            "tms": false,
            "url": "https://earthengine.googleapis.com/v1alpha/projects/earthengine-legacy/maps/04c4315a4c335f263c96f45bdeb9f836-ad4aca2f079bb3efbe05055a44155944/tiles/{z}/{x}/{y}",
            "visible": true,
            "zoom_offset": 0
          }
        },
        "e4967c0ff84b4ee7bd84fac7d4297a9c": {
          "model_module": "jupyter-leaflet",
          "model_name": "LeafletTileLayerModel",
          "model_module_version": "^0.17",
          "state": {
            "_model_module": "jupyter-leaflet",
            "_model_module_version": "^0.17",
            "_model_name": "LeafletTileLayerModel",
            "_view_count": null,
            "_view_module": "jupyter-leaflet",
            "_view_module_version": "^0.17",
            "_view_name": "LeafletTileLayerView",
            "attribution": "Google Earth Engine",
            "base": false,
            "bottom": true,
            "bounds": null,
            "detect_retina": false,
            "loading": true,
            "max_native_zoom": null,
            "max_zoom": 24,
            "min_native_zoom": null,
            "min_zoom": 0,
            "name": "Proportional Vegetation",
            "no_wrap": false,
            "opacity": 1,
            "options": [
              "attribution",
              "bounds",
              "detect_retina",
              "max_native_zoom",
              "max_zoom",
              "min_native_zoom",
              "min_zoom",
              "no_wrap",
              "tile_size",
              "tms",
              "zoom_offset"
            ],
            "pane": "",
            "popup": null,
            "popup_max_height": null,
            "popup_max_width": 300,
            "popup_min_width": 50,
            "show_loading": false,
            "subitems": [],
            "tile_size": 256,
            "tms": false,
            "url": "https://earthengine.googleapis.com/v1alpha/projects/earthengine-legacy/maps/59b7af0d4ef8f7b7eec05e898da5f910-ec16876843ca2a555cb62f24492b7500/tiles/{z}/{x}/{y}",
            "visible": true,
            "zoom_offset": 0
          }
        },
        "7cfcc31a65de4f48876a19612c226162": {
          "model_module": "jupyter-leaflet",
          "model_name": "LeafletTileLayerModel",
          "model_module_version": "^0.17",
          "state": {
            "_model_module": "jupyter-leaflet",
            "_model_module_version": "^0.17",
            "_model_name": "LeafletTileLayerModel",
            "_view_count": null,
            "_view_module": "jupyter-leaflet",
            "_view_module_version": "^0.17",
            "_view_name": "LeafletTileLayerView",
            "attribution": "Google Earth Engine",
            "base": false,
            "bottom": true,
            "bounds": null,
            "detect_retina": false,
            "loading": true,
            "max_native_zoom": null,
            "max_zoom": 24,
            "min_native_zoom": null,
            "min_zoom": 0,
            "name": "Proportional Vegetation",
            "no_wrap": false,
            "opacity": 1,
            "options": [
              "attribution",
              "bounds",
              "detect_retina",
              "max_native_zoom",
              "max_zoom",
              "min_native_zoom",
              "min_zoom",
              "no_wrap",
              "tile_size",
              "tms",
              "zoom_offset"
            ],
            "pane": "",
            "popup": null,
            "popup_max_height": null,
            "popup_max_width": 300,
            "popup_min_width": 50,
            "show_loading": false,
            "subitems": [],
            "tile_size": 256,
            "tms": false,
            "url": "https://earthengine.googleapis.com/v1alpha/projects/earthengine-legacy/maps/59b7af0d4ef8f7b7eec05e898da5f910-5343e6f96072e5211208ec4426221479/tiles/{z}/{x}/{y}",
            "visible": true,
            "zoom_offset": 0
          }
        },
        "6c9436fe305341fd9f5ebb9583e85ae6": {
          "model_module": "jupyter-leaflet",
          "model_name": "LeafletTileLayerModel",
          "model_module_version": "^0.17",
          "state": {
            "_model_module": "jupyter-leaflet",
            "_model_module_version": "^0.17",
            "_model_name": "LeafletTileLayerModel",
            "_view_count": null,
            "_view_module": "jupyter-leaflet",
            "_view_module_version": "^0.17",
            "_view_name": "LeafletTileLayerView",
            "attribution": "Google Earth Engine",
            "base": false,
            "bottom": true,
            "bounds": null,
            "detect_retina": false,
            "loading": false,
            "max_native_zoom": null,
            "max_zoom": 24,
            "min_native_zoom": null,
            "min_zoom": 0,
            "name": "Proportional Vegetation",
            "no_wrap": false,
            "opacity": 1,
            "options": [
              "attribution",
              "bounds",
              "detect_retina",
              "max_native_zoom",
              "max_zoom",
              "min_native_zoom",
              "min_zoom",
              "no_wrap",
              "tile_size",
              "tms",
              "zoom_offset"
            ],
            "pane": "",
            "popup": null,
            "popup_max_height": null,
            "popup_max_width": 300,
            "popup_min_width": 50,
            "show_loading": false,
            "subitems": [],
            "tile_size": 256,
            "tms": false,
            "url": "https://earthengine.googleapis.com/v1alpha/projects/earthengine-legacy/maps/59b7af0d4ef8f7b7eec05e898da5f910-a6e52c57123dd5233e17f40b1449bed1/tiles/{z}/{x}/{y}",
            "visible": true,
            "zoom_offset": 0
          }
        },
        "20d1ee1498064a9d865bba65f1fd15f7": {
          "model_module": "jupyter-leaflet",
          "model_name": "LeafletTileLayerModel",
          "model_module_version": "^0.17",
          "state": {
            "_model_module": "jupyter-leaflet",
            "_model_module_version": "^0.17",
            "_model_name": "LeafletTileLayerModel",
            "_view_count": null,
            "_view_module": "jupyter-leaflet",
            "_view_module_version": "^0.17",
            "_view_name": "LeafletTileLayerView",
            "attribution": "Google Earth Engine",
            "base": false,
            "bottom": true,
            "bounds": null,
            "detect_retina": false,
            "loading": false,
            "max_native_zoom": null,
            "max_zoom": 24,
            "min_native_zoom": null,
            "min_zoom": 0,
            "name": "LandSurfaceTemperature",
            "no_wrap": false,
            "opacity": 1,
            "options": [
              "attribution",
              "bounds",
              "detect_retina",
              "max_native_zoom",
              "max_zoom",
              "min_native_zoom",
              "min_zoom",
              "no_wrap",
              "tile_size",
              "tms",
              "zoom_offset"
            ],
            "pane": "",
            "popup": null,
            "popup_max_height": null,
            "popup_max_width": 300,
            "popup_min_width": 50,
            "show_loading": false,
            "subitems": [],
            "tile_size": 256,
            "tms": false,
            "url": "https://earthengine.googleapis.com/v1alpha/projects/earthengine-legacy/maps/04299d4df4c5278ad423536958b8cbf9-45e674c49b9af8acbb55ceb020a96f28/tiles/{z}/{x}/{y}",
            "visible": true,
            "zoom_offset": 0
          }
        },
        "033bcf57c9bc41a298bffbc1b7e2d17b": {
          "model_module": "jupyter-leaflet",
          "model_name": "LeafletTileLayerModel",
          "model_module_version": "^0.17",
          "state": {
            "_model_module": "jupyter-leaflet",
            "_model_module_version": "^0.17",
            "_model_name": "LeafletTileLayerModel",
            "_view_count": null,
            "_view_module": "jupyter-leaflet",
            "_view_module_version": "^0.17",
            "_view_name": "LeafletTileLayerView",
            "attribution": "Google Earth Engine",
            "base": false,
            "bottom": true,
            "bounds": null,
            "detect_retina": false,
            "loading": false,
            "max_native_zoom": null,
            "max_zoom": 24,
            "min_native_zoom": null,
            "min_zoom": 0,
            "name": "LandSurfaceTemperature",
            "no_wrap": false,
            "opacity": 1,
            "options": [
              "attribution",
              "bounds",
              "detect_retina",
              "max_native_zoom",
              "max_zoom",
              "min_native_zoom",
              "min_zoom",
              "no_wrap",
              "tile_size",
              "tms",
              "zoom_offset"
            ],
            "pane": "",
            "popup": null,
            "popup_max_height": null,
            "popup_max_width": 300,
            "popup_min_width": 50,
            "show_loading": false,
            "subitems": [],
            "tile_size": 256,
            "tms": false,
            "url": "https://earthengine.googleapis.com/v1alpha/projects/earthengine-legacy/maps/04299d4df4c5278ad423536958b8cbf9-c548ac86cd33c737825b4eb5b3730e6a/tiles/{z}/{x}/{y}",
            "visible": true,
            "zoom_offset": 0
          }
        },
        "412de1a83658470da129c9ea45b50440": {
          "model_module": "jupyter-leaflet",
          "model_name": "LeafletTileLayerModel",
          "model_module_version": "^0.17",
          "state": {
            "_model_module": "jupyter-leaflet",
            "_model_module_version": "^0.17",
            "_model_name": "LeafletTileLayerModel",
            "_view_count": null,
            "_view_module": "jupyter-leaflet",
            "_view_module_version": "^0.17",
            "_view_name": "LeafletTileLayerView",
            "attribution": "Google Earth Engine",
            "base": false,
            "bottom": true,
            "bounds": null,
            "detect_retina": false,
            "loading": false,
            "max_native_zoom": null,
            "max_zoom": 24,
            "min_native_zoom": null,
            "min_zoom": 0,
            "name": "LandSurfaceTemperature",
            "no_wrap": false,
            "opacity": 1,
            "options": [
              "attribution",
              "bounds",
              "detect_retina",
              "max_native_zoom",
              "max_zoom",
              "min_native_zoom",
              "min_zoom",
              "no_wrap",
              "tile_size",
              "tms",
              "zoom_offset"
            ],
            "pane": "",
            "popup": null,
            "popup_max_height": null,
            "popup_max_width": 300,
            "popup_min_width": 50,
            "show_loading": false,
            "subitems": [],
            "tile_size": 256,
            "tms": false,
            "url": "https://earthengine.googleapis.com/v1alpha/projects/earthengine-legacy/maps/04299d4df4c5278ad423536958b8cbf9-af89d9230b55b866778ba850178e550f/tiles/{z}/{x}/{y}",
            "visible": true,
            "zoom_offset": 0
          }
        },
        "13f553edd61c435f8290e14a54496f90": {
          "model_module": "jupyter-leaflet",
          "model_name": "LeafletTileLayerModel",
          "model_module_version": "^0.17",
          "state": {
            "_model_module": "jupyter-leaflet",
            "_model_module_version": "^0.17",
            "_model_name": "LeafletTileLayerModel",
            "_view_count": null,
            "_view_module": "jupyter-leaflet",
            "_view_module_version": "^0.17",
            "_view_name": "LeafletTileLayerView",
            "attribution": "Google Earth Engine",
            "base": false,
            "bottom": true,
            "bounds": null,
            "detect_retina": false,
            "loading": false,
            "max_native_zoom": null,
            "max_zoom": 24,
            "min_native_zoom": null,
            "min_zoom": 0,
            "name": "LandSurfaceTemperature",
            "no_wrap": false,
            "opacity": 1,
            "options": [
              "attribution",
              "bounds",
              "detect_retina",
              "max_native_zoom",
              "max_zoom",
              "min_native_zoom",
              "min_zoom",
              "no_wrap",
              "tile_size",
              "tms",
              "zoom_offset"
            ],
            "pane": "",
            "popup": null,
            "popup_max_height": null,
            "popup_max_width": 300,
            "popup_min_width": 50,
            "show_loading": false,
            "subitems": [],
            "tile_size": 256,
            "tms": false,
            "url": "https://earthengine.googleapis.com/v1alpha/projects/earthengine-legacy/maps/04299d4df4c5278ad423536958b8cbf9-c3187d0b934e6621e9d342a80843cdc7/tiles/{z}/{x}/{y}",
            "visible": true,
            "zoom_offset": 0
          }
        }
      }
    }
  },
  "cells": [
    {
      "cell_type": "markdown",
      "metadata": {
        "id": "view-in-github",
        "colab_type": "text"
      },
      "source": [
        "<a href=\"https://colab.research.google.com/github/KaziJahidurRahaman/lst-gee-py/blob/main/lst_gee_py_kutupalong.ipynb\" target=\"_parent\"><img src=\"https://colab.research.google.com/assets/colab-badge.svg\" alt=\"Open In Colab\"/></a>"
      ]
    },
    {
      "cell_type": "markdown",
      "source": [
        "<p> We are using <b>Geemap</b> for rendering the maps. Geemap is not preinstalled in the Google colab library. Therefor, we need to install geemap. If geemap is already installed. Please skip the next block. </p>"
      ],
      "metadata": {
        "id": "XQ7OSDglXZI3"
      }
    },
    {
      "cell_type": "code",
      "source": [
        "!pip install geemap"
      ],
      "metadata": {
        "id": "KYzYYSjMdazk"
      },
      "execution_count": null,
      "outputs": []
    },
    {
      "cell_type": "code",
      "source": [
        "# Import the required packages.\n",
        "\n",
        "import os\n",
        "import sys\n",
        "import ee\n",
        "import geemap"
      ],
      "metadata": {
        "id": "Cw-A_kYX3NhH"
      },
      "execution_count": 3,
      "outputs": []
    },
    {
      "cell_type": "markdown",
      "source": [
        "The to use the earthengine api, we need to authenticate using our google developer profile. We know more about the authentication process one can look at the following article. <a href = 'https://developers.google.com/earth-engine/guides/python_install'>Authentication in ee</a> "
      ],
      "metadata": {
        "id": "zpsLjNWdYFYD"
      }
    },
    {
      "cell_type": "code",
      "execution_count": 4,
      "metadata": {
        "id": "IPZsHle-DMoZ",
        "colab": {
          "base_uri": "https://localhost:8080/"
        },
        "outputId": "223a87b1-605d-456b-82f6-dfa477cae7cc"
      },
      "outputs": [
        {
          "output_type": "stream",
          "name": "stdout",
          "text": [
            "To authorize access needed by Earth Engine, open the following URL in a web browser and follow the instructions. If the web browser does not start automatically, please manually browse the URL below.\n",
            "\n",
            "    https://code.earthengine.google.com/client-auth?scopes=https%3A//www.googleapis.com/auth/earthengine%20https%3A//www.googleapis.com/auth/devstorage.full_control&request_id=reTd-_kyaCkhuIZiuEnECVTetwXEcWkyHMVAeejubkg&tc=8F2svX7eVUH4m7HBdx7Vj8oRVSEWbX4LbpWRzhlItbg&cc=0swCR6QiCUWQMrQ7Jn0-wj5OUy04MJtF4szMD4nV6Bk\n",
            "\n",
            "The authorization workflow will generate a code, which you should paste in the box below.\n",
            "Enter verification code: 4/1AfgeXvuYyl27FLXJuKgrDQx7TOM9GuGm8YNl8ABKjeIrf710oGjuRHAzyBo\n",
            "\n",
            "Successfully saved authorization token.\n"
          ]
        }
      ],
      "source": [
        "# Trigger the authentication flow.\n",
        "ee.Authenticate()"
      ]
    },
    {
      "cell_type": "code",
      "source": [
        "# Initialize the ee library.\n",
        "ee.Initialize()"
      ],
      "metadata": {
        "id": "HYRbxjcPtG-p"
      },
      "execution_count": 5,
      "outputs": []
    },
    {
      "cell_type": "code",
      "source": [],
      "metadata": {
        "id": "vs5SGE4GZf_4"
      },
      "execution_count": null,
      "outputs": []
    },
    {
      "cell_type": "markdown",
      "source": [
        "Our area of interest data is loaded in google drive. so we will connect with the my google drive folder."
      ],
      "metadata": {
        "id": "P7shD8toZgae"
      }
    },
    {
      "cell_type": "code",
      "source": [
        "from google.colab import drive\n",
        "drive.mount('/content/drive')"
      ],
      "metadata": {
        "id": "U-yp8KwgTj3q",
        "colab": {
          "base_uri": "https://localhost:8080/"
        },
        "outputId": "da2fc78c-d961-4ee4-db57-2d8f2dc01b21"
      },
      "execution_count": 6,
      "outputs": [
        {
          "output_type": "stream",
          "name": "stdout",
          "text": [
            "Mounted at /content/drive\n"
          ]
        }
      ]
    },
    {
      "cell_type": "markdown",
      "source": [
        "The are of interest is the <a href ='https://en.wikipedia.org/wiki/Kutupalong_refugee_camp'> Kutupalong Rohingya Camp </a>, Cox's Bazar, in Bangladesh. Where a huge deforestation has taken place over last 10 years for influx of Rohingya refugees. "
      ],
      "metadata": {
        "id": "E2CQWkCMclSh"
      }
    },
    {
      "cell_type": "code",
      "source": [
        "Map = geemap.Map()\n",
        "aoi_shp =  '/content/drive/MyDrive/lst_files/kutupalong/Kutupalong-AOI-Polygon-polygon.shp'\n",
        "aoi = geemap.shp_to_ee(aoi_shp)\n",
        "Map.addLayer(aoi, {}, 'AOI')\n",
        "Map.centerObject(aoi, zoom=16)\n",
        "Map"
      ],
      "metadata": {
        "id": "sTPP_jxzzgjP",
        "colab": {
          "base_uri": "https://localhost:8080/",
          "height": 621,
          "referenced_widgets": [
            "9656a1d6b08140b8b9865633651c8825",
            "6bcf4d2ec97746eb9e6a89727d288ded",
            "f62422f1f3424032ae652b4c38358400",
            "6625e2da9587439fa6faa1a04169679a",
            "d96a8a20940542c89f9278edafbdb2ed",
            "6cdcb45ba1014c6c8794024dcac1fab8",
            "c2ae473cd6b14cca8f160472db384c1c",
            "060f4999db0e447a8c58afd53f5aaee2",
            "46b1a161bdb342ef994311836968b9a8",
            "a74793d1119b4d03a5133f30159e008e",
            "4d665145d353424c9c12c45a096f193a",
            "ab1b91aaec87451fa135b02d1f73dba7",
            "471411192549469a80831d4b280b3d68",
            "bd928a1038204bcba79fdcbdfc1d6d15",
            "14733cc5333d4d8186621ee40bd36ebd",
            "718f8fa82c224457aaffa73a29814297",
            "792a4543c2d14da09643f259cd1b5495",
            "551b61c6b1e340aabf07e2b549425ba9",
            "158089fa456146598dad6d68d0cee494",
            "e424d9c35b7045c2bd11a28ef3a60d5f",
            "765b5caf5729427196b03c56ca355205",
            "0b5b85a8d4654e559b5014cfdd9a28e7",
            "2b0c8c7159254877bce3a36b3f41028c",
            "68efe81738ce4b8ebb3721160341cada",
            "95d7b0e00e8542c4b2fd11699464aebf",
            "43a036d99caa43a39e45217de1fff17e",
            "ed9a4f8d2f5d45f691272ce46fc27a60",
            "510ee750075f45519ec31057a8aa9d05",
            "ee1f105b619f4918bb2dcba296fb28c1",
            "6649659a7ec44a6ba52ec1dcb7225535",
            "e2041ac9462849a4b4d8b35157844424",
            "5515e3f0fd9c44fdbbfc2abfea1d4e22",
            "15416609f3554ccd948de490068bb887",
            "052c324a82f442d0ae6b07f787e425e0",
            "7e5a0fda2eac48e5983aa696b02a6153",
            "6e063e590ed14bbca375a210e81541b0",
            "f9ab2f4d08cf44d7a6a965fd828e3888",
            "e4967c0ff84b4ee7bd84fac7d4297a9c",
            "7cfcc31a65de4f48876a19612c226162",
            "6c9436fe305341fd9f5ebb9583e85ae6",
            "20d1ee1498064a9d865bba65f1fd15f7",
            "033bcf57c9bc41a298bffbc1b7e2d17b",
            "412de1a83658470da129c9ea45b50440",
            "13f553edd61c435f8290e14a54496f90"
          ]
        },
        "outputId": "4e6245d0-b8ce-4d53-f17a-ca81d8f4829b"
      },
      "execution_count": 9,
      "outputs": [
        {
          "output_type": "display_data",
          "data": {
            "text/plain": [
              "Map(center=[21.198233064130157, 92.15051686742379], controls=(WidgetControl(options=['position', 'transparent_…"
            ],
            "application/vnd.jupyter.widget-view+json": {
              "version_major": 2,
              "version_minor": 0,
              "model_id": "9656a1d6b08140b8b9865633651c8825"
            }
          },
          "metadata": {
            "application/vnd.jupyter.widget-view+json": {
              "colab": {
                "custom_widget_manager": {
                  "url": "https://ssl.gstatic.com/colaboratory-static/widgets/colab-cdn-widget-manager/d2e234f7cc04bf79/manager.min.js"
                }
              }
            }
          }
        }
      ]
    },
    {
      "cell_type": "markdown",
      "source": [
        "For the analysis we are using <a href = 'https://www.usgs.gov/landsat-missions/landsat-8#:~:text=Landsat%208%20images%20have%2015,km%20(115%20mi)%20swath.'>Landsat 8</a> data set. There are other satellite images from different satellites. However, the spatial resolution of Landsat 8 is more suitable for our analysis. For narowing down the search we will filter it using <a href = 'https://www.usna.edu/Users/oceano/pguth/md_help/html/landsat_path_row.html'>WRS ROW and PATH</a> and a time frame. "
      ],
      "metadata": {
        "id": "mPjSPIxodN5y"
      }
    },
    {
      "cell_type": "code",
      "source": [
        "image_collection = ee.ImageCollection('LANDSAT/LC08/C01/T1_TOA')\n",
        "image_collection = image_collection.filterMetadata('WRS_PATH','equals',136).filterMetadata('WRS_ROW', 'equals',45).filterDate('2021-01-01', '2021-12-31').sort('CLOUD_COVER')\n",
        "print(\"Total Image Downloaded: \",image_collection.size().getInfo()) #gets the total number of images\n"
      ],
      "metadata": {
        "id": "1l6JJR5U2zn6",
        "colab": {
          "base_uri": "https://localhost:8080/"
        },
        "outputId": "2b3dfe4a-d56a-41e9-a201-f626ff440cec"
      },
      "execution_count": 30,
      "outputs": [
        {
          "output_type": "stream",
          "name": "stdout",
          "text": [
            "Total Image Downloaded:  16\n"
          ]
        }
      ]
    },
    {
      "cell_type": "code",
      "source": [
        "#for the anaylsis we are using  only the best image which has least cloud cover\n",
        "least_cloudy_image = image_collection.first()"
      ],
      "metadata": {
        "id": "mDQ10btT6k0h"
      },
      "execution_count": 31,
      "outputs": []
    },
    {
      "cell_type": "markdown",
      "source": [
        "Before starting the analysis lets check the basic information for the image"
      ],
      "metadata": {
        "id": "uWOd1_w7eqjb"
      }
    },
    {
      "cell_type": "code",
      "source": [
        "least_cloudy_image.getInfo()"
      ],
      "metadata": {
        "id": "qQyeN8WWFX_H",
        "colab": {
          "base_uri": "https://localhost:8080/"
        },
        "outputId": "68f87db2-fae8-44ea-921c-5a0976608d75"
      },
      "execution_count": 32,
      "outputs": [
        {
          "output_type": "execute_result",
          "data": {
            "text/plain": [
              "{'type': 'Image',\n",
              " 'bands': [{'id': 'B1',\n",
              "   'data_type': {'type': 'PixelType', 'precision': 'float'},\n",
              "   'dimensions': [7661, 7801],\n",
              "   'crs': 'EPSG:32646',\n",
              "   'crs_transform': [30, 0, 241485, 0, -30, 2513715]},\n",
              "  {'id': 'B2',\n",
              "   'data_type': {'type': 'PixelType', 'precision': 'float'},\n",
              "   'dimensions': [7661, 7801],\n",
              "   'crs': 'EPSG:32646',\n",
              "   'crs_transform': [30, 0, 241485, 0, -30, 2513715]},\n",
              "  {'id': 'B3',\n",
              "   'data_type': {'type': 'PixelType', 'precision': 'float'},\n",
              "   'dimensions': [7661, 7801],\n",
              "   'crs': 'EPSG:32646',\n",
              "   'crs_transform': [30, 0, 241485, 0, -30, 2513715]},\n",
              "  {'id': 'B4',\n",
              "   'data_type': {'type': 'PixelType', 'precision': 'float'},\n",
              "   'dimensions': [7661, 7801],\n",
              "   'crs': 'EPSG:32646',\n",
              "   'crs_transform': [30, 0, 241485, 0, -30, 2513715]},\n",
              "  {'id': 'B5',\n",
              "   'data_type': {'type': 'PixelType', 'precision': 'float'},\n",
              "   'dimensions': [7661, 7801],\n",
              "   'crs': 'EPSG:32646',\n",
              "   'crs_transform': [30, 0, 241485, 0, -30, 2513715]},\n",
              "  {'id': 'B6',\n",
              "   'data_type': {'type': 'PixelType', 'precision': 'float'},\n",
              "   'dimensions': [7661, 7801],\n",
              "   'crs': 'EPSG:32646',\n",
              "   'crs_transform': [30, 0, 241485, 0, -30, 2513715]},\n",
              "  {'id': 'B7',\n",
              "   'data_type': {'type': 'PixelType', 'precision': 'float'},\n",
              "   'dimensions': [7661, 7801],\n",
              "   'crs': 'EPSG:32646',\n",
              "   'crs_transform': [30, 0, 241485, 0, -30, 2513715]},\n",
              "  {'id': 'B8',\n",
              "   'data_type': {'type': 'PixelType', 'precision': 'float'},\n",
              "   'dimensions': [15321, 15601],\n",
              "   'crs': 'EPSG:32646',\n",
              "   'crs_transform': [15, 0, 241492.5, 0, -15, 2513707.5]},\n",
              "  {'id': 'B9',\n",
              "   'data_type': {'type': 'PixelType', 'precision': 'float'},\n",
              "   'dimensions': [7661, 7801],\n",
              "   'crs': 'EPSG:32646',\n",
              "   'crs_transform': [30, 0, 241485, 0, -30, 2513715]},\n",
              "  {'id': 'B10',\n",
              "   'data_type': {'type': 'PixelType', 'precision': 'float'},\n",
              "   'dimensions': [7661, 7801],\n",
              "   'crs': 'EPSG:32646',\n",
              "   'crs_transform': [30, 0, 241485, 0, -30, 2513715]},\n",
              "  {'id': 'B11',\n",
              "   'data_type': {'type': 'PixelType', 'precision': 'float'},\n",
              "   'dimensions': [7661, 7801],\n",
              "   'crs': 'EPSG:32646',\n",
              "   'crs_transform': [30, 0, 241485, 0, -30, 2513715]},\n",
              "  {'id': 'BQA',\n",
              "   'data_type': {'type': 'PixelType',\n",
              "    'precision': 'int',\n",
              "    'min': 0,\n",
              "    'max': 65535},\n",
              "   'dimensions': [7661, 7801],\n",
              "   'crs': 'EPSG:32646',\n",
              "   'crs_transform': [30, 0, 241485, 0, -30, 2513715]}],\n",
              " 'version': 1655337549451297,\n",
              " 'id': 'LANDSAT/LC08/C01/T1_TOA/LC08_136045_20210206',\n",
              " 'properties': {'RADIANCE_MULT_BAND_5': 0.006287300027906895,\n",
              "  'RADIANCE_MULT_BAND_6': 0.001563600031659007,\n",
              "  'RADIANCE_MULT_BAND_3': 0.01218399964272976,\n",
              "  'RADIANCE_MULT_BAND_4': 0.010273999534547329,\n",
              "  'RADIANCE_MULT_BAND_1': 0.012911999598145485,\n",
              "  'RADIANCE_MULT_BAND_2': 0.013221999630331993,\n",
              "  'K2_CONSTANT_BAND_11': 1201.1441650390625,\n",
              "  'K2_CONSTANT_BAND_10': 1321.078857421875,\n",
              "  'system:footprint': {'type': 'LinearRing',\n",
              "   'coordinates': [[90.51573216015831, 20.98544973176628],\n",
              "    [90.51823743844066, 20.98470579834945],\n",
              "    [91.53069783527954, 20.77721921361345],\n",
              "    [92.19023611497724, 20.63847767904793],\n",
              "    [92.29969731973954, 20.615200518259595],\n",
              "    [92.30021734030734, 20.616690599933655],\n",
              "    [92.30657709558132, 20.6431513967741],\n",
              "    [92.35575838628175, 20.848383448190813],\n",
              "    [92.42990449591916, 21.157130855475128],\n",
              "    [92.54287617383163, 21.62584906143752],\n",
              "    [92.65093458388819, 22.071698048574003],\n",
              "    [92.6776442171676, 22.181551016067832],\n",
              "    [92.71756052425764, 22.346007193593326],\n",
              "    [92.71755468196201, 22.348922249124083],\n",
              "    [92.59324906633846, 22.375002944848045],\n",
              "    [91.47094977168119, 22.605644791334345],\n",
              "    [90.91432748664187, 22.716810230919688],\n",
              "    [90.91216653978887, 22.71678204297439],\n",
              "    [90.81128886686717, 22.279448416630796],\n",
              "    [90.71318192679301, 21.85196941704642],\n",
              "    [90.61553730269124, 21.42446233153548],\n",
              "    [90.51573216015831, 20.98544973176628]]},\n",
              "  'REFLECTIVE_SAMPLES': 7661,\n",
              "  'SUN_AZIMUTH': 142.20130920410156,\n",
              "  'CPF_NAME': 'LC08CPF_20210201_20210228_01.03',\n",
              "  'DATE_ACQUIRED': '2021-02-06',\n",
              "  'ELLIPSOID': 'WGS84',\n",
              "  'google:registration_offset_x': 329.5499267578125,\n",
              "  'google:registration_offset_y': -485.71710205078125,\n",
              "  'STATION_ID': 'LGN',\n",
              "  'RESAMPLING_OPTION': 'CUBIC_CONVOLUTION',\n",
              "  'ORIENTATION': 'NORTH_UP',\n",
              "  'WRS_ROW': 45,\n",
              "  'RADIANCE_MULT_BAND_9': 0.0024572000838816166,\n",
              "  'TARGET_WRS_ROW': 45,\n",
              "  'RADIANCE_MULT_BAND_7': 0.0005270200199447572,\n",
              "  'RADIANCE_MULT_BAND_8': 0.011628000065684319,\n",
              "  'IMAGE_QUALITY_TIRS': 9,\n",
              "  'TRUNCATION_OLI': 'UPPER',\n",
              "  'CLOUD_COVER': 0.009999999776482582,\n",
              "  'GEOMETRIC_RMSE_VERIFY': 5.1570000648498535,\n",
              "  'COLLECTION_CATEGORY': 'T1',\n",
              "  'GRID_CELL_SIZE_REFLECTIVE': 30,\n",
              "  'CLOUD_COVER_LAND': 0.009999999776482582,\n",
              "  'GEOMETRIC_RMSE_MODEL': 6.757999897003174,\n",
              "  'COLLECTION_NUMBER': 1,\n",
              "  'IMAGE_QUALITY_OLI': 9,\n",
              "  'LANDSAT_SCENE_ID': 'LC81360452021037LGN00',\n",
              "  'WRS_PATH': 136,\n",
              "  'google:registration_count': 10,\n",
              "  'PANCHROMATIC_SAMPLES': 15321,\n",
              "  'PANCHROMATIC_LINES': 15601,\n",
              "  'GEOMETRIC_RMSE_MODEL_Y': 4.8470001220703125,\n",
              "  'REFLECTIVE_LINES': 7801,\n",
              "  'TIRS_STRAY_LIGHT_CORRECTION_SOURCE': 'TIRS',\n",
              "  'GEOMETRIC_RMSE_MODEL_X': 4.710000038146973,\n",
              "  'system:asset_size': 960974867,\n",
              "  'system:index': 'LC08_136045_20210206',\n",
              "  'REFLECTANCE_ADD_BAND_1': -0.10000000149011612,\n",
              "  'REFLECTANCE_ADD_BAND_2': -0.10000000149011612,\n",
              "  'DATUM': 'WGS84',\n",
              "  'REFLECTANCE_ADD_BAND_3': -0.10000000149011612,\n",
              "  'REFLECTANCE_ADD_BAND_4': -0.10000000149011612,\n",
              "  'REFLECTANCE_ADD_BAND_5': -0.10000000149011612,\n",
              "  'REFLECTANCE_ADD_BAND_6': -0.10000000149011612,\n",
              "  'REFLECTANCE_ADD_BAND_7': -0.10000000149011612,\n",
              "  'REFLECTANCE_ADD_BAND_8': -0.10000000149011612,\n",
              "  'BPF_NAME_TIRS': 'LT8BPF20210205131939_20210212112539.01',\n",
              "  'GROUND_CONTROL_POINTS_VERSION': 4,\n",
              "  'DATA_TYPE': 'L1TP',\n",
              "  'UTM_ZONE': 46,\n",
              "  'system:time_end': 1612585149307,\n",
              "  'LANDSAT_PRODUCT_ID': 'LC08_L1TP_136045_20210206_20210305_01_T1',\n",
              "  'REFLECTANCE_ADD_BAND_9': -0.10000000149011612,\n",
              "  'google:registration_ratio': 0.2857142984867096,\n",
              "  'GRID_CELL_SIZE_PANCHROMATIC': 15,\n",
              "  'RADIANCE_ADD_BAND_4': -51.371150970458984,\n",
              "  'REFLECTANCE_MULT_BAND_7': 1.9999999494757503e-05,\n",
              "  'system:time_start': 1612585149307,\n",
              "  'RADIANCE_ADD_BAND_5': -31.436580657958984,\n",
              "  'REFLECTANCE_MULT_BAND_6': 1.9999999494757503e-05,\n",
              "  'RADIANCE_ADD_BAND_6': -7.817989826202393,\n",
              "  'REFLECTANCE_MULT_BAND_9': 1.9999999494757503e-05,\n",
              "  'PROCESSING_SOFTWARE_VERSION': 'LPGS_13.1.0',\n",
              "  'RADIANCE_ADD_BAND_7': -2.635080099105835,\n",
              "  'REFLECTANCE_MULT_BAND_8': 1.9999999494757503e-05,\n",
              "  'RADIANCE_ADD_BAND_1': -64.5599594116211,\n",
              "  'RADIANCE_ADD_BAND_2': -66.11018371582031,\n",
              "  'RADIANCE_ADD_BAND_3': -60.91997146606445,\n",
              "  'REFLECTANCE_MULT_BAND_1': 1.9999999494757503e-05,\n",
              "  'RADIANCE_ADD_BAND_8': -58.13800048828125,\n",
              "  'REFLECTANCE_MULT_BAND_3': 1.9999999494757503e-05,\n",
              "  'RADIANCE_ADD_BAND_9': -12.28612995147705,\n",
              "  'REFLECTANCE_MULT_BAND_2': 1.9999999494757503e-05,\n",
              "  'REFLECTANCE_MULT_BAND_5': 1.9999999494757503e-05,\n",
              "  'REFLECTANCE_MULT_BAND_4': 1.9999999494757503e-05,\n",
              "  'THERMAL_LINES': 7801,\n",
              "  'TIRS_SSM_POSITION_STATUS': 'ESTIMATED',\n",
              "  'GRID_CELL_SIZE_THERMAL': 30,\n",
              "  'NADIR_OFFNADIR': 'NADIR',\n",
              "  'RADIANCE_ADD_BAND_11': 0.10000000149011612,\n",
              "  'REQUEST_ID': 'P100one8phg8u_00034',\n",
              "  'EARTH_SUN_DISTANCE': 0.9861087203025818,\n",
              "  'TIRS_SSM_MODEL': 'FINAL',\n",
              "  'FILE_DATE': 1614903378000,\n",
              "  'SCENE_CENTER_TIME': '04:19:09.3071280Z',\n",
              "  'SUN_ELEVATION': 44.25305938720703,\n",
              "  'BPF_NAME_OLI': 'LO8BPF20210206022605_20210206045049.01',\n",
              "  'RADIANCE_ADD_BAND_10': 0.10000000149011612,\n",
              "  'ROLL_ANGLE': -0.0010000000474974513,\n",
              "  'K1_CONSTANT_BAND_10': 774.8853149414062,\n",
              "  'SATURATION_BAND_1': 'N',\n",
              "  'SATURATION_BAND_2': 'N',\n",
              "  'SATURATION_BAND_3': 'N',\n",
              "  'SATURATION_BAND_4': 'N',\n",
              "  'SATURATION_BAND_5': 'N',\n",
              "  'MAP_PROJECTION': 'UTM',\n",
              "  'SATURATION_BAND_6': 'N',\n",
              "  'SENSOR_ID': 'OLI_TIRS',\n",
              "  'SATURATION_BAND_7': 'Y',\n",
              "  'K1_CONSTANT_BAND_11': 480.8883056640625,\n",
              "  'SATURATION_BAND_8': 'N',\n",
              "  'SATURATION_BAND_9': 'N',\n",
              "  'TARGET_WRS_PATH': 136,\n",
              "  'RADIANCE_MULT_BAND_11': 0.00033420001273043454,\n",
              "  'RADIANCE_MULT_BAND_10': 0.00033420001273043454,\n",
              "  'GROUND_CONTROL_POINTS_MODEL': 264,\n",
              "  'SPACECRAFT_ID': 'LANDSAT_8',\n",
              "  'ELEVATION_SOURCE': 'GLS2000',\n",
              "  'THERMAL_SAMPLES': 7661,\n",
              "  'GROUND_CONTROL_POINTS_VERIFY': 88}}"
            ]
          },
          "metadata": {},
          "execution_count": 32
        }
      ]
    },
    {
      "cell_type": "markdown",
      "source": [
        "Visualize the sample image with geemap"
      ],
      "metadata": {
        "id": "p5A9GJXpe5V_"
      }
    },
    {
      "cell_type": "code",
      "source": [
        "Map.addLayer(least_cloudy_image)\n",
        "Map.centerObject(least_cloudy_image)\n",
        "Map"
      ],
      "metadata": {
        "id": "gzWgakYQ6hI3",
        "colab": {
          "base_uri": "https://localhost:8080/",
          "height": 621,
          "referenced_widgets": [
            "9656a1d6b08140b8b9865633651c8825",
            "6bcf4d2ec97746eb9e6a89727d288ded",
            "f62422f1f3424032ae652b4c38358400",
            "6625e2da9587439fa6faa1a04169679a",
            "d96a8a20940542c89f9278edafbdb2ed",
            "6cdcb45ba1014c6c8794024dcac1fab8",
            "c2ae473cd6b14cca8f160472db384c1c",
            "060f4999db0e447a8c58afd53f5aaee2",
            "46b1a161bdb342ef994311836968b9a8",
            "6649659a7ec44a6ba52ec1dcb7225535",
            "a74793d1119b4d03a5133f30159e008e",
            "4d665145d353424c9c12c45a096f193a",
            "15416609f3554ccd948de490068bb887",
            "052c324a82f442d0ae6b07f787e425e0",
            "14733cc5333d4d8186621ee40bd36ebd",
            "792a4543c2d14da09643f259cd1b5495",
            "551b61c6b1e340aabf07e2b549425ba9",
            "158089fa456146598dad6d68d0cee494",
            "e424d9c35b7045c2bd11a28ef3a60d5f",
            "765b5caf5729427196b03c56ca355205",
            "0b5b85a8d4654e559b5014cfdd9a28e7",
            "2b0c8c7159254877bce3a36b3f41028c",
            "68efe81738ce4b8ebb3721160341cada",
            "95d7b0e00e8542c4b2fd11699464aebf",
            "43a036d99caa43a39e45217de1fff17e",
            "7e5a0fda2eac48e5983aa696b02a6153",
            "6e063e590ed14bbca375a210e81541b0",
            "f9ab2f4d08cf44d7a6a965fd828e3888",
            "e4967c0ff84b4ee7bd84fac7d4297a9c",
            "7cfcc31a65de4f48876a19612c226162",
            "6c9436fe305341fd9f5ebb9583e85ae6",
            "20d1ee1498064a9d865bba65f1fd15f7",
            "033bcf57c9bc41a298bffbc1b7e2d17b",
            "412de1a83658470da129c9ea45b50440",
            "13f553edd61c435f8290e14a54496f90"
          ]
        },
        "outputId": "00dad67f-8652-4f58-b63f-fa24bc098d6a"
      },
      "execution_count": 33,
      "outputs": [
        {
          "output_type": "display_data",
          "data": {
            "text/plain": [
              "Map(bottom=58059.0, center=[20.88319225609666, 91.31586861360927], controls=(WidgetControl(options=['position'…"
            ],
            "application/vnd.jupyter.widget-view+json": {
              "version_major": 2,
              "version_minor": 0,
              "model_id": "9656a1d6b08140b8b9865633651c8825"
            }
          },
          "metadata": {
            "application/vnd.jupyter.widget-view+json": {
              "colab": {
                "custom_widget_manager": {
                  "url": "https://ssl.gstatic.com/colaboratory-static/widgets/colab-cdn-widget-manager/d2e234f7cc04bf79/manager.min.js"
                }
              }
            }
          }
        }
      ]
    },
    {
      "cell_type": "code",
      "source": [
        "# Define the visualization parameters.\n",
        "\n",
        "image_viz_params = {\n",
        "    'bands': ['B5', 'B4', 'B3'],\n",
        "    'min': 0,\n",
        "    'max': 0.5,\n",
        "    'gamma': [0.95, 1.1, 1]\n",
        "}\n",
        "Map.addLayer(least_cloudy_image, image_viz_params, \"Least Cloudy Image\")\n",
        "Map.centerObject(least_cloudy_image)\n",
        "Map"
      ],
      "metadata": {
        "id": "d0QP21WY-PBc",
        "colab": {
          "base_uri": "https://localhost:8080/",
          "height": 621,
          "referenced_widgets": [
            "9656a1d6b08140b8b9865633651c8825",
            "6bcf4d2ec97746eb9e6a89727d288ded",
            "f62422f1f3424032ae652b4c38358400",
            "6625e2da9587439fa6faa1a04169679a",
            "d96a8a20940542c89f9278edafbdb2ed",
            "6cdcb45ba1014c6c8794024dcac1fab8",
            "c2ae473cd6b14cca8f160472db384c1c",
            "060f4999db0e447a8c58afd53f5aaee2",
            "46b1a161bdb342ef994311836968b9a8",
            "6649659a7ec44a6ba52ec1dcb7225535",
            "a74793d1119b4d03a5133f30159e008e",
            "4d665145d353424c9c12c45a096f193a",
            "15416609f3554ccd948de490068bb887",
            "052c324a82f442d0ae6b07f787e425e0",
            "7e5a0fda2eac48e5983aa696b02a6153",
            "14733cc5333d4d8186621ee40bd36ebd",
            "792a4543c2d14da09643f259cd1b5495",
            "551b61c6b1e340aabf07e2b549425ba9",
            "158089fa456146598dad6d68d0cee494",
            "e424d9c35b7045c2bd11a28ef3a60d5f",
            "765b5caf5729427196b03c56ca355205",
            "0b5b85a8d4654e559b5014cfdd9a28e7",
            "2b0c8c7159254877bce3a36b3f41028c",
            "68efe81738ce4b8ebb3721160341cada",
            "95d7b0e00e8542c4b2fd11699464aebf",
            "43a036d99caa43a39e45217de1fff17e",
            "6e063e590ed14bbca375a210e81541b0",
            "f9ab2f4d08cf44d7a6a965fd828e3888",
            "e4967c0ff84b4ee7bd84fac7d4297a9c",
            "7cfcc31a65de4f48876a19612c226162",
            "6c9436fe305341fd9f5ebb9583e85ae6",
            "20d1ee1498064a9d865bba65f1fd15f7",
            "033bcf57c9bc41a298bffbc1b7e2d17b",
            "412de1a83658470da129c9ea45b50440",
            "13f553edd61c435f8290e14a54496f90"
          ]
        },
        "outputId": "7f4216a2-150f-4d11-9db4-385699a9fa4f"
      },
      "execution_count": 34,
      "outputs": [
        {
          "output_type": "display_data",
          "data": {
            "text/plain": [
              "Map(bottom=29026.0, center=[21.66600537458964, 91.61664634220797], controls=(WidgetControl(options=['position'…"
            ],
            "application/vnd.jupyter.widget-view+json": {
              "version_major": 2,
              "version_minor": 0,
              "model_id": "9656a1d6b08140b8b9865633651c8825"
            }
          },
          "metadata": {
            "application/vnd.jupyter.widget-view+json": {
              "colab": {
                "custom_widget_manager": {
                  "url": "https://ssl.gstatic.com/colaboratory-static/widgets/colab-cdn-widget-manager/d2e234f7cc04bf79/manager.min.js"
                }
              }
            }
          }
        }
      ]
    },
    {
      "cell_type": "code",
      "source": [
        "#Picking the required bands\n",
        "nir_band = least_cloudy_image.select('B5');\n",
        "red_band = least_cloudy_image.select('B4');\n",
        "thermal_band = least_cloudy_image.select('B10');"
      ],
      "metadata": {
        "id": "xgawUaVS-oig"
      },
      "execution_count": 35,
      "outputs": []
    },
    {
      "cell_type": "code",
      "source": [
        "#cliping the band specific images for the AOI\n",
        "nir_band_clipped = nir_band.clip(aoi)\n",
        "red_band_clipped = red_band.clip(aoi)\n",
        "thermal_band_clipped = thermal_band.clip(aoi);\n",
        "\n",
        "Map.addLayer(nir_band_clipped,{},'clipped_NIR')\n",
        "Map.centerObject(aoi)\n",
        "Map.addLayerControl()\n",
        "Map"
      ],
      "metadata": {
        "id": "oyZ3myAf-otl",
        "colab": {
          "base_uri": "https://localhost:8080/",
          "height": 621,
          "referenced_widgets": [
            "9656a1d6b08140b8b9865633651c8825",
            "6bcf4d2ec97746eb9e6a89727d288ded",
            "f62422f1f3424032ae652b4c38358400",
            "6625e2da9587439fa6faa1a04169679a",
            "d96a8a20940542c89f9278edafbdb2ed",
            "6cdcb45ba1014c6c8794024dcac1fab8",
            "c2ae473cd6b14cca8f160472db384c1c",
            "060f4999db0e447a8c58afd53f5aaee2",
            "46b1a161bdb342ef994311836968b9a8",
            "6649659a7ec44a6ba52ec1dcb7225535",
            "a74793d1119b4d03a5133f30159e008e",
            "4d665145d353424c9c12c45a096f193a",
            "15416609f3554ccd948de490068bb887",
            "052c324a82f442d0ae6b07f787e425e0",
            "7e5a0fda2eac48e5983aa696b02a6153",
            "6e063e590ed14bbca375a210e81541b0",
            "14733cc5333d4d8186621ee40bd36ebd",
            "792a4543c2d14da09643f259cd1b5495",
            "551b61c6b1e340aabf07e2b549425ba9",
            "158089fa456146598dad6d68d0cee494",
            "e424d9c35b7045c2bd11a28ef3a60d5f",
            "765b5caf5729427196b03c56ca355205",
            "0b5b85a8d4654e559b5014cfdd9a28e7",
            "2b0c8c7159254877bce3a36b3f41028c",
            "68efe81738ce4b8ebb3721160341cada",
            "95d7b0e00e8542c4b2fd11699464aebf",
            "43a036d99caa43a39e45217de1fff17e",
            "f9ab2f4d08cf44d7a6a965fd828e3888",
            "e4967c0ff84b4ee7bd84fac7d4297a9c",
            "7cfcc31a65de4f48876a19612c226162",
            "6c9436fe305341fd9f5ebb9583e85ae6",
            "20d1ee1498064a9d865bba65f1fd15f7",
            "033bcf57c9bc41a298bffbc1b7e2d17b",
            "412de1a83658470da129c9ea45b50440",
            "13f553edd61c435f8290e14a54496f90"
          ]
        },
        "outputId": "6f6a4894-47cd-4a80-c8af-39ffe659a063"
      },
      "execution_count": 36,
      "outputs": [
        {
          "output_type": "display_data",
          "data": {
            "text/plain": [
              "Map(bottom=7422.0, center=[22.88756221517449, 79.85190840778414], controls=(WidgetControl(options=['position',…"
            ],
            "application/vnd.jupyter.widget-view+json": {
              "version_major": 2,
              "version_minor": 0,
              "model_id": "9656a1d6b08140b8b9865633651c8825"
            }
          },
          "metadata": {
            "application/vnd.jupyter.widget-view+json": {
              "colab": {
                "custom_widget_manager": {
                  "url": "https://ssl.gstatic.com/colaboratory-static/widgets/colab-cdn-widget-manager/d2e234f7cc04bf79/manager.min.js"
                }
              }
            }
          }
        }
      ]
    },
    {
      "cell_type": "code",
      "source": [
        "# Compute the NDVI for clipped images/aoi\n",
        "ndvi = (nir_band_clipped.subtract(red_band_clipped)).divide(  (nir_band_clipped.add(red_band_clipped)) ).rename('NDVI')\n",
        "\n",
        "# visualize the ndvi\n",
        "ndviPar = {\n",
        "    'min': 0.4, \n",
        "    'max': 0.54, \n",
        "    'palette': ['red', 'yellow', 'green']\n",
        "           }\n",
        "\n",
        "Map.addLayer(ndvi, ndviPar, 'NDVI of AOI')\n",
        "Map.centerObject(ndvi, zoom = 11)\n",
        "Map\n"
      ],
      "metadata": {
        "id": "XPnejNuc-ow0",
        "colab": {
          "base_uri": "https://localhost:8080/",
          "height": 621,
          "referenced_widgets": [
            "9656a1d6b08140b8b9865633651c8825",
            "6bcf4d2ec97746eb9e6a89727d288ded",
            "f62422f1f3424032ae652b4c38358400",
            "6625e2da9587439fa6faa1a04169679a",
            "d96a8a20940542c89f9278edafbdb2ed",
            "6cdcb45ba1014c6c8794024dcac1fab8",
            "c2ae473cd6b14cca8f160472db384c1c",
            "060f4999db0e447a8c58afd53f5aaee2",
            "46b1a161bdb342ef994311836968b9a8",
            "6649659a7ec44a6ba52ec1dcb7225535",
            "a74793d1119b4d03a5133f30159e008e",
            "4d665145d353424c9c12c45a096f193a",
            "15416609f3554ccd948de490068bb887",
            "052c324a82f442d0ae6b07f787e425e0",
            "7e5a0fda2eac48e5983aa696b02a6153",
            "6e063e590ed14bbca375a210e81541b0",
            "f9ab2f4d08cf44d7a6a965fd828e3888",
            "14733cc5333d4d8186621ee40bd36ebd",
            "792a4543c2d14da09643f259cd1b5495",
            "551b61c6b1e340aabf07e2b549425ba9",
            "158089fa456146598dad6d68d0cee494",
            "e424d9c35b7045c2bd11a28ef3a60d5f",
            "765b5caf5729427196b03c56ca355205",
            "0b5b85a8d4654e559b5014cfdd9a28e7",
            "2b0c8c7159254877bce3a36b3f41028c",
            "68efe81738ce4b8ebb3721160341cada",
            "95d7b0e00e8542c4b2fd11699464aebf",
            "43a036d99caa43a39e45217de1fff17e",
            "e4967c0ff84b4ee7bd84fac7d4297a9c",
            "7cfcc31a65de4f48876a19612c226162",
            "6c9436fe305341fd9f5ebb9583e85ae6",
            "20d1ee1498064a9d865bba65f1fd15f7",
            "033bcf57c9bc41a298bffbc1b7e2d17b",
            "412de1a83658470da129c9ea45b50440",
            "13f553edd61c435f8290e14a54496f90"
          ]
        },
        "outputId": "3f07f121-0998-44c1-f60e-aa3bc2ff0e6f"
      },
      "execution_count": 37,
      "outputs": [
        {
          "output_type": "display_data",
          "data": {
            "text/plain": [
              "Map(bottom=3689100.0, center=[21.667712612943202, 91.61241607266717], controls=(WidgetControl(options=['positi…"
            ],
            "application/vnd.jupyter.widget-view+json": {
              "version_major": 2,
              "version_minor": 0,
              "model_id": "9656a1d6b08140b8b9865633651c8825"
            }
          },
          "metadata": {
            "application/vnd.jupyter.widget-view+json": {
              "colab": {
                "custom_widget_manager": {
                  "url": "https://ssl.gstatic.com/colaboratory-static/widgets/colab-cdn-widget-manager/d2e234f7cc04bf79/manager.min.js"
                }
              }
            }
          }
        }
      ]
    },
    {
      "cell_type": "code",
      "source": [
        "ndvi.getInfo()"
      ],
      "metadata": {
        "id": "-0BtAbyT-o2P",
        "colab": {
          "base_uri": "https://localhost:8080/"
        },
        "outputId": "1cd8b420-77ce-4f49-cd7b-7b7ad11f74c5"
      },
      "execution_count": 38,
      "outputs": [
        {
          "output_type": "execute_result",
          "data": {
            "text/plain": [
              "{'type': 'Image',\n",
              " 'bands': [{'id': 'NDVI',\n",
              "   'data_type': {'type': 'PixelType', 'precision': 'float'},\n",
              "   'dimensions': [7661, 7801],\n",
              "   'crs': 'EPSG:32646',\n",
              "   'crs_transform': [30, 0, 241485, 0, -30, 2513715]}]}"
            ]
          },
          "metadata": {},
          "execution_count": 38
        }
      ]
    },
    {
      "cell_type": "code",
      "source": [
        "##MIN NDVI VALUE\n",
        "\n",
        "min_ndvi = ee.Number(ndvi.reduceRegion(**{\n",
        "  \"reducer\": ee.Reducer.min(),\n",
        "  \"scale\": 30,\n",
        "  \"maxPixels\": 10**9\n",
        "  }).values().get(0))\n",
        "print('min value of NDVI',min_ndvi.getInfo())"
      ],
      "metadata": {
        "id": "URH6kMhp-o5g",
        "colab": {
          "base_uri": "https://localhost:8080/"
        },
        "outputId": "f9b4d9e2-0337-4eec-9bf0-60d37972a346"
      },
      "execution_count": 39,
      "outputs": [
        {
          "output_type": "stream",
          "name": "stdout",
          "text": [
            "min value of NDVI -0.37243403175430867\n"
          ]
        }
      ]
    },
    {
      "cell_type": "code",
      "source": [
        "max_ndvi = ee.Number(ndvi.reduceRegion(**{\n",
        "\"reducer\": ee.Reducer.max(),\n",
        "\"scale\": 30,\n",
        "\"maxPixels\": 10**9\n",
        "}).values().get(0));\n",
        "print('max value of NDVI',max_ndvi.getInfo())"
      ],
      "metadata": {
        "id": "JeyrR5Vj-o_s",
        "colab": {
          "base_uri": "https://localhost:8080/"
        },
        "outputId": "875628bd-b87d-4a98-e31f-d5bd121fdc9e"
      },
      "execution_count": 40,
      "outputs": [
        {
          "output_type": "stream",
          "name": "stdout",
          "text": [
            "max value of NDVI 0.738098396337262\n"
          ]
        }
      ]
    },
    {
      "cell_type": "code",
      "source": [
        "#proportional vegetation\n",
        "\n",
        "pv =(ndvi.subtract(min_ndvi).divide(max_ndvi.subtract(min_ndvi))).pow(ee.Number(2)).rename('PV')"
      ],
      "metadata": {
        "id": "k5vLsDT1FkeP"
      },
      "execution_count": 41,
      "outputs": []
    },
    {
      "cell_type": "code",
      "source": [
        "pv_max = ee.Number(pv.reduceRegion(**{\n",
        "  \"reducer\": ee.Reducer.max(),\n",
        "  \"scale\": 30,\n",
        "  \"maxPixels\": 10**9\n",
        "}).values().get(0));\n",
        "print( 'max value of pv',pv_max.getInfo())"
      ],
      "metadata": {
        "id": "TtNJaYE0JHRy",
        "colab": {
          "base_uri": "https://localhost:8080/"
        },
        "outputId": "ece52066-15b8-4fa8-a4c5-b8398b9c52e6"
      },
      "execution_count": 42,
      "outputs": [
        {
          "output_type": "stream",
          "name": "stdout",
          "text": [
            "max value of pv 1\n"
          ]
        }
      ]
    },
    {
      "cell_type": "code",
      "source": [
        "##MIN pv VALUE\n",
        "\n",
        "min_pv = ee.Number(pv.reduceRegion(**{\n",
        "  \"reducer\": ee.Reducer.min(),\n",
        "  \"scale\": 30,\n",
        "  \"maxPixels\": 10**9\n",
        "  }).values().get(0))\n",
        "print('min value of pv',min_pv.getInfo())\n",
        "\n",
        "\n"
      ],
      "metadata": {
        "id": "xxPZTNgzKM3U",
        "colab": {
          "base_uri": "https://localhost:8080/"
        },
        "outputId": "1184fc98-e51e-4565-b80e-03162ceb02f1"
      },
      "execution_count": 43,
      "outputs": [
        {
          "output_type": "stream",
          "name": "stdout",
          "text": [
            "min value of pv 0\n"
          ]
        }
      ]
    },
    {
      "cell_type": "code",
      "source": [
        "Map.addLayer(pv, ndviPar, 'Proportional Vegetation')\n",
        "Map.centerObject(pv, zoom = 11)\n",
        "Map.center_object(aoi)\n",
        "Map.add_layer(pv)\n",
        "Map"
      ],
      "metadata": {
        "id": "Nsvj4UWQXomr",
        "colab": {
          "base_uri": "https://localhost:8080/",
          "height": 621,
          "referenced_widgets": [
            "9656a1d6b08140b8b9865633651c8825",
            "6bcf4d2ec97746eb9e6a89727d288ded",
            "f62422f1f3424032ae652b4c38358400",
            "6625e2da9587439fa6faa1a04169679a",
            "d96a8a20940542c89f9278edafbdb2ed",
            "6cdcb45ba1014c6c8794024dcac1fab8",
            "c2ae473cd6b14cca8f160472db384c1c",
            "060f4999db0e447a8c58afd53f5aaee2",
            "46b1a161bdb342ef994311836968b9a8",
            "6649659a7ec44a6ba52ec1dcb7225535",
            "a74793d1119b4d03a5133f30159e008e",
            "4d665145d353424c9c12c45a096f193a",
            "15416609f3554ccd948de490068bb887",
            "6c9436fe305341fd9f5ebb9583e85ae6",
            "14733cc5333d4d8186621ee40bd36ebd",
            "792a4543c2d14da09643f259cd1b5495",
            "551b61c6b1e340aabf07e2b549425ba9",
            "158089fa456146598dad6d68d0cee494",
            "e424d9c35b7045c2bd11a28ef3a60d5f",
            "765b5caf5729427196b03c56ca355205",
            "0b5b85a8d4654e559b5014cfdd9a28e7",
            "2b0c8c7159254877bce3a36b3f41028c",
            "68efe81738ce4b8ebb3721160341cada",
            "95d7b0e00e8542c4b2fd11699464aebf",
            "43a036d99caa43a39e45217de1fff17e",
            "20d1ee1498064a9d865bba65f1fd15f7",
            "033bcf57c9bc41a298bffbc1b7e2d17b",
            "412de1a83658470da129c9ea45b50440",
            "13f553edd61c435f8290e14a54496f90"
          ]
        },
        "outputId": "c656de87-f573-4871-df8b-13108de09308"
      },
      "execution_count": 46,
      "outputs": [
        {
          "output_type": "display_data",
          "data": {
            "text/plain": [
              "Map(bottom=115572.0, center=[21.667712612943202, 91.61241607266717], controls=(WidgetControl(options=['positio…"
            ],
            "application/vnd.jupyter.widget-view+json": {
              "version_major": 2,
              "version_minor": 0,
              "model_id": "9656a1d6b08140b8b9865633651c8825"
            }
          },
          "metadata": {
            "application/vnd.jupyter.widget-view+json": {
              "colab": {
                "custom_widget_manager": {
                  "url": "https://ssl.gstatic.com/colaboratory-static/widgets/colab-cdn-widget-manager/d2e234f7cc04bf79/manager.min.js"
                }
              }
            }
          }
        }
      ]
    },
    {
      "cell_type": "code",
      "source": [
        "#Emissivity\n",
        "a= ee.Number(0.004);\n",
        "b= ee.Number(0.986);\n",
        "em=pv.multiply(a).add(b).rename('EM')"
      ],
      "metadata": {
        "id": "KHYclSE8ZUg2"
      },
      "execution_count": 49,
      "outputs": []
    },
    {
      "cell_type": "code",
      "source": [
        "emmax = ee.Number(em.reduceRegion(**{\n",
        "  \"reducer\": ee.Reducer.max(),\n",
        "  \"scale\": 30,\n",
        "  \"maxPixels\": 10**9\n",
        "  }).values().get(0))\n",
        "print(emmax.getInfo())"
      ],
      "metadata": {
        "id": "p6e56NdeLMDA",
        "colab": {
          "base_uri": "https://localhost:8080/"
        },
        "outputId": "ea4dc58d-88c9-4a27-edfa-cacabed03bb8"
      },
      "execution_count": 50,
      "outputs": [
        {
          "output_type": "stream",
          "name": "stdout",
          "text": [
            "0.99\n"
          ]
        }
      ]
    },
    {
      "cell_type": "code",
      "source": [
        "emmin = ee.Number(em.reduceRegion(**{\n",
        "  \"reducer\": ee.Reducer.min(),\n",
        "  \"scale\": 30,\n",
        "  \"maxPixels\": 10**9\n",
        "  }).values().get(0))\n",
        "print(emmin.getInfo())"
      ],
      "metadata": {
        "id": "CO6FDdKgMmoM",
        "colab": {
          "base_uri": "https://localhost:8080/"
        },
        "outputId": "17b39057-b703-465f-d3c3-4b4fdcca3c67"
      },
      "execution_count": 51,
      "outputs": [
        {
          "output_type": "stream",
          "name": "stdout",
          "text": [
            "0.986\n"
          ]
        }
      ]
    },
    {
      "cell_type": "code",
      "source": [
        "# Land surface temperature (LST) in C\n",
        "LST = thermal_band_clipped.expression(\n",
        "'(Tb/(1 + (10.8* (Tb / 14388))*log(EM)))-273.15', {\n",
        " 'Tb': thermal_band_clipped,\n",
        "'EM': em.select('EM')\n",
        "}).rename('LST')\n"
      ],
      "metadata": {
        "id": "0n5fNVc9apwz"
      },
      "execution_count": 52,
      "outputs": []
    },
    {
      "cell_type": "code",
      "source": [
        "LSTParams = {\n",
        "    'min':27.115292564360516, \n",
        "    'max':31.653865373204212, \n",
        "    'palette': ['gray','yellow','green']\n",
        "    }"
      ],
      "metadata": {
        "id": "nAmLzlGPtdMq"
      },
      "execution_count": 53,
      "outputs": []
    },
    {
      "cell_type": "code",
      "source": [
        "lstmin = ee.Number(LST.reduceRegion(**{\n",
        "  \"reducer\": ee.Reducer.min(),\n",
        "  \"scale\": 30,\n",
        "  \"maxPixels\": 10**9\n",
        "  }).values().get(0))\n",
        "print(lstmin.getInfo())"
      ],
      "metadata": {
        "id": "9yQU5cA2NL2a",
        "colab": {
          "base_uri": "https://localhost:8080/"
        },
        "outputId": "26f072ad-6be6-4f4c-c31e-fcfcd455de6b"
      },
      "execution_count": 54,
      "outputs": [
        {
          "output_type": "stream",
          "name": "stdout",
          "text": [
            "24.61047603870543\n"
          ]
        }
      ]
    },
    {
      "cell_type": "code",
      "source": [
        "lstmax = ee.Number(LST.reduceRegion(**{\n",
        "  \"reducer\": ee.Reducer.max(),\n",
        "  \"scale\": 30,\n",
        "  \"maxPixels\": 10**9\n",
        "  }).values().get(0))\n",
        "print(lstmax.getInfo())"
      ],
      "metadata": {
        "id": "XK-oWUBZNWby",
        "colab": {
          "base_uri": "https://localhost:8080/"
        },
        "outputId": "a9a69710-eafe-4c77-dcea-e8d5718e8f78"
      },
      "execution_count": 55,
      "outputs": [
        {
          "output_type": "stream",
          "name": "stdout",
          "text": [
            "33.958986269391005\n"
          ]
        }
      ]
    },
    {
      "cell_type": "code",
      "source": [
        "Map.addLayer(LST, LSTParams, 'LandSurfaceTemperature')\n",
        "Map.center_object(aoi,zoom=10)\n",
        "Map"
      ],
      "metadata": {
        "id": "M6zAX-_mcuC_",
        "colab": {
          "base_uri": "https://localhost:8080/",
          "height": 621,
          "referenced_widgets": [
            "9656a1d6b08140b8b9865633651c8825",
            "6bcf4d2ec97746eb9e6a89727d288ded",
            "f62422f1f3424032ae652b4c38358400",
            "6625e2da9587439fa6faa1a04169679a",
            "d96a8a20940542c89f9278edafbdb2ed",
            "6cdcb45ba1014c6c8794024dcac1fab8",
            "c2ae473cd6b14cca8f160472db384c1c",
            "060f4999db0e447a8c58afd53f5aaee2",
            "46b1a161bdb342ef994311836968b9a8",
            "6649659a7ec44a6ba52ec1dcb7225535",
            "a74793d1119b4d03a5133f30159e008e",
            "4d665145d353424c9c12c45a096f193a",
            "15416609f3554ccd948de490068bb887",
            "6c9436fe305341fd9f5ebb9583e85ae6",
            "13f553edd61c435f8290e14a54496f90",
            "14733cc5333d4d8186621ee40bd36ebd",
            "792a4543c2d14da09643f259cd1b5495",
            "551b61c6b1e340aabf07e2b549425ba9",
            "158089fa456146598dad6d68d0cee494",
            "e424d9c35b7045c2bd11a28ef3a60d5f",
            "765b5caf5729427196b03c56ca355205",
            "0b5b85a8d4654e559b5014cfdd9a28e7",
            "2b0c8c7159254877bce3a36b3f41028c",
            "68efe81738ce4b8ebb3721160341cada",
            "95d7b0e00e8542c4b2fd11699464aebf",
            "43a036d99caa43a39e45217de1fff17e"
          ]
        },
        "outputId": "2c4b139e-829a-4f93-a964-ae718395310a"
      },
      "execution_count": 59,
      "outputs": [
        {
          "output_type": "display_data",
          "data": {
            "text/plain": [
              "Map(bottom=29118.0, center=[21.198233064130157, 92.15051686742379], controls=(WidgetControl(options=['position…"
            ],
            "application/vnd.jupyter.widget-view+json": {
              "version_major": 2,
              "version_minor": 0,
              "model_id": "9656a1d6b08140b8b9865633651c8825"
            }
          },
          "metadata": {
            "application/vnd.jupyter.widget-view+json": {
              "colab": {
                "custom_widget_manager": {
                  "url": "https://ssl.gstatic.com/colaboratory-static/widgets/colab-cdn-widget-manager/d2e234f7cc04bf79/manager.min.js"
                }
              }
            }
          }
        }
      ]
    },
    {
      "cell_type": "code",
      "source": [
        "# // Export the image, specifying the CRS, transform, and region.\n",
        "task = ee.batch.Export.image.toDrive(image=LST,\n",
        "                                     scale=30,\n",
        "                                     fileFormat='GeoTIFF',\n",
        "                                     description='Kutupalong',\n",
        "                                     folder='lst_files',\n",
        "                                     maxPixels=1e9)\n",
        "\n",
        "task.start()"
      ],
      "metadata": {
        "id": "r5qL22ZygWqb"
      },
      "execution_count": 60,
      "outputs": []
    }
  ]
}