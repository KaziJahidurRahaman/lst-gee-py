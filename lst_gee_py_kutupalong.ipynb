{
  "nbformat": 4,
  "nbformat_minor": 0,
  "metadata": {
    "colab": {
      "provenance": [],
      "collapsed_sections": []
    },
    "kernelspec": {
      "name": "python3",
      "display_name": "Python 3"
    },
    "language_info": {
      "name": "python"
    },
    "widgets": {
      "application/vnd.jupyter.widget-state+json": {
        "3ab9e8dc5b694a41bb0426fd4a41e0ba": {
          "model_module": "jupyter-leaflet",
          "model_name": "LeafletMapModel",
          "model_module_version": "^0.17",
          "state": {
            "_dom_classes": [],
            "_model_module": "jupyter-leaflet",
            "_model_module_version": "^0.17",
            "_model_name": "LeafletMapModel",
            "_view_count": null,
            "_view_module": "jupyter-leaflet",
            "_view_module_version": "^0.17",
            "_view_name": "LeafletMapView",
            "bottom": 230108,
            "bounce_at_zoom_limits": true,
            "box_zoom": true,
            "center": [
              21.198233064130157,
              92.15051686742379
            ],
            "close_popup_on_click": true,
            "controls": [
              "IPY_MODEL_d31cd3451725414bbd5bc9eaca0d4953",
              "IPY_MODEL_d8ca5b0691294342bdf85e0e17b95c7f",
              "IPY_MODEL_f7e2acb3b340435a94e3f53c184687c7",
              "IPY_MODEL_0ad781d1a0f5484094a410def796473c",
              "IPY_MODEL_86caa21e58994692a48055f9e264a0ba",
              "IPY_MODEL_2e074fcef6e94ebbb675137e136b40de",
              "IPY_MODEL_695efaae4c1a4c3691e5fbab9dc7abd5",
              "IPY_MODEL_7a83baaae46549eead24b0a1bc7af9c6",
              "IPY_MODEL_2e5bf1bceef543bab7a39ca625ec96af"
            ],
            "crs": {
              "name": "EPSG3857",
              "custom": false
            },
            "default_style": "IPY_MODEL_10882b5c97864cdab62bb712ec25dbad",
            "double_click_zoom": true,
            "dragging": true,
            "dragging_style": "IPY_MODEL_022f6c5ef8cf45a3b309a582232c3f12",
            "east": 92.09632873535158,
            "fullscreen": false,
            "inertia": true,
            "inertia_deceleration": 3000,
            "inertia_max_speed": 1500,
            "interpolation": "bilinear",
            "keyboard": true,
            "keyboard_pan_offset": 80,
            "keyboard_zoom_offset": 1,
            "layers": [
              "IPY_MODEL_1be47f4cb96b4dc2b53162b10fbf18a5",
              "IPY_MODEL_568aeb7e0e3b4af0ad62fb9ddcae7558",
              "IPY_MODEL_d7440bd7e5274b5981cf3eaf95c45966"
            ],
            "layout": "IPY_MODEL_3caaadd4480044fe89f48946104e12e2",
            "left": 394859,
            "max_zoom": 24,
            "min_zoom": null,
            "modisdate": "2022-11-12",
            "north": 21.85894964541746,
            "options": [
              "bounce_at_zoom_limits",
              "box_zoom",
              "center",
              "close_popup_on_click",
              "double_click_zoom",
              "dragging",
              "fullscreen",
              "inertia",
              "inertia_deceleration",
              "inertia_max_speed",
              "interpolation",
              "keyboard",
              "keyboard_pan_offset",
              "keyboard_zoom_offset",
              "max_zoom",
              "min_zoom",
              "prefer_canvas",
              "scroll_wheel_zoom",
              "tap",
              "tap_tolerance",
              "touch_zoom",
              "world_copy_jump",
              "zoom",
              "zoom_animation_threshold",
              "zoom_delta",
              "zoom_snap"
            ],
            "panes": {},
            "prefer_canvas": false,
            "right": 396269,
            "scroll_wheel_zoom": true,
            "south": 21.476073444092435,
            "style": "IPY_MODEL_10882b5c97864cdab62bb712ec25dbad",
            "tap": true,
            "tap_tolerance": 15,
            "top": 229508,
            "touch_zoom": true,
            "west": 91.12815856933595,
            "window_url": "https://vyi12si03qk-496ff2e9c6d22116-0-colab.googleusercontent.com/outputframe.html?vrz=colab-20221110-060048-RC00_487504370",
            "world_copy_jump": false,
            "zoom": 11,
            "zoom_animation_threshold": 4,
            "zoom_delta": 1,
            "zoom_snap": 1
          }
        },
        "d31cd3451725414bbd5bc9eaca0d4953": {
          "model_module": "jupyter-leaflet",
          "model_name": "LeafletWidgetControlModel",
          "model_module_version": "^0.17",
          "state": {
            "_model_module": "jupyter-leaflet",
            "_model_module_version": "^0.17",
            "_model_name": "LeafletWidgetControlModel",
            "_view_count": null,
            "_view_module": "jupyter-leaflet",
            "_view_module_version": "^0.17",
            "_view_name": "LeafletWidgetControlView",
            "max_height": null,
            "max_width": null,
            "min_height": null,
            "min_width": null,
            "options": [
              "position",
              "transparent_bg"
            ],
            "position": "topleft",
            "transparent_bg": false,
            "widget": "IPY_MODEL_c78c6aa18bef411b9ec928d9e661f2d3"
          }
        },
        "d8ca5b0691294342bdf85e0e17b95c7f": {
          "model_module": "jupyter-leaflet",
          "model_name": "LeafletZoomControlModel",
          "model_module_version": "^0.17",
          "state": {
            "_model_module": "jupyter-leaflet",
            "_model_module_version": "^0.17",
            "_model_name": "LeafletZoomControlModel",
            "_view_count": null,
            "_view_module": "jupyter-leaflet",
            "_view_module_version": "^0.17",
            "_view_name": "LeafletZoomControlView",
            "options": [
              "position",
              "zoom_in_text",
              "zoom_in_title",
              "zoom_out_text",
              "zoom_out_title"
            ],
            "position": "topleft",
            "zoom_in_text": "+",
            "zoom_in_title": "Zoom in",
            "zoom_out_text": "-",
            "zoom_out_title": "Zoom out"
          }
        },
        "f7e2acb3b340435a94e3f53c184687c7": {
          "model_module": "jupyter-leaflet",
          "model_name": "LeafletScaleControlModel",
          "model_module_version": "^0.17",
          "state": {
            "_model_module": "jupyter-leaflet",
            "_model_module_version": "^0.17",
            "_model_name": "LeafletScaleControlModel",
            "_view_count": null,
            "_view_module": "jupyter-leaflet",
            "_view_module_version": "^0.17",
            "_view_name": "LeafletScaleControlView",
            "imperial": true,
            "max_width": 100,
            "metric": true,
            "options": [
              "imperial",
              "max_width",
              "metric",
              "position",
              "update_when_idle"
            ],
            "position": "bottomleft",
            "update_when_idle": false
          }
        },
        "0ad781d1a0f5484094a410def796473c": {
          "model_module": "jupyter-leaflet",
          "model_name": "LeafletFullScreenControlModel",
          "model_module_version": "^0.17",
          "state": {
            "_model_module": "jupyter-leaflet",
            "_model_module_version": "^0.17",
            "_model_name": "LeafletFullScreenControlModel",
            "_view_count": null,
            "_view_module": "jupyter-leaflet",
            "_view_module_version": "^0.17",
            "_view_name": "LeafletFullScreenControlView",
            "options": [
              "position"
            ],
            "position": "topleft"
          }
        },
        "86caa21e58994692a48055f9e264a0ba": {
          "model_module": "jupyter-leaflet",
          "model_name": "LeafletMeasureControlModel",
          "model_module_version": "^0.17",
          "state": {
            "_custom_units": {},
            "_model_module": "jupyter-leaflet",
            "_model_module_version": "^0.17",
            "_model_name": "LeafletMeasureControlModel",
            "_view_count": null,
            "_view_module": "jupyter-leaflet",
            "_view_module_version": "^0.17",
            "_view_name": "LeafletMeasureControlView",
            "active_color": "orange",
            "capture_z_index": 10000,
            "completed_color": "#C8F2BE",
            "options": [
              "active_color",
              "capture_z_index",
              "completed_color",
              "popup_options",
              "position",
              "primary_area_unit",
              "primary_length_unit",
              "secondary_area_unit",
              "secondary_length_unit"
            ],
            "popup_options": {
              "className": "leaflet-measure-resultpopup",
              "autoPanPadding": [
                10,
                10
              ]
            },
            "position": "bottomleft",
            "primary_area_unit": "acres",
            "primary_length_unit": "kilometers",
            "secondary_area_unit": null,
            "secondary_length_unit": null
          }
        },
        "2e074fcef6e94ebbb675137e136b40de": {
          "model_module": "jupyter-leaflet",
          "model_name": "LeafletAttributionControlModel",
          "model_module_version": "^0.17",
          "state": {
            "_model_module": "jupyter-leaflet",
            "_model_module_version": "^0.17",
            "_model_name": "LeafletAttributionControlModel",
            "_view_count": null,
            "_view_module": "jupyter-leaflet",
            "_view_module_version": "^0.17",
            "_view_name": "LeafletAttributionControlView",
            "options": [
              "position",
              "prefix"
            ],
            "position": "bottomright",
            "prefix": "ipyleaflet"
          }
        },
        "695efaae4c1a4c3691e5fbab9dc7abd5": {
          "model_module": "jupyter-leaflet",
          "model_name": "LeafletDrawControlModel",
          "model_module_version": "^0.17",
          "state": {
            "_model_module": "jupyter-leaflet",
            "_model_module_version": "^0.17",
            "_model_name": "LeafletDrawControlModel",
            "_view_count": null,
            "_view_module": "jupyter-leaflet",
            "_view_module_version": "^0.17",
            "_view_name": "LeafletDrawControlView",
            "circle": {
              "shapeOptions": {
                "color": "#3388ff"
              }
            },
            "circlemarker": {},
            "data": [],
            "edit": true,
            "marker": {
              "shapeOptions": {
                "color": "#3388ff"
              }
            },
            "options": [
              "position"
            ],
            "polygon": {
              "shapeOptions": {}
            },
            "polyline": {
              "shapeOptions": {}
            },
            "position": "topleft",
            "rectangle": {
              "shapeOptions": {
                "color": "#3388ff"
              }
            },
            "remove": true
          }
        },
        "7a83baaae46549eead24b0a1bc7af9c6": {
          "model_module": "jupyter-leaflet",
          "model_name": "LeafletWidgetControlModel",
          "model_module_version": "^0.17",
          "state": {
            "_model_module": "jupyter-leaflet",
            "_model_module_version": "^0.17",
            "_model_name": "LeafletWidgetControlModel",
            "_view_count": null,
            "_view_module": "jupyter-leaflet",
            "_view_module_version": "^0.17",
            "_view_name": "LeafletWidgetControlView",
            "max_height": null,
            "max_width": null,
            "min_height": null,
            "min_width": null,
            "options": [
              "position",
              "transparent_bg"
            ],
            "position": "topright",
            "transparent_bg": false,
            "widget": "IPY_MODEL_3049e71df1f14700bb9a3ce190303844"
          }
        },
        "10882b5c97864cdab62bb712ec25dbad": {
          "model_module": "jupyter-leaflet",
          "model_name": "LeafletMapStyleModel",
          "model_module_version": "^0.17",
          "state": {
            "_model_module": "jupyter-leaflet",
            "_model_module_version": "^0.17",
            "_model_name": "LeafletMapStyleModel",
            "_view_count": null,
            "_view_module": "@jupyter-widgets/base",
            "_view_module_version": "1.2.0",
            "_view_name": "StyleView",
            "cursor": "grab"
          }
        },
        "022f6c5ef8cf45a3b309a582232c3f12": {
          "model_module": "jupyter-leaflet",
          "model_name": "LeafletMapStyleModel",
          "model_module_version": "^0.17",
          "state": {
            "_model_module": "jupyter-leaflet",
            "_model_module_version": "^0.17",
            "_model_name": "LeafletMapStyleModel",
            "_view_count": null,
            "_view_module": "@jupyter-widgets/base",
            "_view_module_version": "1.2.0",
            "_view_name": "StyleView",
            "cursor": "move"
          }
        },
        "1de4d4efdeff47d793c8abe25d5126b0": {
          "model_module": "jupyter-leaflet",
          "model_name": "LeafletTileLayerModel",
          "model_module_version": "^0.17",
          "state": {
            "_model_module": "jupyter-leaflet",
            "_model_module_version": "^0.17",
            "_model_name": "LeafletTileLayerModel",
            "_view_count": null,
            "_view_module": "jupyter-leaflet",
            "_view_module_version": "^0.17",
            "_view_name": "LeafletTileLayerView",
            "attribution": "&copy; <a href=\"https://www.openstreetmap.org/copyright\">OpenStreetMap</a> contributors",
            "base": true,
            "bottom": true,
            "bounds": null,
            "detect_retina": false,
            "loading": false,
            "max_native_zoom": null,
            "max_zoom": 19,
            "min_native_zoom": null,
            "min_zoom": 1,
            "name": "OpenStreetMap.Mapnik",
            "no_wrap": false,
            "opacity": 1,
            "options": [
              "attribution",
              "bounds",
              "detect_retina",
              "max_native_zoom",
              "max_zoom",
              "min_native_zoom",
              "min_zoom",
              "no_wrap",
              "tile_size",
              "tms",
              "zoom_offset"
            ],
            "pane": "",
            "popup": null,
            "popup_max_height": null,
            "popup_max_width": 300,
            "popup_min_width": 50,
            "show_loading": false,
            "subitems": [],
            "tile_size": 256,
            "tms": false,
            "url": "https://tile.openstreetmap.org/{z}/{x}/{y}.png",
            "visible": true,
            "zoom_offset": 0
          }
        },
        "1ffc2a4ae6f345b59968665632d7ecb7": {
          "model_module": "jupyter-leaflet",
          "model_name": "LeafletTileLayerModel",
          "model_module_version": "^0.17",
          "state": {
            "_model_module": "jupyter-leaflet",
            "_model_module_version": "^0.17",
            "_model_name": "LeafletTileLayerModel",
            "_view_count": null,
            "_view_module": "jupyter-leaflet",
            "_view_module_version": "^0.17",
            "_view_name": "LeafletTileLayerView",
            "attribution": "Google",
            "base": false,
            "bottom": true,
            "bounds": null,
            "detect_retina": false,
            "loading": false,
            "max_native_zoom": null,
            "max_zoom": 22,
            "min_native_zoom": null,
            "min_zoom": 0,
            "name": "Google Maps",
            "no_wrap": false,
            "opacity": 1,
            "options": [
              "attribution",
              "bounds",
              "detect_retina",
              "max_native_zoom",
              "max_zoom",
              "min_native_zoom",
              "min_zoom",
              "no_wrap",
              "tile_size",
              "tms",
              "zoom_offset"
            ],
            "pane": "",
            "popup": null,
            "popup_max_height": null,
            "popup_max_width": 300,
            "popup_min_width": 50,
            "show_loading": false,
            "subitems": [],
            "tile_size": 256,
            "tms": false,
            "url": "https://mt1.google.com/vt/lyrs=m&x={x}&y={y}&z={z}",
            "visible": true,
            "zoom_offset": 0
          }
        },
        "8afa1de0b31841f59e27ad1cb63bf977": {
          "model_module": "jupyter-leaflet",
          "model_name": "LeafletTileLayerModel",
          "model_module_version": "^0.17",
          "state": {
            "_model_module": "jupyter-leaflet",
            "_model_module_version": "^0.17",
            "_model_name": "LeafletTileLayerModel",
            "_view_count": null,
            "_view_module": "jupyter-leaflet",
            "_view_module_version": "^0.17",
            "_view_name": "LeafletTileLayerView",
            "attribution": "Google Earth Engine",
            "base": false,
            "bottom": true,
            "bounds": null,
            "detect_retina": false,
            "loading": false,
            "max_native_zoom": null,
            "max_zoom": 24,
            "min_native_zoom": null,
            "min_zoom": 0,
            "name": "AOI",
            "no_wrap": false,
            "opacity": 1,
            "options": [
              "attribution",
              "bounds",
              "detect_retina",
              "max_native_zoom",
              "max_zoom",
              "min_native_zoom",
              "min_zoom",
              "no_wrap",
              "tile_size",
              "tms",
              "zoom_offset"
            ],
            "pane": "",
            "popup": null,
            "popup_max_height": null,
            "popup_max_width": 300,
            "popup_min_width": 50,
            "show_loading": false,
            "subitems": [],
            "tile_size": 256,
            "tms": false,
            "url": "https://earthengine.googleapis.com/v1alpha/projects/earthengine-legacy/maps/c2ebf77169234681a2903a84462283a0-b53c40f3d3a5ab5358404f027c3e1484/tiles/{z}/{x}/{y}",
            "visible": true,
            "zoom_offset": 0
          }
        },
        "3caaadd4480044fe89f48946104e12e2": {
          "model_module": "@jupyter-widgets/base",
          "model_name": "LayoutModel",
          "model_module_version": "1.2.0",
          "state": {
            "_model_module": "@jupyter-widgets/base",
            "_model_module_version": "1.2.0",
            "_model_name": "LayoutModel",
            "_view_count": null,
            "_view_module": "@jupyter-widgets/base",
            "_view_module_version": "1.2.0",
            "_view_name": "LayoutView",
            "align_content": null,
            "align_items": null,
            "align_self": null,
            "border": null,
            "bottom": null,
            "display": null,
            "flex": null,
            "flex_flow": null,
            "grid_area": null,
            "grid_auto_columns": null,
            "grid_auto_flow": null,
            "grid_auto_rows": null,
            "grid_column": null,
            "grid_gap": null,
            "grid_row": null,
            "grid_template_areas": null,
            "grid_template_columns": null,
            "grid_template_rows": null,
            "height": "600px",
            "justify_content": null,
            "justify_items": null,
            "left": null,
            "margin": null,
            "max_height": null,
            "max_width": null,
            "min_height": null,
            "min_width": null,
            "object_fit": null,
            "object_position": null,
            "order": null,
            "overflow": null,
            "overflow_x": null,
            "overflow_y": null,
            "padding": null,
            "right": null,
            "top": null,
            "visibility": null,
            "width": null
          }
        },
        "e4b0aef5d3b941dfbc1e1aa334ceebeb": {
          "model_module": "jupyter-leaflet",
          "model_name": "LeafletMapStyleModel",
          "model_module_version": "^0.17",
          "state": {
            "_model_module": "jupyter-leaflet",
            "_model_module_version": "^0.17",
            "_model_name": "LeafletMapStyleModel",
            "_view_count": null,
            "_view_module": "@jupyter-widgets/base",
            "_view_module_version": "1.2.0",
            "_view_name": "StyleView",
            "cursor": "grab"
          }
        },
        "c78c6aa18bef411b9ec928d9e661f2d3": {
          "model_module": "@jupyter-widgets/controls",
          "model_name": "HBoxModel",
          "model_module_version": "1.5.0",
          "state": {
            "_dom_classes": [],
            "_model_module": "@jupyter-widgets/controls",
            "_model_module_version": "1.5.0",
            "_model_name": "HBoxModel",
            "_view_count": null,
            "_view_module": "@jupyter-widgets/controls",
            "_view_module_version": "1.5.0",
            "_view_name": "HBoxView",
            "box_style": "",
            "children": [
              "IPY_MODEL_bd269f635cb64b75b891201dd66b5f9d"
            ],
            "layout": "IPY_MODEL_7b6ee01a14e24881b6005c7fec87bfaf"
          }
        },
        "3049e71df1f14700bb9a3ce190303844": {
          "model_module": "@jupyter-widgets/controls",
          "model_name": "VBoxModel",
          "model_module_version": "1.5.0",
          "state": {
            "_dom_classes": [],
            "_model_module": "@jupyter-widgets/controls",
            "_model_module_version": "1.5.0",
            "_model_name": "VBoxModel",
            "_view_count": null,
            "_view_module": "@jupyter-widgets/controls",
            "_view_module_version": "1.5.0",
            "_view_name": "VBoxView",
            "box_style": "",
            "children": [
              "IPY_MODEL_3e39fa36f49c4c19b5994bec676abfa4"
            ],
            "layout": "IPY_MODEL_89bc493d0f1d4de4bda88ab33b5f6087"
          }
        },
        "bd269f635cb64b75b891201dd66b5f9d": {
          "model_module": "@jupyter-widgets/controls",
          "model_name": "ToggleButtonModel",
          "model_module_version": "1.5.0",
          "state": {
            "_dom_classes": [],
            "_model_module": "@jupyter-widgets/controls",
            "_model_module_version": "1.5.0",
            "_model_name": "ToggleButtonModel",
            "_view_count": null,
            "_view_module": "@jupyter-widgets/controls",
            "_view_module_version": "1.5.0",
            "_view_name": "ToggleButtonView",
            "button_style": "",
            "description": "",
            "description_tooltip": null,
            "disabled": false,
            "icon": "globe",
            "layout": "IPY_MODEL_0521b85617614a09a046005019fdb89f",
            "style": "IPY_MODEL_341858e55b504ffe8be28c234fb9dbb9",
            "tooltip": "Search location/data",
            "value": false
          }
        },
        "7b6ee01a14e24881b6005c7fec87bfaf": {
          "model_module": "@jupyter-widgets/base",
          "model_name": "LayoutModel",
          "model_module_version": "1.2.0",
          "state": {
            "_model_module": "@jupyter-widgets/base",
            "_model_module_version": "1.2.0",
            "_model_name": "LayoutModel",
            "_view_count": null,
            "_view_module": "@jupyter-widgets/base",
            "_view_module_version": "1.2.0",
            "_view_name": "LayoutView",
            "align_content": null,
            "align_items": null,
            "align_self": null,
            "border": null,
            "bottom": null,
            "display": null,
            "flex": null,
            "flex_flow": null,
            "grid_area": null,
            "grid_auto_columns": null,
            "grid_auto_flow": null,
            "grid_auto_rows": null,
            "grid_column": null,
            "grid_gap": null,
            "grid_row": null,
            "grid_template_areas": null,
            "grid_template_columns": null,
            "grid_template_rows": null,
            "height": null,
            "justify_content": null,
            "justify_items": null,
            "left": null,
            "margin": null,
            "max_height": null,
            "max_width": null,
            "min_height": null,
            "min_width": null,
            "object_fit": null,
            "object_position": null,
            "order": null,
            "overflow": null,
            "overflow_x": null,
            "overflow_y": null,
            "padding": null,
            "right": null,
            "top": null,
            "visibility": null,
            "width": null
          }
        },
        "3e39fa36f49c4c19b5994bec676abfa4": {
          "model_module": "@jupyter-widgets/controls",
          "model_name": "ToggleButtonModel",
          "model_module_version": "1.5.0",
          "state": {
            "_dom_classes": [],
            "_model_module": "@jupyter-widgets/controls",
            "_model_module_version": "1.5.0",
            "_model_name": "ToggleButtonModel",
            "_view_count": null,
            "_view_module": "@jupyter-widgets/controls",
            "_view_module_version": "1.5.0",
            "_view_name": "ToggleButtonView",
            "button_style": "",
            "description": "",
            "description_tooltip": null,
            "disabled": false,
            "icon": "wrench",
            "layout": "IPY_MODEL_8d6775e5f18d45108268eaaf4e2c5c6d",
            "style": "IPY_MODEL_8cf4cee94625426eb73186c8059e9bd7",
            "tooltip": "Toolbar",
            "value": false
          }
        },
        "89bc493d0f1d4de4bda88ab33b5f6087": {
          "model_module": "@jupyter-widgets/base",
          "model_name": "LayoutModel",
          "model_module_version": "1.2.0",
          "state": {
            "_model_module": "@jupyter-widgets/base",
            "_model_module_version": "1.2.0",
            "_model_name": "LayoutModel",
            "_view_count": null,
            "_view_module": "@jupyter-widgets/base",
            "_view_module_version": "1.2.0",
            "_view_name": "LayoutView",
            "align_content": null,
            "align_items": null,
            "align_self": null,
            "border": null,
            "bottom": null,
            "display": null,
            "flex": null,
            "flex_flow": null,
            "grid_area": null,
            "grid_auto_columns": null,
            "grid_auto_flow": null,
            "grid_auto_rows": null,
            "grid_column": null,
            "grid_gap": null,
            "grid_row": null,
            "grid_template_areas": null,
            "grid_template_columns": null,
            "grid_template_rows": null,
            "height": null,
            "justify_content": null,
            "justify_items": null,
            "left": null,
            "margin": null,
            "max_height": null,
            "max_width": null,
            "min_height": null,
            "min_width": null,
            "object_fit": null,
            "object_position": null,
            "order": null,
            "overflow": null,
            "overflow_x": null,
            "overflow_y": null,
            "padding": null,
            "right": null,
            "top": null,
            "visibility": null,
            "width": null
          }
        },
        "0521b85617614a09a046005019fdb89f": {
          "model_module": "@jupyter-widgets/base",
          "model_name": "LayoutModel",
          "model_module_version": "1.2.0",
          "state": {
            "_model_module": "@jupyter-widgets/base",
            "_model_module_version": "1.2.0",
            "_model_name": "LayoutModel",
            "_view_count": null,
            "_view_module": "@jupyter-widgets/base",
            "_view_module_version": "1.2.0",
            "_view_name": "LayoutView",
            "align_content": null,
            "align_items": null,
            "align_self": null,
            "border": null,
            "bottom": null,
            "display": null,
            "flex": null,
            "flex_flow": null,
            "grid_area": null,
            "grid_auto_columns": null,
            "grid_auto_flow": null,
            "grid_auto_rows": null,
            "grid_column": null,
            "grid_gap": null,
            "grid_row": null,
            "grid_template_areas": null,
            "grid_template_columns": null,
            "grid_template_rows": null,
            "height": "28px",
            "justify_content": null,
            "justify_items": null,
            "left": null,
            "margin": null,
            "max_height": null,
            "max_width": null,
            "min_height": null,
            "min_width": null,
            "object_fit": null,
            "object_position": null,
            "order": null,
            "overflow": null,
            "overflow_x": null,
            "overflow_y": null,
            "padding": "0px 0px 0px 4px",
            "right": null,
            "top": null,
            "visibility": null,
            "width": "28px"
          }
        },
        "341858e55b504ffe8be28c234fb9dbb9": {
          "model_module": "@jupyter-widgets/controls",
          "model_name": "DescriptionStyleModel",
          "model_module_version": "1.5.0",
          "state": {
            "_model_module": "@jupyter-widgets/controls",
            "_model_module_version": "1.5.0",
            "_model_name": "DescriptionStyleModel",
            "_view_count": null,
            "_view_module": "@jupyter-widgets/base",
            "_view_module_version": "1.2.0",
            "_view_name": "StyleView",
            "description_width": ""
          }
        },
        "8d6775e5f18d45108268eaaf4e2c5c6d": {
          "model_module": "@jupyter-widgets/base",
          "model_name": "LayoutModel",
          "model_module_version": "1.2.0",
          "state": {
            "_model_module": "@jupyter-widgets/base",
            "_model_module_version": "1.2.0",
            "_model_name": "LayoutModel",
            "_view_count": null,
            "_view_module": "@jupyter-widgets/base",
            "_view_module_version": "1.2.0",
            "_view_name": "LayoutView",
            "align_content": null,
            "align_items": null,
            "align_self": null,
            "border": null,
            "bottom": null,
            "display": null,
            "flex": null,
            "flex_flow": null,
            "grid_area": null,
            "grid_auto_columns": null,
            "grid_auto_flow": null,
            "grid_auto_rows": null,
            "grid_column": null,
            "grid_gap": null,
            "grid_row": null,
            "grid_template_areas": null,
            "grid_template_columns": null,
            "grid_template_rows": null,
            "height": "28px",
            "justify_content": null,
            "justify_items": null,
            "left": null,
            "margin": null,
            "max_height": null,
            "max_width": null,
            "min_height": null,
            "min_width": null,
            "object_fit": null,
            "object_position": null,
            "order": null,
            "overflow": null,
            "overflow_x": null,
            "overflow_y": null,
            "padding": "0px 0px 0px 4px",
            "right": null,
            "top": null,
            "visibility": null,
            "width": "28px"
          }
        },
        "8cf4cee94625426eb73186c8059e9bd7": {
          "model_module": "@jupyter-widgets/controls",
          "model_name": "DescriptionStyleModel",
          "model_module_version": "1.5.0",
          "state": {
            "_model_module": "@jupyter-widgets/controls",
            "_model_module_version": "1.5.0",
            "_model_name": "DescriptionStyleModel",
            "_view_count": null,
            "_view_module": "@jupyter-widgets/base",
            "_view_module_version": "1.2.0",
            "_view_name": "StyleView",
            "description_width": ""
          }
        },
        "1df3af635eef4493880153afdea2bce8": {
          "model_module": "jupyter-leaflet",
          "model_name": "LeafletTileLayerModel",
          "model_module_version": "^0.17",
          "state": {
            "_model_module": "jupyter-leaflet",
            "_model_module_version": "^0.17",
            "_model_name": "LeafletTileLayerModel",
            "_view_count": null,
            "_view_module": "jupyter-leaflet",
            "_view_module_version": "^0.17",
            "_view_name": "LeafletTileLayerView",
            "attribution": "Google Earth Engine",
            "base": false,
            "bottom": true,
            "bounds": null,
            "detect_retina": false,
            "loading": false,
            "max_native_zoom": null,
            "max_zoom": 24,
            "min_native_zoom": null,
            "min_zoom": 0,
            "name": "Layer 4",
            "no_wrap": false,
            "opacity": 1,
            "options": [
              "attribution",
              "bounds",
              "detect_retina",
              "max_native_zoom",
              "max_zoom",
              "min_native_zoom",
              "min_zoom",
              "no_wrap",
              "tile_size",
              "tms",
              "zoom_offset"
            ],
            "pane": "",
            "popup": null,
            "popup_max_height": null,
            "popup_max_width": 300,
            "popup_min_width": 50,
            "show_loading": false,
            "subitems": [],
            "tile_size": 256,
            "tms": false,
            "url": "https://earthengine.googleapis.com/v1alpha/projects/earthengine-legacy/maps/87874bad8b97f0b34da4b7af894353ab-ea9d76ea18bcf8b69a9d38cca890f7db/tiles/{z}/{x}/{y}",
            "visible": true,
            "zoom_offset": 0
          }
        },
        "7925d17b088549daae5f6087c7dcf57f": {
          "model_module": "jupyter-leaflet",
          "model_name": "LeafletTileLayerModel",
          "model_module_version": "^0.17",
          "state": {
            "_model_module": "jupyter-leaflet",
            "_model_module_version": "^0.17",
            "_model_name": "LeafletTileLayerModel",
            "_view_count": null,
            "_view_module": "jupyter-leaflet",
            "_view_module_version": "^0.17",
            "_view_name": "LeafletTileLayerView",
            "attribution": "Google Earth Engine",
            "base": false,
            "bottom": true,
            "bounds": null,
            "detect_retina": false,
            "loading": false,
            "max_native_zoom": null,
            "max_zoom": 24,
            "min_native_zoom": null,
            "min_zoom": 0,
            "name": "Least Cloudy Image",
            "no_wrap": false,
            "opacity": 1,
            "options": [
              "attribution",
              "bounds",
              "detect_retina",
              "max_native_zoom",
              "max_zoom",
              "min_native_zoom",
              "min_zoom",
              "no_wrap",
              "tile_size",
              "tms",
              "zoom_offset"
            ],
            "pane": "",
            "popup": null,
            "popup_max_height": null,
            "popup_max_width": 300,
            "popup_min_width": 50,
            "show_loading": false,
            "subitems": [],
            "tile_size": 256,
            "tms": false,
            "url": "https://earthengine.googleapis.com/v1alpha/projects/earthengine-legacy/maps/23714b9ab733e4f7fc7b0c8bb434c5cf-1483857cb08fa5131156b51faa82cdd4/tiles/{z}/{x}/{y}",
            "visible": true,
            "zoom_offset": 0
          }
        },
        "1874cb0973304541bf1a1ea3fec7b6d7": {
          "model_module": "jupyter-leaflet",
          "model_name": "LeafletTileLayerModel",
          "model_module_version": "^0.17",
          "state": {
            "_model_module": "jupyter-leaflet",
            "_model_module_version": "^0.17",
            "_model_name": "LeafletTileLayerModel",
            "_view_count": null,
            "_view_module": "jupyter-leaflet",
            "_view_module_version": "^0.17",
            "_view_name": "LeafletTileLayerView",
            "attribution": "Google Earth Engine",
            "base": false,
            "bottom": true,
            "bounds": null,
            "detect_retina": false,
            "loading": false,
            "max_native_zoom": null,
            "max_zoom": 24,
            "min_native_zoom": null,
            "min_zoom": 0,
            "name": "clipped_NIR",
            "no_wrap": false,
            "opacity": 1,
            "options": [
              "attribution",
              "bounds",
              "detect_retina",
              "max_native_zoom",
              "max_zoom",
              "min_native_zoom",
              "min_zoom",
              "no_wrap",
              "tile_size",
              "tms",
              "zoom_offset"
            ],
            "pane": "",
            "popup": null,
            "popup_max_height": null,
            "popup_max_width": 300,
            "popup_min_width": 50,
            "show_loading": false,
            "subitems": [],
            "tile_size": 256,
            "tms": false,
            "url": "https://earthengine.googleapis.com/v1alpha/projects/earthengine-legacy/maps/70d3f304a789debdfb26cd50c1633323-2bfe08ee40267fe6e42178650fbe33fe/tiles/{z}/{x}/{y}",
            "visible": true,
            "zoom_offset": 0
          }
        },
        "2e5bf1bceef543bab7a39ca625ec96af": {
          "model_module": "jupyter-leaflet",
          "model_name": "LeafletLayersControlModel",
          "model_module_version": "^0.17",
          "state": {
            "_model_module": "jupyter-leaflet",
            "_model_module_version": "^0.17",
            "_model_name": "LeafletLayersControlModel",
            "_view_count": null,
            "_view_module": "jupyter-leaflet",
            "_view_module_version": "^0.17",
            "_view_name": "LeafletLayersControlView",
            "options": [
              "position"
            ],
            "position": "topright"
          }
        },
        "0abc0c4e3ab94440b1cd4f35d831fba6": {
          "model_module": "jupyter-leaflet",
          "model_name": "LeafletTileLayerModel",
          "model_module_version": "^0.17",
          "state": {
            "_model_module": "jupyter-leaflet",
            "_model_module_version": "^0.17",
            "_model_name": "LeafletTileLayerModel",
            "_view_count": null,
            "_view_module": "jupyter-leaflet",
            "_view_module_version": "^0.17",
            "_view_name": "LeafletTileLayerView",
            "attribution": "Google Earth Engine",
            "base": false,
            "bottom": true,
            "bounds": null,
            "detect_retina": false,
            "loading": false,
            "max_native_zoom": null,
            "max_zoom": 24,
            "min_native_zoom": null,
            "min_zoom": 0,
            "name": "NDVI of AOI",
            "no_wrap": false,
            "opacity": 1,
            "options": [
              "attribution",
              "bounds",
              "detect_retina",
              "max_native_zoom",
              "max_zoom",
              "min_native_zoom",
              "min_zoom",
              "no_wrap",
              "tile_size",
              "tms",
              "zoom_offset"
            ],
            "pane": "",
            "popup": null,
            "popup_max_height": null,
            "popup_max_width": 300,
            "popup_min_width": 50,
            "show_loading": false,
            "subitems": [],
            "tile_size": 256,
            "tms": false,
            "url": "https://earthengine.googleapis.com/v1alpha/projects/earthengine-legacy/maps/04c4315a4c335f263c96f45bdeb9f836-02e86d737a1d1fef13fe52adb1230f22/tiles/{z}/{x}/{y}",
            "visible": true,
            "zoom_offset": 0
          }
        },
        "7cdab05d5d9d4e268430b929951f217e": {
          "model_module": "jupyter-leaflet",
          "model_name": "LeafletTileLayerModel",
          "model_module_version": "^0.17",
          "state": {
            "_model_module": "jupyter-leaflet",
            "_model_module_version": "^0.17",
            "_model_name": "LeafletTileLayerModel",
            "_view_count": null,
            "_view_module": "jupyter-leaflet",
            "_view_module_version": "^0.17",
            "_view_name": "LeafletTileLayerView",
            "attribution": "Google Earth Engine",
            "base": false,
            "bottom": true,
            "bounds": null,
            "detect_retina": false,
            "loading": true,
            "max_native_zoom": null,
            "max_zoom": 24,
            "min_native_zoom": null,
            "min_zoom": 0,
            "name": "Proportional Vegetation",
            "no_wrap": false,
            "opacity": 1,
            "options": [
              "attribution",
              "bounds",
              "detect_retina",
              "max_native_zoom",
              "max_zoom",
              "min_native_zoom",
              "min_zoom",
              "no_wrap",
              "tile_size",
              "tms",
              "zoom_offset"
            ],
            "pane": "",
            "popup": null,
            "popup_max_height": null,
            "popup_max_width": 300,
            "popup_min_width": 50,
            "show_loading": false,
            "subitems": [],
            "tile_size": 256,
            "tms": false,
            "url": "https://earthengine.googleapis.com/v1alpha/projects/earthengine-legacy/maps/59b7af0d4ef8f7b7eec05e898da5f910-801d51a585ca1f95eb3a3ffa03bfeae4/tiles/{z}/{x}/{y}",
            "visible": true,
            "zoom_offset": 0
          }
        },
        "4876c1f4049b4eb0bc4108d28f2101e0": {
          "model_module": "jupyter-leaflet",
          "model_name": "LeafletTileLayerModel",
          "model_module_version": "^0.17",
          "state": {
            "_model_module": "jupyter-leaflet",
            "_model_module_version": "^0.17",
            "_model_name": "LeafletTileLayerModel",
            "_view_count": null,
            "_view_module": "jupyter-leaflet",
            "_view_module_version": "^0.17",
            "_view_name": "LeafletTileLayerView",
            "attribution": "Google Earth Engine",
            "base": false,
            "bottom": true,
            "bounds": null,
            "detect_retina": false,
            "loading": true,
            "max_native_zoom": null,
            "max_zoom": 24,
            "min_native_zoom": null,
            "min_zoom": 0,
            "name": "Proportional Vegetation",
            "no_wrap": false,
            "opacity": 1,
            "options": [
              "attribution",
              "bounds",
              "detect_retina",
              "max_native_zoom",
              "max_zoom",
              "min_native_zoom",
              "min_zoom",
              "no_wrap",
              "tile_size",
              "tms",
              "zoom_offset"
            ],
            "pane": "",
            "popup": null,
            "popup_max_height": null,
            "popup_max_width": 300,
            "popup_min_width": 50,
            "show_loading": false,
            "subitems": [],
            "tile_size": 256,
            "tms": false,
            "url": "https://earthengine.googleapis.com/v1alpha/projects/earthengine-legacy/maps/59b7af0d4ef8f7b7eec05e898da5f910-dd7278b07cfae0627bb00961817160d0/tiles/{z}/{x}/{y}",
            "visible": true,
            "zoom_offset": 0
          }
        },
        "1be47f4cb96b4dc2b53162b10fbf18a5": {
          "model_module": "jupyter-leaflet",
          "model_name": "LeafletTileLayerModel",
          "model_module_version": "^0.17",
          "state": {
            "_model_module": "jupyter-leaflet",
            "_model_module_version": "^0.17",
            "_model_name": "LeafletTileLayerModel",
            "_view_count": null,
            "_view_module": "jupyter-leaflet",
            "_view_module_version": "^0.17",
            "_view_name": "LeafletTileLayerView",
            "attribution": "Google",
            "base": false,
            "bottom": true,
            "bounds": null,
            "detect_retina": false,
            "loading": false,
            "max_native_zoom": null,
            "max_zoom": 22,
            "min_native_zoom": null,
            "min_zoom": 0,
            "name": "Google Satellite",
            "no_wrap": false,
            "opacity": 1,
            "options": [
              "attribution",
              "bounds",
              "detect_retina",
              "max_native_zoom",
              "max_zoom",
              "min_native_zoom",
              "min_zoom",
              "no_wrap",
              "tile_size",
              "tms",
              "zoom_offset"
            ],
            "pane": "",
            "popup": null,
            "popup_max_height": null,
            "popup_max_width": 300,
            "popup_min_width": 50,
            "show_loading": false,
            "subitems": [],
            "tile_size": 256,
            "tms": false,
            "url": "https://mt1.google.com/vt/lyrs=y&x={x}&y={y}&z={z}",
            "visible": true,
            "zoom_offset": 0
          }
        },
        "305558d03e784e96bc5de039141aedae": {
          "model_module": "jupyter-leaflet",
          "model_name": "LeafletTileLayerModel",
          "model_module_version": "^0.17",
          "state": {
            "_model_module": "jupyter-leaflet",
            "_model_module_version": "^0.17",
            "_model_name": "LeafletTileLayerModel",
            "_view_count": null,
            "_view_module": "jupyter-leaflet",
            "_view_module_version": "^0.17",
            "_view_name": "LeafletTileLayerView",
            "attribution": "Google Earth Engine",
            "base": false,
            "bottom": true,
            "bounds": null,
            "detect_retina": false,
            "loading": true,
            "max_native_zoom": null,
            "max_zoom": 24,
            "min_native_zoom": null,
            "min_zoom": 0,
            "name": "Proportional Vegetation",
            "no_wrap": false,
            "opacity": 1,
            "options": [
              "attribution",
              "bounds",
              "detect_retina",
              "max_native_zoom",
              "max_zoom",
              "min_native_zoom",
              "min_zoom",
              "no_wrap",
              "tile_size",
              "tms",
              "zoom_offset"
            ],
            "pane": "",
            "popup": null,
            "popup_max_height": null,
            "popup_max_width": 300,
            "popup_min_width": 50,
            "show_loading": false,
            "subitems": [],
            "tile_size": 256,
            "tms": false,
            "url": "https://earthengine.googleapis.com/v1alpha/projects/earthengine-legacy/maps/59b7af0d4ef8f7b7eec05e898da5f910-12944ae3d18902f732d8e4018459c526/tiles/{z}/{x}/{y}",
            "visible": true,
            "zoom_offset": 0
          }
        },
        "fdfa87a1a4254694a497fe9612cc4c23": {
          "model_module": "jupyter-leaflet",
          "model_name": "LeafletTileLayerModel",
          "model_module_version": "^0.17",
          "state": {
            "_model_module": "jupyter-leaflet",
            "_model_module_version": "^0.17",
            "_model_name": "LeafletTileLayerModel",
            "_view_count": null,
            "_view_module": "jupyter-leaflet",
            "_view_module_version": "^0.17",
            "_view_name": "LeafletTileLayerView",
            "attribution": "Google Earth Engine",
            "base": false,
            "bottom": true,
            "bounds": null,
            "detect_retina": false,
            "loading": true,
            "max_native_zoom": null,
            "max_zoom": 24,
            "min_native_zoom": null,
            "min_zoom": 0,
            "name": "Proportional Vegetation",
            "no_wrap": false,
            "opacity": 1,
            "options": [
              "attribution",
              "bounds",
              "detect_retina",
              "max_native_zoom",
              "max_zoom",
              "min_native_zoom",
              "min_zoom",
              "no_wrap",
              "tile_size",
              "tms",
              "zoom_offset"
            ],
            "pane": "",
            "popup": null,
            "popup_max_height": null,
            "popup_max_width": 300,
            "popup_min_width": 50,
            "show_loading": false,
            "subitems": [],
            "tile_size": 256,
            "tms": false,
            "url": "https://earthengine.googleapis.com/v1alpha/projects/earthengine-legacy/maps/59b7af0d4ef8f7b7eec05e898da5f910-0edb62af119bdf577cca87633d605e0e/tiles/{z}/{x}/{y}",
            "visible": true,
            "zoom_offset": 0
          }
        },
        "2d7c8e235f814bc9bcfa8bd5bc9f3f4a": {
          "model_module": "jupyter-leaflet",
          "model_name": "LeafletTileLayerModel",
          "model_module_version": "^0.17",
          "state": {
            "_model_module": "jupyter-leaflet",
            "_model_module_version": "^0.17",
            "_model_name": "LeafletTileLayerModel",
            "_view_count": null,
            "_view_module": "jupyter-leaflet",
            "_view_module_version": "^0.17",
            "_view_name": "LeafletTileLayerView",
            "attribution": "Google Earth Engine",
            "base": false,
            "bottom": true,
            "bounds": null,
            "detect_retina": false,
            "loading": true,
            "max_native_zoom": null,
            "max_zoom": 24,
            "min_native_zoom": null,
            "min_zoom": 0,
            "name": "Proportional Vegetation",
            "no_wrap": false,
            "opacity": 1,
            "options": [
              "attribution",
              "bounds",
              "detect_retina",
              "max_native_zoom",
              "max_zoom",
              "min_native_zoom",
              "min_zoom",
              "no_wrap",
              "tile_size",
              "tms",
              "zoom_offset"
            ],
            "pane": "",
            "popup": null,
            "popup_max_height": null,
            "popup_max_width": 300,
            "popup_min_width": 50,
            "show_loading": false,
            "subitems": [],
            "tile_size": 256,
            "tms": false,
            "url": "https://earthengine.googleapis.com/v1alpha/projects/earthengine-legacy/maps/59b7af0d4ef8f7b7eec05e898da5f910-ec7ac84ed75e6dd5c627d1dc8d36ccac/tiles/{z}/{x}/{y}",
            "visible": true,
            "zoom_offset": 0
          }
        },
        "4f15ddf481c54d0189b390dd4a27bf5a": {
          "model_module": "jupyter-leaflet",
          "model_name": "LeafletTileLayerModel",
          "model_module_version": "^0.17",
          "state": {
            "_model_module": "jupyter-leaflet",
            "_model_module_version": "^0.17",
            "_model_name": "LeafletTileLayerModel",
            "_view_count": null,
            "_view_module": "jupyter-leaflet",
            "_view_module_version": "^0.17",
            "_view_name": "LeafletTileLayerView",
            "attribution": "Google Earth Engine",
            "base": false,
            "bottom": true,
            "bounds": null,
            "detect_retina": false,
            "loading": true,
            "max_native_zoom": null,
            "max_zoom": 24,
            "min_native_zoom": null,
            "min_zoom": 0,
            "name": "Proportional Vegetation",
            "no_wrap": false,
            "opacity": 1,
            "options": [
              "attribution",
              "bounds",
              "detect_retina",
              "max_native_zoom",
              "max_zoom",
              "min_native_zoom",
              "min_zoom",
              "no_wrap",
              "tile_size",
              "tms",
              "zoom_offset"
            ],
            "pane": "",
            "popup": null,
            "popup_max_height": null,
            "popup_max_width": 300,
            "popup_min_width": 50,
            "show_loading": false,
            "subitems": [],
            "tile_size": 256,
            "tms": false,
            "url": "https://earthengine.googleapis.com/v1alpha/projects/earthengine-legacy/maps/59b7af0d4ef8f7b7eec05e898da5f910-18c2a1281da2a84c0f0f1cc216260e98/tiles/{z}/{x}/{y}",
            "visible": true,
            "zoom_offset": 0
          }
        },
        "dd8a0ba90d4c4a1da5a1e2f6ad2ce337": {
          "model_module": "jupyter-leaflet",
          "model_name": "LeafletTileLayerModel",
          "model_module_version": "^0.17",
          "state": {
            "_model_module": "jupyter-leaflet",
            "_model_module_version": "^0.17",
            "_model_name": "LeafletTileLayerModel",
            "_view_count": null,
            "_view_module": "jupyter-leaflet",
            "_view_module_version": "^0.17",
            "_view_name": "LeafletTileLayerView",
            "attribution": "Google Earth Engine",
            "base": false,
            "bottom": true,
            "bounds": null,
            "detect_retina": false,
            "loading": true,
            "max_native_zoom": null,
            "max_zoom": 24,
            "min_native_zoom": null,
            "min_zoom": 0,
            "name": "Proportional Vegetation",
            "no_wrap": false,
            "opacity": 1,
            "options": [
              "attribution",
              "bounds",
              "detect_retina",
              "max_native_zoom",
              "max_zoom",
              "min_native_zoom",
              "min_zoom",
              "no_wrap",
              "tile_size",
              "tms",
              "zoom_offset"
            ],
            "pane": "",
            "popup": null,
            "popup_max_height": null,
            "popup_max_width": 300,
            "popup_min_width": 50,
            "show_loading": false,
            "subitems": [],
            "tile_size": 256,
            "tms": false,
            "url": "https://earthengine.googleapis.com/v1alpha/projects/earthengine-legacy/maps/59b7af0d4ef8f7b7eec05e898da5f910-5e7070503cffe23018fc504f3654cfd0/tiles/{z}/{x}/{y}",
            "visible": true,
            "zoom_offset": 0
          }
        },
        "370e086efcce472bbc015cbbcad1a2e7": {
          "model_module": "jupyter-leaflet",
          "model_name": "LeafletTileLayerModel",
          "model_module_version": "^0.17",
          "state": {
            "_model_module": "jupyter-leaflet",
            "_model_module_version": "^0.17",
            "_model_name": "LeafletTileLayerModel",
            "_view_count": null,
            "_view_module": "jupyter-leaflet",
            "_view_module_version": "^0.17",
            "_view_name": "LeafletTileLayerView",
            "attribution": "Google Earth Engine",
            "base": false,
            "bottom": true,
            "bounds": null,
            "detect_retina": false,
            "loading": true,
            "max_native_zoom": null,
            "max_zoom": 24,
            "min_native_zoom": null,
            "min_zoom": 0,
            "name": "Proportional Vegetation",
            "no_wrap": false,
            "opacity": 1,
            "options": [
              "attribution",
              "bounds",
              "detect_retina",
              "max_native_zoom",
              "max_zoom",
              "min_native_zoom",
              "min_zoom",
              "no_wrap",
              "tile_size",
              "tms",
              "zoom_offset"
            ],
            "pane": "",
            "popup": null,
            "popup_max_height": null,
            "popup_max_width": 300,
            "popup_min_width": 50,
            "show_loading": false,
            "subitems": [],
            "tile_size": 256,
            "tms": false,
            "url": "https://earthengine.googleapis.com/v1alpha/projects/earthengine-legacy/maps/59b7af0d4ef8f7b7eec05e898da5f910-1d589c484a59c0ecbe53d02e6388045e/tiles/{z}/{x}/{y}",
            "visible": true,
            "zoom_offset": 0
          }
        },
        "b945874129b74ca08bc442821b7ed108": {
          "model_module": "jupyter-leaflet",
          "model_name": "LeafletTileLayerModel",
          "model_module_version": "^0.17",
          "state": {
            "_model_module": "jupyter-leaflet",
            "_model_module_version": "^0.17",
            "_model_name": "LeafletTileLayerModel",
            "_view_count": null,
            "_view_module": "jupyter-leaflet",
            "_view_module_version": "^0.17",
            "_view_name": "LeafletTileLayerView",
            "attribution": "Google Earth Engine",
            "base": false,
            "bottom": true,
            "bounds": null,
            "detect_retina": false,
            "loading": false,
            "max_native_zoom": null,
            "max_zoom": 24,
            "min_native_zoom": null,
            "min_zoom": 0,
            "name": "Proportional Vegetation",
            "no_wrap": false,
            "opacity": 1,
            "options": [
              "attribution",
              "bounds",
              "detect_retina",
              "max_native_zoom",
              "max_zoom",
              "min_native_zoom",
              "min_zoom",
              "no_wrap",
              "tile_size",
              "tms",
              "zoom_offset"
            ],
            "pane": "",
            "popup": null,
            "popup_max_height": null,
            "popup_max_width": 300,
            "popup_min_width": 50,
            "show_loading": false,
            "subitems": [],
            "tile_size": 256,
            "tms": false,
            "url": "https://earthengine.googleapis.com/v1alpha/projects/earthengine-legacy/maps/59b7af0d4ef8f7b7eec05e898da5f910-ed0538ccbb3e2381325def4e2a08bf22/tiles/{z}/{x}/{y}",
            "visible": true,
            "zoom_offset": 0
          }
        },
        "d4f59515a3414579bbef9bb4092bbbc6": {
          "model_module": "jupyter-leaflet",
          "model_name": "LeafletTileLayerModel",
          "model_module_version": "^0.17",
          "state": {
            "_model_module": "jupyter-leaflet",
            "_model_module_version": "^0.17",
            "_model_name": "LeafletTileLayerModel",
            "_view_count": null,
            "_view_module": "jupyter-leaflet",
            "_view_module_version": "^0.17",
            "_view_name": "LeafletTileLayerView",
            "attribution": "Google Earth Engine",
            "base": false,
            "bottom": true,
            "bounds": null,
            "detect_retina": false,
            "loading": true,
            "max_native_zoom": null,
            "max_zoom": 24,
            "min_native_zoom": null,
            "min_zoom": 0,
            "name": "Proportional Vegetation",
            "no_wrap": false,
            "opacity": 1,
            "options": [
              "attribution",
              "bounds",
              "detect_retina",
              "max_native_zoom",
              "max_zoom",
              "min_native_zoom",
              "min_zoom",
              "no_wrap",
              "tile_size",
              "tms",
              "zoom_offset"
            ],
            "pane": "",
            "popup": null,
            "popup_max_height": null,
            "popup_max_width": 300,
            "popup_min_width": 50,
            "show_loading": false,
            "subitems": [],
            "tile_size": 256,
            "tms": false,
            "url": "https://earthengine.googleapis.com/v1alpha/projects/earthengine-legacy/maps/59b7af0d4ef8f7b7eec05e898da5f910-b7fa4d82f683c5367777f21899abccd8/tiles/{z}/{x}/{y}",
            "visible": true,
            "zoom_offset": 0
          }
        },
        "2e0b73cd1ff64ccca5bf66f94a2a9730": {
          "model_module": "jupyter-leaflet",
          "model_name": "LeafletTileLayerModel",
          "model_module_version": "^0.17",
          "state": {
            "_model_module": "jupyter-leaflet",
            "_model_module_version": "^0.17",
            "_model_name": "LeafletTileLayerModel",
            "_view_count": null,
            "_view_module": "jupyter-leaflet",
            "_view_module_version": "^0.17",
            "_view_name": "LeafletTileLayerView",
            "attribution": "Google Earth Engine",
            "base": false,
            "bottom": true,
            "bounds": null,
            "detect_retina": false,
            "loading": true,
            "max_native_zoom": null,
            "max_zoom": 24,
            "min_native_zoom": null,
            "min_zoom": 0,
            "name": "Proportional Vegetation",
            "no_wrap": false,
            "opacity": 1,
            "options": [
              "attribution",
              "bounds",
              "detect_retina",
              "max_native_zoom",
              "max_zoom",
              "min_native_zoom",
              "min_zoom",
              "no_wrap",
              "tile_size",
              "tms",
              "zoom_offset"
            ],
            "pane": "",
            "popup": null,
            "popup_max_height": null,
            "popup_max_width": 300,
            "popup_min_width": 50,
            "show_loading": false,
            "subitems": [],
            "tile_size": 256,
            "tms": false,
            "url": "https://earthengine.googleapis.com/v1alpha/projects/earthengine-legacy/maps/59b7af0d4ef8f7b7eec05e898da5f910-9ece97045d9c15c0964c41708589e4c9/tiles/{z}/{x}/{y}",
            "visible": true,
            "zoom_offset": 0
          }
        },
        "62c61637eef0470395f48ea128993a1e": {
          "model_module": "jupyter-leaflet",
          "model_name": "LeafletTileLayerModel",
          "model_module_version": "^0.17",
          "state": {
            "_model_module": "jupyter-leaflet",
            "_model_module_version": "^0.17",
            "_model_name": "LeafletTileLayerModel",
            "_view_count": null,
            "_view_module": "jupyter-leaflet",
            "_view_module_version": "^0.17",
            "_view_name": "LeafletTileLayerView",
            "attribution": "Google Earth Engine",
            "base": false,
            "bottom": true,
            "bounds": null,
            "detect_retina": false,
            "loading": false,
            "max_native_zoom": null,
            "max_zoom": 24,
            "min_native_zoom": null,
            "min_zoom": 0,
            "name": "Proportional Vegetation",
            "no_wrap": false,
            "opacity": 1,
            "options": [
              "attribution",
              "bounds",
              "detect_retina",
              "max_native_zoom",
              "max_zoom",
              "min_native_zoom",
              "min_zoom",
              "no_wrap",
              "tile_size",
              "tms",
              "zoom_offset"
            ],
            "pane": "",
            "popup": null,
            "popup_max_height": null,
            "popup_max_width": 300,
            "popup_min_width": 50,
            "show_loading": false,
            "subitems": [],
            "tile_size": 256,
            "tms": false,
            "url": "https://earthengine.googleapis.com/v1alpha/projects/earthengine-legacy/maps/59b7af0d4ef8f7b7eec05e898da5f910-76ce52ef4d2bed3fb77cded3b572a3d8/tiles/{z}/{x}/{y}",
            "visible": true,
            "zoom_offset": 0
          }
        },
        "e97461e22f58469b811c5583b88c9e43": {
          "model_module": "jupyter-leaflet",
          "model_name": "LeafletTileLayerModel",
          "model_module_version": "^0.17",
          "state": {
            "_model_module": "jupyter-leaflet",
            "_model_module_version": "^0.17",
            "_model_name": "LeafletTileLayerModel",
            "_view_count": null,
            "_view_module": "jupyter-leaflet",
            "_view_module_version": "^0.17",
            "_view_name": "LeafletTileLayerView",
            "attribution": "Google Earth Engine",
            "base": false,
            "bottom": true,
            "bounds": null,
            "detect_retina": false,
            "loading": false,
            "max_native_zoom": null,
            "max_zoom": 24,
            "min_native_zoom": null,
            "min_zoom": 0,
            "name": "LandSurfaceTemperature",
            "no_wrap": false,
            "opacity": 1,
            "options": [
              "attribution",
              "bounds",
              "detect_retina",
              "max_native_zoom",
              "max_zoom",
              "min_native_zoom",
              "min_zoom",
              "no_wrap",
              "tile_size",
              "tms",
              "zoom_offset"
            ],
            "pane": "",
            "popup": null,
            "popup_max_height": null,
            "popup_max_width": 300,
            "popup_min_width": 50,
            "show_loading": false,
            "subitems": [],
            "tile_size": 256,
            "tms": false,
            "url": "https://earthengine.googleapis.com/v1alpha/projects/earthengine-legacy/maps/04299d4df4c5278ad423536958b8cbf9-031b9e36985ff1602be266f3caac9c85/tiles/{z}/{x}/{y}",
            "visible": true,
            "zoom_offset": 0
          }
        },
        "fe733f5d2a02400bbc8d6eaa940d8f64": {
          "model_module": "jupyter-leaflet",
          "model_name": "LeafletTileLayerModel",
          "model_module_version": "^0.17",
          "state": {
            "_model_module": "jupyter-leaflet",
            "_model_module_version": "^0.17",
            "_model_name": "LeafletTileLayerModel",
            "_view_count": null,
            "_view_module": "jupyter-leaflet",
            "_view_module_version": "^0.17",
            "_view_name": "LeafletTileLayerView",
            "attribution": "Google Earth Engine",
            "base": false,
            "bottom": true,
            "bounds": null,
            "detect_retina": false,
            "loading": false,
            "max_native_zoom": null,
            "max_zoom": 24,
            "min_native_zoom": null,
            "min_zoom": 0,
            "name": "LandSurfaceTemperature",
            "no_wrap": false,
            "opacity": 1,
            "options": [
              "attribution",
              "bounds",
              "detect_retina",
              "max_native_zoom",
              "max_zoom",
              "min_native_zoom",
              "min_zoom",
              "no_wrap",
              "tile_size",
              "tms",
              "zoom_offset"
            ],
            "pane": "",
            "popup": null,
            "popup_max_height": null,
            "popup_max_width": 300,
            "popup_min_width": 50,
            "show_loading": false,
            "subitems": [],
            "tile_size": 256,
            "tms": false,
            "url": "https://earthengine.googleapis.com/v1alpha/projects/earthengine-legacy/maps/04299d4df4c5278ad423536958b8cbf9-993c6505da420502b0e1f3f85ca311a7/tiles/{z}/{x}/{y}",
            "visible": true,
            "zoom_offset": 0
          }
        },
        "568aeb7e0e3b4af0ad62fb9ddcae7558": {
          "model_module": "jupyter-leaflet",
          "model_name": "LeafletTileLayerModel",
          "model_module_version": "^0.17",
          "state": {
            "_model_module": "jupyter-leaflet",
            "_model_module_version": "^0.17",
            "_model_name": "LeafletTileLayerModel",
            "_view_count": null,
            "_view_module": "jupyter-leaflet",
            "_view_module_version": "^0.17",
            "_view_name": "LeafletTileLayerView",
            "attribution": "Google Earth Engine",
            "base": false,
            "bottom": true,
            "bounds": null,
            "detect_retina": false,
            "loading": false,
            "max_native_zoom": null,
            "max_zoom": 24,
            "min_native_zoom": null,
            "min_zoom": 0,
            "name": "LandSurfaceTemperature",
            "no_wrap": false,
            "opacity": 1,
            "options": [
              "attribution",
              "bounds",
              "detect_retina",
              "max_native_zoom",
              "max_zoom",
              "min_native_zoom",
              "min_zoom",
              "no_wrap",
              "tile_size",
              "tms",
              "zoom_offset"
            ],
            "pane": "",
            "popup": null,
            "popup_max_height": null,
            "popup_max_width": 300,
            "popup_min_width": 50,
            "show_loading": false,
            "subitems": [],
            "tile_size": 256,
            "tms": false,
            "url": "https://earthengine.googleapis.com/v1alpha/projects/earthengine-legacy/maps/04299d4df4c5278ad423536958b8cbf9-877450e3ce6e201a90338126b5b1dea5/tiles/{z}/{x}/{y}",
            "visible": true,
            "zoom_offset": 0
          }
        },
        "d7440bd7e5274b5981cf3eaf95c45966": {
          "model_module": "jupyter-leaflet",
          "model_name": "LeafletTileLayerModel",
          "model_module_version": "^0.17",
          "state": {
            "_model_module": "jupyter-leaflet",
            "_model_module_version": "^0.17",
            "_model_name": "LeafletTileLayerModel",
            "_view_count": null,
            "_view_module": "jupyter-leaflet",
            "_view_module_version": "^0.17",
            "_view_name": "LeafletTileLayerView",
            "attribution": "Google Earth Engine",
            "base": false,
            "bottom": true,
            "bounds": null,
            "detect_retina": false,
            "loading": false,
            "max_native_zoom": null,
            "max_zoom": 24,
            "min_native_zoom": null,
            "min_zoom": 0,
            "name": "NDVI of AOI",
            "no_wrap": false,
            "opacity": 1,
            "options": [
              "attribution",
              "bounds",
              "detect_retina",
              "max_native_zoom",
              "max_zoom",
              "min_native_zoom",
              "min_zoom",
              "no_wrap",
              "tile_size",
              "tms",
              "zoom_offset"
            ],
            "pane": "",
            "popup": null,
            "popup_max_height": null,
            "popup_max_width": 300,
            "popup_min_width": 50,
            "show_loading": false,
            "subitems": [],
            "tile_size": 256,
            "tms": false,
            "url": "https://earthengine.googleapis.com/v1alpha/projects/earthengine-legacy/maps/04c4315a4c335f263c96f45bdeb9f836-f789e76e774dae52c34914358fc37139/tiles/{z}/{x}/{y}",
            "visible": true,
            "zoom_offset": 0
          }
        }
      }
    }
  },
  "cells": [
    {
      "cell_type": "code",
      "source": [
        "# !pip install geemap\n",
        "# !pip install geopandas\n",
        "# !pip install geojson"
      ],
      "metadata": {
        "id": "KYzYYSjMdazk"
      },
      "execution_count": null,
      "outputs": []
    },
    {
      "cell_type": "code",
      "source": [
        "import os\n",
        "import sys\n",
        "import ee"
      ],
      "metadata": {
        "id": "Cw-A_kYX3NhH"
      },
      "execution_count": 8,
      "outputs": []
    },
    {
      "cell_type": "code",
      "execution_count": 85,
      "metadata": {
        "colab": {
          "base_uri": "https://localhost:8080/"
        },
        "id": "IPZsHle-DMoZ",
        "outputId": "e7f840e6-3530-404a-c621-1a44273e3f7d"
      },
      "outputs": [
        {
          "output_type": "stream",
          "name": "stdout",
          "text": [
            "To authorize access needed by Earth Engine, open the following URL in a web browser and follow the instructions. If the web browser does not start automatically, please manually browse the URL below.\n",
            "\n",
            "    https://code.earthengine.google.com/client-auth?scopes=https%3A//www.googleapis.com/auth/earthengine%20https%3A//www.googleapis.com/auth/devstorage.full_control&request_id=yIrlGSn_W-yxPNKcHPccq74sRM86HwQeQ0uGaP2zvcQ&tc=yr9MO6tU2UWZCwhMf1gv1-Wx_CbFgo5ezDCz_F6g0VE&cc=QkWhuw2taNWnh26mLjG0eKuh96k4AVQWedrqNqEBTtA\n",
            "\n",
            "The authorization workflow will generate a code, which you should paste in the box below.\n",
            "Enter verification code: 4/1AfgeXvs3a2cg7_Hp76ffp1rGOX_h5Hmps2-FBu8XL4g4LbC7NPwyQT71TN4\n",
            "\n",
            "Successfully saved authorization token.\n"
          ]
        }
      ],
      "source": [
        "# Trigger the authentication flow.\n",
        "ee.Authenticate()"
      ]
    },
    {
      "cell_type": "code",
      "source": [
        "# Initialize the library.\n",
        "ee.Initialize()"
      ],
      "metadata": {
        "id": "HYRbxjcPtG-p"
      },
      "execution_count": 86,
      "outputs": []
    },
    {
      "cell_type": "code",
      "source": [
        "import geemap"
      ],
      "metadata": {
        "id": "o9Qw64yPKrhq"
      },
      "execution_count": 11,
      "outputs": []
    },
    {
      "cell_type": "code",
      "source": [
        "from google.colab import drive\n",
        "drive.mount('/content/drive')"
      ],
      "metadata": {
        "id": "U-yp8KwgTj3q",
        "colab": {
          "base_uri": "https://localhost:8080/"
        },
        "outputId": "eedf643f-9bf2-4334-8a6b-a0480ad18519"
      },
      "execution_count": 77,
      "outputs": [
        {
          "output_type": "stream",
          "name": "stdout",
          "text": [
            "Drive already mounted at /content/drive; to attempt to forcibly remount, call drive.mount(\"/content/drive\", force_remount=True).\n"
          ]
        }
      ]
    },
    {
      "cell_type": "code",
      "source": [
        "# nb_path = '/content/colab_packages'\n",
        "# os.symlink('/content/drive/My Drive/Colab Notebooks', nb_path)\n",
        "# sys.path.insert(0, nb_path)  # or append(nb_path)\n",
        "# #The last three lines are what changes the path of the file."
      ],
      "metadata": {
        "id": "XA909EunhHJO"
      },
      "execution_count": null,
      "outputs": []
    },
    {
      "cell_type": "code",
      "source": [
        "# !pip install --target=$nb_path geemap"
      ],
      "metadata": {
        "id": "krs5P1NJk_fX"
      },
      "execution_count": null,
      "outputs": []
    },
    {
      "cell_type": "code",
      "source": [
        "# directory = '/content/drive/MyDrive/lst_files/aoi/ctg-polygon.shp'"
      ],
      "metadata": {
        "id": "_o8GsUpjTqYo"
      },
      "execution_count": null,
      "outputs": []
    },
    {
      "cell_type": "code",
      "source": [
        "Map = geemap.Map()\n",
        "aoi_shp =  '/content/drive/MyDrive/lst_files/kutupalong/Kutupalong-AOI-Polygon-polygon.shp'\n",
        "aoi = geemap.shp_to_ee(aoi_shp)\n",
        "Map.addLayer(aoi, {}, 'AOI')\n",
        "Map.centerObject(aoi, zoom=16)\n",
        "Map"
      ],
      "metadata": {
        "id": "sTPP_jxzzgjP",
        "colab": {
          "base_uri": "https://localhost:8080/",
          "height": 621,
          "referenced_widgets": [
            "3ab9e8dc5b694a41bb0426fd4a41e0ba",
            "d31cd3451725414bbd5bc9eaca0d4953",
            "d8ca5b0691294342bdf85e0e17b95c7f",
            "f7e2acb3b340435a94e3f53c184687c7",
            "0ad781d1a0f5484094a410def796473c",
            "86caa21e58994692a48055f9e264a0ba",
            "2e074fcef6e94ebbb675137e136b40de",
            "695efaae4c1a4c3691e5fbab9dc7abd5",
            "7a83baaae46549eead24b0a1bc7af9c6",
            "10882b5c97864cdab62bb712ec25dbad",
            "022f6c5ef8cf45a3b309a582232c3f12",
            "1de4d4efdeff47d793c8abe25d5126b0",
            "1ffc2a4ae6f345b59968665632d7ecb7",
            "8afa1de0b31841f59e27ad1cb63bf977",
            "3caaadd4480044fe89f48946104e12e2",
            "e4b0aef5d3b941dfbc1e1aa334ceebeb",
            "c78c6aa18bef411b9ec928d9e661f2d3",
            "3049e71df1f14700bb9a3ce190303844",
            "bd269f635cb64b75b891201dd66b5f9d",
            "7b6ee01a14e24881b6005c7fec87bfaf",
            "3e39fa36f49c4c19b5994bec676abfa4",
            "89bc493d0f1d4de4bda88ab33b5f6087",
            "0521b85617614a09a046005019fdb89f",
            "341858e55b504ffe8be28c234fb9dbb9",
            "8d6775e5f18d45108268eaaf4e2c5c6d",
            "8cf4cee94625426eb73186c8059e9bd7",
            "1df3af635eef4493880153afdea2bce8",
            "7925d17b088549daae5f6087c7dcf57f",
            "1874cb0973304541bf1a1ea3fec7b6d7",
            "2e5bf1bceef543bab7a39ca625ec96af",
            "0abc0c4e3ab94440b1cd4f35d831fba6",
            "7cdab05d5d9d4e268430b929951f217e",
            "4876c1f4049b4eb0bc4108d28f2101e0",
            "1be47f4cb96b4dc2b53162b10fbf18a5",
            "305558d03e784e96bc5de039141aedae",
            "fdfa87a1a4254694a497fe9612cc4c23",
            "2d7c8e235f814bc9bcfa8bd5bc9f3f4a",
            "4f15ddf481c54d0189b390dd4a27bf5a",
            "dd8a0ba90d4c4a1da5a1e2f6ad2ce337",
            "370e086efcce472bbc015cbbcad1a2e7",
            "b945874129b74ca08bc442821b7ed108",
            "d4f59515a3414579bbef9bb4092bbbc6",
            "2e0b73cd1ff64ccca5bf66f94a2a9730",
            "62c61637eef0470395f48ea128993a1e",
            "e97461e22f58469b811c5583b88c9e43",
            "fe733f5d2a02400bbc8d6eaa940d8f64",
            "568aeb7e0e3b4af0ad62fb9ddcae7558",
            "d7440bd7e5274b5981cf3eaf95c45966"
          ]
        },
        "outputId": "3d8962ea-24d6-4c6f-daf9-70d6f49506a8"
      },
      "execution_count": 13,
      "outputs": [
        {
          "output_type": "display_data",
          "data": {
            "text/plain": [
              "Map(center=[21.198233064130157, 92.15051686742379], controls=(WidgetControl(options=['position', 'transparent_…"
            ],
            "application/vnd.jupyter.widget-view+json": {
              "version_major": 2,
              "version_minor": 0,
              "model_id": "3ab9e8dc5b694a41bb0426fd4a41e0ba"
            }
          },
          "metadata": {
            "application/vnd.jupyter.widget-view+json": {
              "colab": {
                "custom_widget_manager": {
                  "url": "https://ssl.gstatic.com/colaboratory-static/widgets/colab-cdn-widget-manager/d2e234f7cc04bf79/manager.min.js"
                }
              }
            }
          }
        }
      ]
    },
    {
      "cell_type": "code",
      "source": [
        "image_collection = ee.ImageCollection('LANDSAT/LC08/C01/T1_TOA')\n",
        "image_collection = image_collection.filterMetadata('WRS_PATH','equals',136).filterMetadata('WRS_ROW', 'equals',45).filterDate('2021-01-01', '2021-12-31').sort('CLOUD_COVER')\n",
        "# image_collection = image_collection.filterMetadata('WRS_PATH','equals',126).filterMetadata('WRS_ROW', 'equals',52).filterDate('2021-01-01', '2021-12-31').sort('CLOUD_COVER')\n",
        "print(\"Total Image Downloaded: \",image_collection.size().getInfo()) #gets the total number of images\n"
      ],
      "metadata": {
        "id": "1l6JJR5U2zn6",
        "colab": {
          "base_uri": "https://localhost:8080/"
        },
        "outputId": "e887bc04-99d8-4b6f-ecf0-1c7feddc2cc2"
      },
      "execution_count": 14,
      "outputs": [
        {
          "output_type": "stream",
          "name": "stdout",
          "text": [
            "Total Image Downloaded:  16\n"
          ]
        }
      ]
    },
    {
      "cell_type": "code",
      "source": [],
      "metadata": {
        "id": "YDx_v-cKFBtT"
      },
      "execution_count": null,
      "outputs": []
    },
    {
      "cell_type": "code",
      "source": [
        "least_cloudy_image = image_collection.first()"
      ],
      "metadata": {
        "id": "mDQ10btT6k0h"
      },
      "execution_count": 15,
      "outputs": []
    },
    {
      "cell_type": "code",
      "source": [
        "least_cloudy_image.getInfo()"
      ],
      "metadata": {
        "id": "qQyeN8WWFX_H",
        "colab": {
          "base_uri": "https://localhost:8080/"
        },
        "outputId": "2d3b83ad-130e-418c-e546-ba9319198c16"
      },
      "execution_count": 17,
      "outputs": [
        {
          "output_type": "execute_result",
          "data": {
            "text/plain": [
              "{'type': 'Image',\n",
              " 'bands': [{'id': 'B1',\n",
              "   'data_type': {'type': 'PixelType', 'precision': 'float'},\n",
              "   'dimensions': [7661, 7801],\n",
              "   'crs': 'EPSG:32646',\n",
              "   'crs_transform': [30, 0, 241485, 0, -30, 2513715]},\n",
              "  {'id': 'B2',\n",
              "   'data_type': {'type': 'PixelType', 'precision': 'float'},\n",
              "   'dimensions': [7661, 7801],\n",
              "   'crs': 'EPSG:32646',\n",
              "   'crs_transform': [30, 0, 241485, 0, -30, 2513715]},\n",
              "  {'id': 'B3',\n",
              "   'data_type': {'type': 'PixelType', 'precision': 'float'},\n",
              "   'dimensions': [7661, 7801],\n",
              "   'crs': 'EPSG:32646',\n",
              "   'crs_transform': [30, 0, 241485, 0, -30, 2513715]},\n",
              "  {'id': 'B4',\n",
              "   'data_type': {'type': 'PixelType', 'precision': 'float'},\n",
              "   'dimensions': [7661, 7801],\n",
              "   'crs': 'EPSG:32646',\n",
              "   'crs_transform': [30, 0, 241485, 0, -30, 2513715]},\n",
              "  {'id': 'B5',\n",
              "   'data_type': {'type': 'PixelType', 'precision': 'float'},\n",
              "   'dimensions': [7661, 7801],\n",
              "   'crs': 'EPSG:32646',\n",
              "   'crs_transform': [30, 0, 241485, 0, -30, 2513715]},\n",
              "  {'id': 'B6',\n",
              "   'data_type': {'type': 'PixelType', 'precision': 'float'},\n",
              "   'dimensions': [7661, 7801],\n",
              "   'crs': 'EPSG:32646',\n",
              "   'crs_transform': [30, 0, 241485, 0, -30, 2513715]},\n",
              "  {'id': 'B7',\n",
              "   'data_type': {'type': 'PixelType', 'precision': 'float'},\n",
              "   'dimensions': [7661, 7801],\n",
              "   'crs': 'EPSG:32646',\n",
              "   'crs_transform': [30, 0, 241485, 0, -30, 2513715]},\n",
              "  {'id': 'B8',\n",
              "   'data_type': {'type': 'PixelType', 'precision': 'float'},\n",
              "   'dimensions': [15321, 15601],\n",
              "   'crs': 'EPSG:32646',\n",
              "   'crs_transform': [15, 0, 241492.5, 0, -15, 2513707.5]},\n",
              "  {'id': 'B9',\n",
              "   'data_type': {'type': 'PixelType', 'precision': 'float'},\n",
              "   'dimensions': [7661, 7801],\n",
              "   'crs': 'EPSG:32646',\n",
              "   'crs_transform': [30, 0, 241485, 0, -30, 2513715]},\n",
              "  {'id': 'B10',\n",
              "   'data_type': {'type': 'PixelType', 'precision': 'float'},\n",
              "   'dimensions': [7661, 7801],\n",
              "   'crs': 'EPSG:32646',\n",
              "   'crs_transform': [30, 0, 241485, 0, -30, 2513715]},\n",
              "  {'id': 'B11',\n",
              "   'data_type': {'type': 'PixelType', 'precision': 'float'},\n",
              "   'dimensions': [7661, 7801],\n",
              "   'crs': 'EPSG:32646',\n",
              "   'crs_transform': [30, 0, 241485, 0, -30, 2513715]},\n",
              "  {'id': 'BQA',\n",
              "   'data_type': {'type': 'PixelType',\n",
              "    'precision': 'int',\n",
              "    'min': 0,\n",
              "    'max': 65535},\n",
              "   'dimensions': [7661, 7801],\n",
              "   'crs': 'EPSG:32646',\n",
              "   'crs_transform': [30, 0, 241485, 0, -30, 2513715]}],\n",
              " 'version': 1655337549451297,\n",
              " 'id': 'LANDSAT/LC08/C01/T1_TOA/LC08_136045_20210206',\n",
              " 'properties': {'RADIANCE_MULT_BAND_5': 0.006287300027906895,\n",
              "  'RADIANCE_MULT_BAND_6': 0.001563600031659007,\n",
              "  'RADIANCE_MULT_BAND_3': 0.01218399964272976,\n",
              "  'RADIANCE_MULT_BAND_4': 0.010273999534547329,\n",
              "  'RADIANCE_MULT_BAND_1': 0.012911999598145485,\n",
              "  'RADIANCE_MULT_BAND_2': 0.013221999630331993,\n",
              "  'K2_CONSTANT_BAND_11': 1201.1441650390625,\n",
              "  'K2_CONSTANT_BAND_10': 1321.078857421875,\n",
              "  'system:footprint': {'type': 'LinearRing',\n",
              "   'coordinates': [[90.51573216015831, 20.98544973176628],\n",
              "    [90.51823743844066, 20.98470579834945],\n",
              "    [91.53069783527954, 20.77721921361345],\n",
              "    [92.19023611497724, 20.63847767904793],\n",
              "    [92.29969731973954, 20.615200518259595],\n",
              "    [92.30021734030734, 20.616690599933655],\n",
              "    [92.30657709558132, 20.6431513967741],\n",
              "    [92.35575838628175, 20.848383448190813],\n",
              "    [92.42990449591916, 21.157130855475128],\n",
              "    [92.54287617383163, 21.62584906143752],\n",
              "    [92.65093458388819, 22.071698048574003],\n",
              "    [92.6776442171676, 22.181551016067832],\n",
              "    [92.71756052425764, 22.346007193593326],\n",
              "    [92.71755468196201, 22.348922249124083],\n",
              "    [92.59324906633846, 22.375002944848045],\n",
              "    [91.47094977168119, 22.605644791334345],\n",
              "    [90.91432748664187, 22.716810230919688],\n",
              "    [90.91216653978887, 22.71678204297439],\n",
              "    [90.81128886686717, 22.279448416630796],\n",
              "    [90.71318192679301, 21.85196941704642],\n",
              "    [90.61553730269124, 21.42446233153548],\n",
              "    [90.51573216015831, 20.98544973176628]]},\n",
              "  'REFLECTIVE_SAMPLES': 7661,\n",
              "  'SUN_AZIMUTH': 142.20130920410156,\n",
              "  'CPF_NAME': 'LC08CPF_20210201_20210228_01.03',\n",
              "  'DATE_ACQUIRED': '2021-02-06',\n",
              "  'ELLIPSOID': 'WGS84',\n",
              "  'google:registration_offset_x': 329.5499267578125,\n",
              "  'google:registration_offset_y': -485.71710205078125,\n",
              "  'STATION_ID': 'LGN',\n",
              "  'RESAMPLING_OPTION': 'CUBIC_CONVOLUTION',\n",
              "  'ORIENTATION': 'NORTH_UP',\n",
              "  'WRS_ROW': 45,\n",
              "  'RADIANCE_MULT_BAND_9': 0.0024572000838816166,\n",
              "  'TARGET_WRS_ROW': 45,\n",
              "  'RADIANCE_MULT_BAND_7': 0.0005270200199447572,\n",
              "  'RADIANCE_MULT_BAND_8': 0.011628000065684319,\n",
              "  'IMAGE_QUALITY_TIRS': 9,\n",
              "  'TRUNCATION_OLI': 'UPPER',\n",
              "  'CLOUD_COVER': 0.009999999776482582,\n",
              "  'GEOMETRIC_RMSE_VERIFY': 5.1570000648498535,\n",
              "  'COLLECTION_CATEGORY': 'T1',\n",
              "  'GRID_CELL_SIZE_REFLECTIVE': 30,\n",
              "  'CLOUD_COVER_LAND': 0.009999999776482582,\n",
              "  'GEOMETRIC_RMSE_MODEL': 6.757999897003174,\n",
              "  'COLLECTION_NUMBER': 1,\n",
              "  'IMAGE_QUALITY_OLI': 9,\n",
              "  'LANDSAT_SCENE_ID': 'LC81360452021037LGN00',\n",
              "  'WRS_PATH': 136,\n",
              "  'google:registration_count': 10,\n",
              "  'PANCHROMATIC_SAMPLES': 15321,\n",
              "  'PANCHROMATIC_LINES': 15601,\n",
              "  'GEOMETRIC_RMSE_MODEL_Y': 4.8470001220703125,\n",
              "  'REFLECTIVE_LINES': 7801,\n",
              "  'TIRS_STRAY_LIGHT_CORRECTION_SOURCE': 'TIRS',\n",
              "  'GEOMETRIC_RMSE_MODEL_X': 4.710000038146973,\n",
              "  'system:asset_size': 960974867,\n",
              "  'system:index': 'LC08_136045_20210206',\n",
              "  'REFLECTANCE_ADD_BAND_1': -0.10000000149011612,\n",
              "  'REFLECTANCE_ADD_BAND_2': -0.10000000149011612,\n",
              "  'DATUM': 'WGS84',\n",
              "  'REFLECTANCE_ADD_BAND_3': -0.10000000149011612,\n",
              "  'REFLECTANCE_ADD_BAND_4': -0.10000000149011612,\n",
              "  'REFLECTANCE_ADD_BAND_5': -0.10000000149011612,\n",
              "  'REFLECTANCE_ADD_BAND_6': -0.10000000149011612,\n",
              "  'REFLECTANCE_ADD_BAND_7': -0.10000000149011612,\n",
              "  'REFLECTANCE_ADD_BAND_8': -0.10000000149011612,\n",
              "  'BPF_NAME_TIRS': 'LT8BPF20210205131939_20210212112539.01',\n",
              "  'GROUND_CONTROL_POINTS_VERSION': 4,\n",
              "  'DATA_TYPE': 'L1TP',\n",
              "  'UTM_ZONE': 46,\n",
              "  'system:time_end': 1612585149307,\n",
              "  'LANDSAT_PRODUCT_ID': 'LC08_L1TP_136045_20210206_20210305_01_T1',\n",
              "  'REFLECTANCE_ADD_BAND_9': -0.10000000149011612,\n",
              "  'google:registration_ratio': 0.2857142984867096,\n",
              "  'GRID_CELL_SIZE_PANCHROMATIC': 15,\n",
              "  'RADIANCE_ADD_BAND_4': -51.371150970458984,\n",
              "  'REFLECTANCE_MULT_BAND_7': 1.9999999494757503e-05,\n",
              "  'system:time_start': 1612585149307,\n",
              "  'RADIANCE_ADD_BAND_5': -31.436580657958984,\n",
              "  'REFLECTANCE_MULT_BAND_6': 1.9999999494757503e-05,\n",
              "  'RADIANCE_ADD_BAND_6': -7.817989826202393,\n",
              "  'REFLECTANCE_MULT_BAND_9': 1.9999999494757503e-05,\n",
              "  'PROCESSING_SOFTWARE_VERSION': 'LPGS_13.1.0',\n",
              "  'RADIANCE_ADD_BAND_7': -2.635080099105835,\n",
              "  'REFLECTANCE_MULT_BAND_8': 1.9999999494757503e-05,\n",
              "  'RADIANCE_ADD_BAND_1': -64.5599594116211,\n",
              "  'RADIANCE_ADD_BAND_2': -66.11018371582031,\n",
              "  'RADIANCE_ADD_BAND_3': -60.91997146606445,\n",
              "  'REFLECTANCE_MULT_BAND_1': 1.9999999494757503e-05,\n",
              "  'RADIANCE_ADD_BAND_8': -58.13800048828125,\n",
              "  'REFLECTANCE_MULT_BAND_3': 1.9999999494757503e-05,\n",
              "  'RADIANCE_ADD_BAND_9': -12.28612995147705,\n",
              "  'REFLECTANCE_MULT_BAND_2': 1.9999999494757503e-05,\n",
              "  'REFLECTANCE_MULT_BAND_5': 1.9999999494757503e-05,\n",
              "  'REFLECTANCE_MULT_BAND_4': 1.9999999494757503e-05,\n",
              "  'THERMAL_LINES': 7801,\n",
              "  'TIRS_SSM_POSITION_STATUS': 'ESTIMATED',\n",
              "  'GRID_CELL_SIZE_THERMAL': 30,\n",
              "  'NADIR_OFFNADIR': 'NADIR',\n",
              "  'RADIANCE_ADD_BAND_11': 0.10000000149011612,\n",
              "  'REQUEST_ID': 'P100one8phg8u_00034',\n",
              "  'EARTH_SUN_DISTANCE': 0.9861087203025818,\n",
              "  'TIRS_SSM_MODEL': 'FINAL',\n",
              "  'FILE_DATE': 1614903378000,\n",
              "  'SCENE_CENTER_TIME': '04:19:09.3071280Z',\n",
              "  'SUN_ELEVATION': 44.25305938720703,\n",
              "  'BPF_NAME_OLI': 'LO8BPF20210206022605_20210206045049.01',\n",
              "  'RADIANCE_ADD_BAND_10': 0.10000000149011612,\n",
              "  'ROLL_ANGLE': -0.0010000000474974513,\n",
              "  'K1_CONSTANT_BAND_10': 774.8853149414062,\n",
              "  'SATURATION_BAND_1': 'N',\n",
              "  'SATURATION_BAND_2': 'N',\n",
              "  'SATURATION_BAND_3': 'N',\n",
              "  'SATURATION_BAND_4': 'N',\n",
              "  'SATURATION_BAND_5': 'N',\n",
              "  'MAP_PROJECTION': 'UTM',\n",
              "  'SATURATION_BAND_6': 'N',\n",
              "  'SENSOR_ID': 'OLI_TIRS',\n",
              "  'SATURATION_BAND_7': 'Y',\n",
              "  'K1_CONSTANT_BAND_11': 480.8883056640625,\n",
              "  'SATURATION_BAND_8': 'N',\n",
              "  'SATURATION_BAND_9': 'N',\n",
              "  'TARGET_WRS_PATH': 136,\n",
              "  'RADIANCE_MULT_BAND_11': 0.00033420001273043454,\n",
              "  'RADIANCE_MULT_BAND_10': 0.00033420001273043454,\n",
              "  'GROUND_CONTROL_POINTS_MODEL': 264,\n",
              "  'SPACECRAFT_ID': 'LANDSAT_8',\n",
              "  'ELEVATION_SOURCE': 'GLS2000',\n",
              "  'THERMAL_SAMPLES': 7661,\n",
              "  'GROUND_CONTROL_POINTS_VERIFY': 88}}"
            ]
          },
          "metadata": {},
          "execution_count": 17
        }
      ]
    },
    {
      "cell_type": "code",
      "source": [],
      "metadata": {
        "id": "phviAa67Fz-I"
      },
      "execution_count": 17,
      "outputs": []
    },
    {
      "cell_type": "code",
      "source": [
        "Map.addLayer(least_cloudy_image)\n",
        "Map.centerObject(least_cloudy_image)\n",
        "Map"
      ],
      "metadata": {
        "id": "gzWgakYQ6hI3",
        "colab": {
          "base_uri": "https://localhost:8080/",
          "height": 621,
          "referenced_widgets": [
            "3ab9e8dc5b694a41bb0426fd4a41e0ba",
            "d31cd3451725414bbd5bc9eaca0d4953",
            "d8ca5b0691294342bdf85e0e17b95c7f",
            "f7e2acb3b340435a94e3f53c184687c7",
            "0ad781d1a0f5484094a410def796473c",
            "86caa21e58994692a48055f9e264a0ba",
            "2e074fcef6e94ebbb675137e136b40de",
            "695efaae4c1a4c3691e5fbab9dc7abd5",
            "7a83baaae46549eead24b0a1bc7af9c6",
            "10882b5c97864cdab62bb712ec25dbad",
            "022f6c5ef8cf45a3b309a582232c3f12",
            "1de4d4efdeff47d793c8abe25d5126b0",
            "1ffc2a4ae6f345b59968665632d7ecb7",
            "8afa1de0b31841f59e27ad1cb63bf977",
            "1df3af635eef4493880153afdea2bce8",
            "3caaadd4480044fe89f48946104e12e2",
            "e4b0aef5d3b941dfbc1e1aa334ceebeb",
            "c78c6aa18bef411b9ec928d9e661f2d3",
            "3049e71df1f14700bb9a3ce190303844",
            "bd269f635cb64b75b891201dd66b5f9d",
            "7b6ee01a14e24881b6005c7fec87bfaf",
            "3e39fa36f49c4c19b5994bec676abfa4",
            "89bc493d0f1d4de4bda88ab33b5f6087",
            "0521b85617614a09a046005019fdb89f",
            "341858e55b504ffe8be28c234fb9dbb9",
            "8d6775e5f18d45108268eaaf4e2c5c6d",
            "8cf4cee94625426eb73186c8059e9bd7",
            "7925d17b088549daae5f6087c7dcf57f",
            "1874cb0973304541bf1a1ea3fec7b6d7",
            "2e5bf1bceef543bab7a39ca625ec96af",
            "0abc0c4e3ab94440b1cd4f35d831fba6",
            "7cdab05d5d9d4e268430b929951f217e",
            "4876c1f4049b4eb0bc4108d28f2101e0",
            "1be47f4cb96b4dc2b53162b10fbf18a5",
            "305558d03e784e96bc5de039141aedae",
            "fdfa87a1a4254694a497fe9612cc4c23",
            "2d7c8e235f814bc9bcfa8bd5bc9f3f4a",
            "4f15ddf481c54d0189b390dd4a27bf5a",
            "dd8a0ba90d4c4a1da5a1e2f6ad2ce337",
            "370e086efcce472bbc015cbbcad1a2e7",
            "b945874129b74ca08bc442821b7ed108",
            "d4f59515a3414579bbef9bb4092bbbc6",
            "2e0b73cd1ff64ccca5bf66f94a2a9730",
            "62c61637eef0470395f48ea128993a1e",
            "e97461e22f58469b811c5583b88c9e43",
            "fe733f5d2a02400bbc8d6eaa940d8f64",
            "568aeb7e0e3b4af0ad62fb9ddcae7558",
            "d7440bd7e5274b5981cf3eaf95c45966"
          ]
        },
        "outputId": "6f426353-9437-4970-99a3-87a450ad9217"
      },
      "execution_count": 18,
      "outputs": [
        {
          "output_type": "display_data",
          "data": {
            "text/plain": [
              "Map(bottom=7377657.0, center=[21.198233064130157, 92.15051686742379], controls=(WidgetControl(options=['positi…"
            ],
            "application/vnd.jupyter.widget-view+json": {
              "version_major": 2,
              "version_minor": 0,
              "model_id": "3ab9e8dc5b694a41bb0426fd4a41e0ba"
            }
          },
          "metadata": {
            "application/vnd.jupyter.widget-view+json": {
              "colab": {
                "custom_widget_manager": {
                  "url": "https://ssl.gstatic.com/colaboratory-static/widgets/colab-cdn-widget-manager/d2e234f7cc04bf79/manager.min.js"
                }
              }
            }
          }
        }
      ]
    },
    {
      "cell_type": "code",
      "source": [
        "# Define the visualization parameters.\n",
        "\n",
        "image_viz_params = {\n",
        "    'bands': ['B5', 'B4', 'B3'],\n",
        "    'min': 0,\n",
        "    'max': 0.5,\n",
        "    'gamma': [0.95, 1.1, 1]\n",
        "}\n",
        "Map.addLayer(least_cloudy_image, image_viz_params, \"Least Cloudy Image\")\n",
        "Map.centerObject(least_cloudy_image)\n",
        "Map"
      ],
      "metadata": {
        "id": "d0QP21WY-PBc",
        "colab": {
          "base_uri": "https://localhost:8080/",
          "height": 621,
          "referenced_widgets": [
            "3ab9e8dc5b694a41bb0426fd4a41e0ba",
            "d31cd3451725414bbd5bc9eaca0d4953",
            "d8ca5b0691294342bdf85e0e17b95c7f",
            "f7e2acb3b340435a94e3f53c184687c7",
            "0ad781d1a0f5484094a410def796473c",
            "86caa21e58994692a48055f9e264a0ba",
            "2e074fcef6e94ebbb675137e136b40de",
            "695efaae4c1a4c3691e5fbab9dc7abd5",
            "7a83baaae46549eead24b0a1bc7af9c6",
            "10882b5c97864cdab62bb712ec25dbad",
            "022f6c5ef8cf45a3b309a582232c3f12",
            "1de4d4efdeff47d793c8abe25d5126b0",
            "1ffc2a4ae6f345b59968665632d7ecb7",
            "8afa1de0b31841f59e27ad1cb63bf977",
            "1df3af635eef4493880153afdea2bce8",
            "7925d17b088549daae5f6087c7dcf57f",
            "3caaadd4480044fe89f48946104e12e2",
            "c78c6aa18bef411b9ec928d9e661f2d3",
            "3049e71df1f14700bb9a3ce190303844",
            "bd269f635cb64b75b891201dd66b5f9d",
            "7b6ee01a14e24881b6005c7fec87bfaf",
            "3e39fa36f49c4c19b5994bec676abfa4",
            "89bc493d0f1d4de4bda88ab33b5f6087",
            "0521b85617614a09a046005019fdb89f",
            "341858e55b504ffe8be28c234fb9dbb9",
            "8d6775e5f18d45108268eaaf4e2c5c6d",
            "8cf4cee94625426eb73186c8059e9bd7",
            "1874cb0973304541bf1a1ea3fec7b6d7",
            "2e5bf1bceef543bab7a39ca625ec96af",
            "0abc0c4e3ab94440b1cd4f35d831fba6",
            "7cdab05d5d9d4e268430b929951f217e",
            "4876c1f4049b4eb0bc4108d28f2101e0",
            "1be47f4cb96b4dc2b53162b10fbf18a5",
            "305558d03e784e96bc5de039141aedae",
            "fdfa87a1a4254694a497fe9612cc4c23",
            "2d7c8e235f814bc9bcfa8bd5bc9f3f4a",
            "4f15ddf481c54d0189b390dd4a27bf5a",
            "dd8a0ba90d4c4a1da5a1e2f6ad2ce337",
            "370e086efcce472bbc015cbbcad1a2e7",
            "b945874129b74ca08bc442821b7ed108",
            "d4f59515a3414579bbef9bb4092bbbc6",
            "2e0b73cd1ff64ccca5bf66f94a2a9730",
            "62c61637eef0470395f48ea128993a1e",
            "e97461e22f58469b811c5583b88c9e43",
            "fe733f5d2a02400bbc8d6eaa940d8f64",
            "568aeb7e0e3b4af0ad62fb9ddcae7558",
            "d7440bd7e5274b5981cf3eaf95c45966"
          ]
        },
        "outputId": "f7d18c48-f604-478a-d168-5d87650ed4cd"
      },
      "execution_count": 19,
      "outputs": [
        {
          "output_type": "display_data",
          "data": {
            "text/plain": [
              "Map(bottom=14663.0, center=[21.85926828402503, 91.57561698270463], controls=(WidgetControl(options=['position'…"
            ],
            "application/vnd.jupyter.widget-view+json": {
              "version_major": 2,
              "version_minor": 0,
              "model_id": "3ab9e8dc5b694a41bb0426fd4a41e0ba"
            }
          },
          "metadata": {
            "application/vnd.jupyter.widget-view+json": {
              "colab": {
                "custom_widget_manager": {
                  "url": "https://ssl.gstatic.com/colaboratory-static/widgets/colab-cdn-widget-manager/d2e234f7cc04bf79/manager.min.js"
                }
              }
            }
          }
        }
      ]
    },
    {
      "cell_type": "code",
      "source": [
        "#Picking the required bands\n",
        "nir_band = least_cloudy_image.select('B5');\n",
        "red_band = least_cloudy_image.select('B4');\n",
        "thermal_band = least_cloudy_image.select('B10');"
      ],
      "metadata": {
        "id": "xgawUaVS-oig"
      },
      "execution_count": 20,
      "outputs": []
    },
    {
      "cell_type": "code",
      "source": [
        "#cliping the band specific images for the AOI\n",
        "nir_band_clipped = nir_band.clip(aoi)\n",
        "red_band_clipped = red_band.clip(aoi)\n",
        "thermal_band_clipped = thermal_band.clip(aoi);\n",
        "\n",
        "Map.addLayer(nir_band_clipped,{},'clipped_NIR')\n",
        "Map.centerObject(aoi)\n",
        "Map.addLayerControl()\n",
        "Map"
      ],
      "metadata": {
        "id": "oyZ3myAf-otl",
        "colab": {
          "base_uri": "https://localhost:8080/",
          "height": 621,
          "referenced_widgets": [
            "3ab9e8dc5b694a41bb0426fd4a41e0ba",
            "d31cd3451725414bbd5bc9eaca0d4953",
            "d8ca5b0691294342bdf85e0e17b95c7f",
            "f7e2acb3b340435a94e3f53c184687c7",
            "0ad781d1a0f5484094a410def796473c",
            "86caa21e58994692a48055f9e264a0ba",
            "2e074fcef6e94ebbb675137e136b40de",
            "695efaae4c1a4c3691e5fbab9dc7abd5",
            "7a83baaae46549eead24b0a1bc7af9c6",
            "2e5bf1bceef543bab7a39ca625ec96af",
            "10882b5c97864cdab62bb712ec25dbad",
            "022f6c5ef8cf45a3b309a582232c3f12",
            "1de4d4efdeff47d793c8abe25d5126b0",
            "1ffc2a4ae6f345b59968665632d7ecb7",
            "8afa1de0b31841f59e27ad1cb63bf977",
            "1df3af635eef4493880153afdea2bce8",
            "7925d17b088549daae5f6087c7dcf57f",
            "1874cb0973304541bf1a1ea3fec7b6d7",
            "3caaadd4480044fe89f48946104e12e2",
            "c78c6aa18bef411b9ec928d9e661f2d3",
            "3049e71df1f14700bb9a3ce190303844",
            "bd269f635cb64b75b891201dd66b5f9d",
            "7b6ee01a14e24881b6005c7fec87bfaf",
            "3e39fa36f49c4c19b5994bec676abfa4",
            "89bc493d0f1d4de4bda88ab33b5f6087",
            "0521b85617614a09a046005019fdb89f",
            "341858e55b504ffe8be28c234fb9dbb9",
            "8d6775e5f18d45108268eaaf4e2c5c6d",
            "8cf4cee94625426eb73186c8059e9bd7",
            "0abc0c4e3ab94440b1cd4f35d831fba6",
            "7cdab05d5d9d4e268430b929951f217e",
            "4876c1f4049b4eb0bc4108d28f2101e0",
            "1be47f4cb96b4dc2b53162b10fbf18a5",
            "305558d03e784e96bc5de039141aedae",
            "fdfa87a1a4254694a497fe9612cc4c23",
            "2d7c8e235f814bc9bcfa8bd5bc9f3f4a",
            "4f15ddf481c54d0189b390dd4a27bf5a",
            "dd8a0ba90d4c4a1da5a1e2f6ad2ce337",
            "370e086efcce472bbc015cbbcad1a2e7",
            "b945874129b74ca08bc442821b7ed108",
            "d4f59515a3414579bbef9bb4092bbbc6",
            "2e0b73cd1ff64ccca5bf66f94a2a9730",
            "62c61637eef0470395f48ea128993a1e",
            "e97461e22f58469b811c5583b88c9e43",
            "fe733f5d2a02400bbc8d6eaa940d8f64",
            "568aeb7e0e3b4af0ad62fb9ddcae7558",
            "d7440bd7e5274b5981cf3eaf95c45966"
          ]
        },
        "outputId": "4747c8af-d450-4a3b-909d-873ecf778348"
      },
      "execution_count": 21,
      "outputs": [
        {
          "output_type": "display_data",
          "data": {
            "text/plain": [
              "Map(bottom=14618.0, center=[22.12381042563998, 91.6267995528926], controls=(WidgetControl(options=['position',…"
            ],
            "application/vnd.jupyter.widget-view+json": {
              "version_major": 2,
              "version_minor": 0,
              "model_id": "3ab9e8dc5b694a41bb0426fd4a41e0ba"
            }
          },
          "metadata": {
            "application/vnd.jupyter.widget-view+json": {
              "colab": {
                "custom_widget_manager": {
                  "url": "https://ssl.gstatic.com/colaboratory-static/widgets/colab-cdn-widget-manager/d2e234f7cc04bf79/manager.min.js"
                }
              }
            }
          }
        }
      ]
    },
    {
      "cell_type": "code",
      "source": [
        "# Compute the NDVI for clipped images/aoi\n",
        "ndvi = (nir_band_clipped.subtract(red_band_clipped)).divide(  (nir_band_clipped.add(red_band_clipped)) ).rename('NDVI')\n",
        "\n",
        "# visualize the ndvi\n",
        "ndviPar = {\n",
        "    'min': 0.4, \n",
        "    'max': 0.54, \n",
        "    'palette': ['red', 'yellow', 'green']\n",
        "           }\n",
        "\n",
        "Map.addLayer(ndvi, ndviPar, 'NDVI of AOI')\n",
        "Map.centerObject(ndvi, zoom = 11)\n",
        "Map\n"
      ],
      "metadata": {
        "id": "XPnejNuc-ow0",
        "colab": {
          "base_uri": "https://localhost:8080/",
          "height": 621,
          "referenced_widgets": [
            "3ab9e8dc5b694a41bb0426fd4a41e0ba",
            "d31cd3451725414bbd5bc9eaca0d4953",
            "d8ca5b0691294342bdf85e0e17b95c7f",
            "f7e2acb3b340435a94e3f53c184687c7",
            "0ad781d1a0f5484094a410def796473c",
            "86caa21e58994692a48055f9e264a0ba",
            "2e074fcef6e94ebbb675137e136b40de",
            "695efaae4c1a4c3691e5fbab9dc7abd5",
            "7a83baaae46549eead24b0a1bc7af9c6",
            "2e5bf1bceef543bab7a39ca625ec96af",
            "10882b5c97864cdab62bb712ec25dbad",
            "022f6c5ef8cf45a3b309a582232c3f12",
            "1be47f4cb96b4dc2b53162b10fbf18a5",
            "568aeb7e0e3b4af0ad62fb9ddcae7558",
            "d7440bd7e5274b5981cf3eaf95c45966",
            "3caaadd4480044fe89f48946104e12e2",
            "c78c6aa18bef411b9ec928d9e661f2d3",
            "3049e71df1f14700bb9a3ce190303844",
            "bd269f635cb64b75b891201dd66b5f9d",
            "7b6ee01a14e24881b6005c7fec87bfaf",
            "3e39fa36f49c4c19b5994bec676abfa4",
            "89bc493d0f1d4de4bda88ab33b5f6087",
            "0521b85617614a09a046005019fdb89f",
            "341858e55b504ffe8be28c234fb9dbb9",
            "8d6775e5f18d45108268eaaf4e2c5c6d",
            "8cf4cee94625426eb73186c8059e9bd7"
          ]
        },
        "outputId": "5ff9b0ad-fbed-4bc5-861c-196638f32c44"
      },
      "execution_count": 78,
      "outputs": [
        {
          "output_type": "display_data",
          "data": {
            "text/plain": [
              "Map(bottom=752.0, center=[21.667712612943202, 91.61241607266717], controls=(WidgetControl(options=['position',…"
            ],
            "application/vnd.jupyter.widget-view+json": {
              "version_major": 2,
              "version_minor": 0,
              "model_id": "3ab9e8dc5b694a41bb0426fd4a41e0ba"
            }
          },
          "metadata": {
            "application/vnd.jupyter.widget-view+json": {
              "colab": {
                "custom_widget_manager": {
                  "url": "https://ssl.gstatic.com/colaboratory-static/widgets/colab-cdn-widget-manager/d2e234f7cc04bf79/manager.min.js"
                }
              }
            }
          }
        }
      ]
    },
    {
      "cell_type": "code",
      "source": [
        "ndvi.getInfo()"
      ],
      "metadata": {
        "id": "-0BtAbyT-o2P",
        "colab": {
          "base_uri": "https://localhost:8080/"
        },
        "outputId": "6443c342-17fe-4f62-e08e-78639f08bab9"
      },
      "execution_count": 23,
      "outputs": [
        {
          "output_type": "execute_result",
          "data": {
            "text/plain": [
              "{'type': 'Image',\n",
              " 'bands': [{'id': 'NDVI',\n",
              "   'data_type': {'type': 'PixelType', 'precision': 'float'},\n",
              "   'dimensions': [7661, 7801],\n",
              "   'crs': 'EPSG:32646',\n",
              "   'crs_transform': [30, 0, 241485, 0, -30, 2513715]}]}"
            ]
          },
          "metadata": {},
          "execution_count": 23
        }
      ]
    },
    {
      "cell_type": "code",
      "source": [
        "##MIN NDVI VALUE\n",
        "\n",
        "min_ndvi = ee.Number(ndvi.reduceRegion(**{\n",
        "  \"reducer\": ee.Reducer.min(),\n",
        "  \"scale\": 30,\n",
        "  \"maxPixels\": 10**9\n",
        "  }).values().get(0))\n",
        "print('min value of NDVI',min_ndvi.getInfo())"
      ],
      "metadata": {
        "id": "URH6kMhp-o5g",
        "colab": {
          "base_uri": "https://localhost:8080/"
        },
        "outputId": "e80e982b-cf73-49f1-f042-5feab1b3253b"
      },
      "execution_count": 25,
      "outputs": [
        {
          "output_type": "stream",
          "name": "stdout",
          "text": [
            "min value of NDVI -0.37243403175430867\n"
          ]
        }
      ]
    },
    {
      "cell_type": "code",
      "source": [
        "max_ndvi = ee.Number(ndvi.reduceRegion(**{\n",
        "\"reducer\": ee.Reducer.max(),\n",
        "\"scale\": 30,\n",
        "\"maxPixels\": 10**9\n",
        "}).values().get(0));\n",
        "print('max value of NDVI',max_ndvi.getInfo())"
      ],
      "metadata": {
        "id": "JeyrR5Vj-o_s",
        "colab": {
          "base_uri": "https://localhost:8080/"
        },
        "outputId": "08f352b8-4926-4cfe-c3a0-1c46f7cf7d16"
      },
      "execution_count": 27,
      "outputs": [
        {
          "output_type": "stream",
          "name": "stdout",
          "text": [
            "max value of NDVI 0.738098396337262\n"
          ]
        }
      ]
    },
    {
      "cell_type": "code",
      "source": [
        "#proportional vegetation\n",
        "\n",
        "pv =(ndvi.subtract(min_ndvi).divide(max_ndvi.subtract(min_ndvi))).pow(ee.Number(2)).rename('PV')"
      ],
      "metadata": {
        "id": "k5vLsDT1FkeP"
      },
      "execution_count": 28,
      "outputs": []
    },
    {
      "cell_type": "code",
      "source": [
        "pv_max = ee.Number(pv.reduceRegion(**{\n",
        "  \"reducer\": ee.Reducer.max(),\n",
        "  \"scale\": 30,\n",
        "  \"maxPixels\": 10**9\n",
        "}).values().get(0));\n",
        "print( 'max value of pv',pv_max.getInfo())"
      ],
      "metadata": {
        "id": "TtNJaYE0JHRy",
        "colab": {
          "base_uri": "https://localhost:8080/"
        },
        "outputId": "73fe5fd9-942d-4b28-e848-68000f7c10e0"
      },
      "execution_count": 30,
      "outputs": [
        {
          "output_type": "stream",
          "name": "stdout",
          "text": [
            "max value of pv 1\n"
          ]
        }
      ]
    },
    {
      "cell_type": "code",
      "source": [
        "##MIN pv VALUE\n",
        "\n",
        "min_pv = ee.Number(pv.reduceRegion(**{\n",
        "  \"reducer\": ee.Reducer.min(),\n",
        "  \"scale\": 30,\n",
        "  \"maxPixels\": 10**9\n",
        "  }).values().get(0))\n",
        "print('min value of pv',min_pv.getInfo())\n",
        "\n",
        "\n"
      ],
      "metadata": {
        "id": "xxPZTNgzKM3U",
        "colab": {
          "base_uri": "https://localhost:8080/"
        },
        "outputId": "3a7572cc-e705-48e2-b823-9dbf26ee494b"
      },
      "execution_count": 31,
      "outputs": [
        {
          "output_type": "stream",
          "name": "stdout",
          "text": [
            "min value of pv 0\n"
          ]
        }
      ]
    },
    {
      "cell_type": "code",
      "source": [
        "Map.addLayer(pv, ndviPar, 'Proportional Vegetation')\n",
        "Map.centerObject(pv, zoom = 11)\n",
        "Map.clear_layers()\n",
        "Map.add_basemap()\n",
        "Map.center_object(aoi)\n",
        "Map.add_layer(pv)\n",
        "Map"
      ],
      "metadata": {
        "id": "Nsvj4UWQXomr",
        "colab": {
          "base_uri": "https://localhost:8080/",
          "height": 621,
          "referenced_widgets": [
            "3ab9e8dc5b694a41bb0426fd4a41e0ba",
            "d31cd3451725414bbd5bc9eaca0d4953",
            "d8ca5b0691294342bdf85e0e17b95c7f",
            "f7e2acb3b340435a94e3f53c184687c7",
            "0ad781d1a0f5484094a410def796473c",
            "86caa21e58994692a48055f9e264a0ba",
            "2e074fcef6e94ebbb675137e136b40de",
            "695efaae4c1a4c3691e5fbab9dc7abd5",
            "7a83baaae46549eead24b0a1bc7af9c6",
            "2e5bf1bceef543bab7a39ca625ec96af",
            "10882b5c97864cdab62bb712ec25dbad",
            "022f6c5ef8cf45a3b309a582232c3f12",
            "1be47f4cb96b4dc2b53162b10fbf18a5",
            "62c61637eef0470395f48ea128993a1e",
            "3caaadd4480044fe89f48946104e12e2",
            "c78c6aa18bef411b9ec928d9e661f2d3",
            "3049e71df1f14700bb9a3ce190303844",
            "bd269f635cb64b75b891201dd66b5f9d",
            "7b6ee01a14e24881b6005c7fec87bfaf",
            "3e39fa36f49c4c19b5994bec676abfa4",
            "89bc493d0f1d4de4bda88ab33b5f6087",
            "0521b85617614a09a046005019fdb89f",
            "341858e55b504ffe8be28c234fb9dbb9",
            "8d6775e5f18d45108268eaaf4e2c5c6d",
            "8cf4cee94625426eb73186c8059e9bd7",
            "e97461e22f58469b811c5583b88c9e43",
            "fe733f5d2a02400bbc8d6eaa940d8f64",
            "568aeb7e0e3b4af0ad62fb9ddcae7558",
            "d7440bd7e5274b5981cf3eaf95c45966"
          ]
        },
        "outputId": "4ee1af61-8983-4763-8ad3-163b1625356d"
      },
      "execution_count": 45,
      "outputs": [
        {
          "output_type": "display_data",
          "data": {
            "text/plain": [
              "Map(bottom=14742.0, center=[21.667712612943202, 91.61241607266717], controls=(WidgetControl(options=['position…"
            ],
            "application/vnd.jupyter.widget-view+json": {
              "version_major": 2,
              "version_minor": 0,
              "model_id": "3ab9e8dc5b694a41bb0426fd4a41e0ba"
            }
          },
          "metadata": {
            "application/vnd.jupyter.widget-view+json": {
              "colab": {
                "custom_widget_manager": {
                  "url": "https://ssl.gstatic.com/colaboratory-static/widgets/colab-cdn-widget-manager/d2e234f7cc04bf79/manager.min.js"
                }
              }
            }
          }
        }
      ]
    },
    {
      "cell_type": "code",
      "source": [
        "#Emissivity\n",
        "a= ee.Number(0.004);\n",
        "b= ee.Number(0.986);\n",
        "em=pv.multiply(a).add(b).rename('EM');\n",
        "\n",
        "# Map.addLayer(em, {min:0.98, max:0.99, palette: ['gray','yellow','green']}, 'Em');"
      ],
      "metadata": {
        "id": "KHYclSE8ZUg2"
      },
      "execution_count": 57,
      "outputs": []
    },
    {
      "cell_type": "code",
      "source": [
        "# minmax = ee.Number(pv.reduceRegion(**{\n",
        "#   \"reducer\": ee.Reducer.minMax(),\n",
        "#   \"scale\": 30,\n",
        "#   \"maxPixels\": 10**9\n",
        "#   }).values())\n"
      ],
      "metadata": {
        "id": "FCpS_RioKkf8"
      },
      "execution_count": 54,
      "outputs": []
    },
    {
      "cell_type": "code",
      "source": [
        "# minmax.getInfo()"
      ],
      "metadata": {
        "id": "1ZgVBvbyoko3"
      },
      "execution_count": 58,
      "outputs": []
    },
    {
      "cell_type": "code",
      "source": [
        "# minmax.getInfo()"
      ],
      "metadata": {
        "id": "QMQwydshoTnK"
      },
      "execution_count": 59,
      "outputs": []
    },
    {
      "cell_type": "code",
      "source": [
        "emmax = ee.Number(em.reduceRegion(**{\n",
        "  \"reducer\": ee.Reducer.max(),\n",
        "  \"scale\": 30,\n",
        "  \"maxPixels\": 10**9\n",
        "  }).values().get(0))\n",
        "print(emmax.getInfo())"
      ],
      "metadata": {
        "id": "p6e56NdeLMDA",
        "colab": {
          "base_uri": "https://localhost:8080/"
        },
        "outputId": "1450afa0-1c66-466f-94cc-cd154163d169"
      },
      "execution_count": 60,
      "outputs": [
        {
          "output_type": "stream",
          "name": "stdout",
          "text": [
            "0.99\n"
          ]
        }
      ]
    },
    {
      "cell_type": "code",
      "source": [
        "emmin = ee.Number(em.reduceRegion(**{\n",
        "  \"reducer\": ee.Reducer.min(),\n",
        "  \"scale\": 30,\n",
        "  \"maxPixels\": 10**9\n",
        "  }).values().get(0))\n",
        "print(emmin.getInfo())"
      ],
      "metadata": {
        "id": "CO6FDdKgMmoM",
        "colab": {
          "base_uri": "https://localhost:8080/"
        },
        "outputId": "0895df04-03ab-45aa-ea40-2733755cac94"
      },
      "execution_count": 61,
      "outputs": [
        {
          "output_type": "stream",
          "name": "stdout",
          "text": [
            "0.986\n"
          ]
        }
      ]
    },
    {
      "cell_type": "code",
      "source": [
        "# Land surface temperature (LST) in C\n",
        "LST = thermal_band_clipped.expression(\n",
        "'(Tb/(1 + (10.8* (Tb / 14388))*log(EM)))-273.15', {\n",
        " 'Tb': thermal_band_clipped,\n",
        "'EM': em.select('EM')\n",
        "}).rename('LST')\n"
      ],
      "metadata": {
        "id": "0n5fNVc9apwz"
      },
      "execution_count": 62,
      "outputs": []
    },
    {
      "cell_type": "code",
      "source": [
        "LSTParams = {\n",
        "    'min':27.115292564360516, \n",
        "    'max':31.653865373204212, \n",
        "    'palette': ['gray','yellow','green']\n",
        "    }"
      ],
      "metadata": {
        "id": "nAmLzlGPtdMq"
      },
      "execution_count": 63,
      "outputs": []
    },
    {
      "cell_type": "code",
      "source": [
        "lstmin = ee.Number(LST.reduceRegion(**{\n",
        "  \"reducer\": ee.Reducer.min(),\n",
        "  \"scale\": 30,\n",
        "  \"maxPixels\": 10**9\n",
        "  }).values().get(0))\n",
        "print(lstmin.getInfo())"
      ],
      "metadata": {
        "id": "9yQU5cA2NL2a",
        "colab": {
          "base_uri": "https://localhost:8080/"
        },
        "outputId": "490f3463-4757-4b79-e022-cbe3907d94e4"
      },
      "execution_count": 64,
      "outputs": [
        {
          "output_type": "stream",
          "name": "stdout",
          "text": [
            "24.61047603870543\n"
          ]
        }
      ]
    },
    {
      "cell_type": "code",
      "source": [
        "lstmax = ee.Number(LST.reduceRegion(**{\n",
        "  \"reducer\": ee.Reducer.max(),\n",
        "  \"scale\": 30,\n",
        "  \"maxPixels\": 10**9\n",
        "  }).values().get(0))\n",
        "print(lstmax.getInfo())"
      ],
      "metadata": {
        "id": "XK-oWUBZNWby",
        "colab": {
          "base_uri": "https://localhost:8080/"
        },
        "outputId": "d42272cd-209f-4c1a-d016-dd1e8876a9c3"
      },
      "execution_count": 65,
      "outputs": [
        {
          "output_type": "stream",
          "name": "stdout",
          "text": [
            "33.958986269391005\n"
          ]
        }
      ]
    },
    {
      "cell_type": "code",
      "source": [
        "Map.addLayer(LST, LSTParams, 'LandSurfaceTemperature')\n",
        "Map.center_object(aoi,zoom=5)\n",
        "Map"
      ],
      "metadata": {
        "id": "M6zAX-_mcuC_",
        "colab": {
          "base_uri": "https://localhost:8080/",
          "height": 621,
          "referenced_widgets": [
            "3ab9e8dc5b694a41bb0426fd4a41e0ba",
            "d31cd3451725414bbd5bc9eaca0d4953",
            "d8ca5b0691294342bdf85e0e17b95c7f",
            "f7e2acb3b340435a94e3f53c184687c7",
            "0ad781d1a0f5484094a410def796473c",
            "86caa21e58994692a48055f9e264a0ba",
            "2e074fcef6e94ebbb675137e136b40de",
            "695efaae4c1a4c3691e5fbab9dc7abd5",
            "7a83baaae46549eead24b0a1bc7af9c6",
            "2e5bf1bceef543bab7a39ca625ec96af",
            "10882b5c97864cdab62bb712ec25dbad",
            "022f6c5ef8cf45a3b309a582232c3f12",
            "1be47f4cb96b4dc2b53162b10fbf18a5",
            "568aeb7e0e3b4af0ad62fb9ddcae7558",
            "3caaadd4480044fe89f48946104e12e2",
            "c78c6aa18bef411b9ec928d9e661f2d3",
            "3049e71df1f14700bb9a3ce190303844",
            "bd269f635cb64b75b891201dd66b5f9d",
            "7b6ee01a14e24881b6005c7fec87bfaf",
            "3e39fa36f49c4c19b5994bec676abfa4",
            "89bc493d0f1d4de4bda88ab33b5f6087",
            "0521b85617614a09a046005019fdb89f",
            "341858e55b504ffe8be28c234fb9dbb9",
            "8d6775e5f18d45108268eaaf4e2c5c6d",
            "8cf4cee94625426eb73186c8059e9bd7",
            "d7440bd7e5274b5981cf3eaf95c45966"
          ]
        },
        "outputId": "2a9b3e5d-0c7c-4c7b-b9a8-4a5cf7fe3b0f"
      },
      "execution_count": 68,
      "outputs": [
        {
          "output_type": "display_data",
          "data": {
            "text/plain": [
              "Map(bottom=2101.0, center=[21.198233064130157, 92.15051686742379], controls=(WidgetControl(options=['position'…"
            ],
            "application/vnd.jupyter.widget-view+json": {
              "version_major": 2,
              "version_minor": 0,
              "model_id": "3ab9e8dc5b694a41bb0426fd4a41e0ba"
            }
          },
          "metadata": {
            "application/vnd.jupyter.widget-view+json": {
              "colab": {
                "custom_widget_manager": {
                  "url": "https://ssl.gstatic.com/colaboratory-static/widgets/colab-cdn-widget-manager/d2e234f7cc04bf79/manager.min.js"
                }
              }
            }
          }
        }
      ]
    },
    {
      "cell_type": "code",
      "source": [
        "# // Export the image, specifying the CRS, transform, and region.\n",
        "task = ee.batch.Export.image.toDrive(image=LST,\n",
        "                                     scale=30,\n",
        "                                     fileFormat='GeoTIFF',\n",
        "                                     description='Kutupalong',\n",
        "                                     folder='lst_files',\n",
        "                                     maxPixels=1e9)\n",
        "\n",
        "task.start()"
      ],
      "metadata": {
        "id": "r5qL22ZygWqb"
      },
      "execution_count": 88,
      "outputs": []
    }
  ]
}